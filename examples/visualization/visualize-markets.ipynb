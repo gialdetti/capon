{
 "cells": [
  {
   "cell_type": "markdown",
   "id": "f8371bff",
   "metadata": {},
   "source": [
    "# Market Performance Visualization\n",
    "---"
   ]
  },
  {
   "cell_type": "code",
   "execution_count": 1,
   "id": "c624dfe1",
   "metadata": {
    "ExecuteTime": {
     "end_time": "2022-07-10T18:17:15.685041Z",
     "start_time": "2022-07-10T18:17:15.680967Z"
    }
   },
   "outputs": [],
   "source": [
    "# # Install libraries - uncomment if running on a new environment (e.g., Colab)\n",
    "# !pip install matplotlib altair\n",
    "# !pip install --upgrade themes"
   ]
  },
  {
   "cell_type": "code",
   "execution_count": 2,
   "id": "171daa8e",
   "metadata": {
    "ExecuteTime": {
     "end_time": "2022-07-10T18:17:16.259856Z",
     "start_time": "2022-07-10T18:17:15.686901Z"
    }
   },
   "outputs": [],
   "source": [
    "import capon\n",
    "import themes\n",
    "\n",
    "from capon.datasets import load_stock_indexes\n",
    "\n",
    "\n",
    "themes.register(enable=\"capon\")"
   ]
  },
  {
   "cell_type": "markdown",
   "id": "096fee1c",
   "metadata": {},
   "source": [
    "## The Data"
   ]
  },
  {
   "cell_type": "code",
   "execution_count": 3,
   "id": "d400ab82",
   "metadata": {
    "ExecuteTime": {
     "end_time": "2022-07-10T18:17:16.263869Z",
     "start_time": "2022-07-10T18:17:16.260715Z"
    }
   },
   "outputs": [
    {
     "data": {
      "text/html": [
       "<div>\n",
       "<style scoped>\n",
       "    .dataframe tbody tr th:only-of-type {\n",
       "        vertical-align: middle;\n",
       "    }\n",
       "\n",
       "    .dataframe tbody tr th {\n",
       "        vertical-align: top;\n",
       "    }\n",
       "\n",
       "    .dataframe thead th {\n",
       "        text-align: right;\n",
       "    }\n",
       "</style>\n",
       "<table border=\"1\" class=\"dataframe\">\n",
       "  <thead>\n",
       "    <tr style=\"text-align: right;\">\n",
       "      <th></th>\n",
       "      <th>symbol</th>\n",
       "      <th>name</th>\n",
       "      <th>description</th>\n",
       "      <th>country_code</th>\n",
       "      <th>city</th>\n",
       "    </tr>\n",
       "  </thead>\n",
       "  <tbody>\n",
       "    <tr>\n",
       "      <th>0</th>\n",
       "      <td>^GSPC</td>\n",
       "      <td>S&amp;P 500</td>\n",
       "      <td>S&amp;P 500 Index (SPX)</td>\n",
       "      <td>US</td>\n",
       "      <td>New York</td>\n",
       "    </tr>\n",
       "    <tr>\n",
       "      <th>1</th>\n",
       "      <td>^DJI</td>\n",
       "      <td>Dow 30</td>\n",
       "      <td>Dow Jones Industrial Average (DJIA)</td>\n",
       "      <td>US</td>\n",
       "      <td>New York</td>\n",
       "    </tr>\n",
       "    <tr>\n",
       "      <th>2</th>\n",
       "      <td>^IXIC</td>\n",
       "      <td>Nasdaq</td>\n",
       "      <td>NASDAQ Composite Index (COMP)</td>\n",
       "      <td>US</td>\n",
       "      <td>New York</td>\n",
       "    </tr>\n",
       "    <tr>\n",
       "      <th>3</th>\n",
       "      <td>^RUT</td>\n",
       "      <td>Russell 2000</td>\n",
       "      <td>Russell 2000 Index (RUT)</td>\n",
       "      <td>US</td>\n",
       "      <td>New York</td>\n",
       "    </tr>\n",
       "  </tbody>\n",
       "</table>\n",
       "</div>"
      ],
      "text/plain": [
       "  symbol          name                          description country_code  \\\n",
       "0  ^GSPC       S&P 500                  S&P 500 Index (SPX)           US   \n",
       "1   ^DJI        Dow 30  Dow Jones Industrial Average (DJIA)           US   \n",
       "2  ^IXIC        Nasdaq        NASDAQ Composite Index (COMP)           US   \n",
       "3   ^RUT  Russell 2000             Russell 2000 Index (RUT)           US   \n",
       "\n",
       "       city  \n",
       "0  New York  \n",
       "1  New York  \n",
       "2  New York  \n",
       "3  New York  "
      ]
     },
     "execution_count": 3,
     "metadata": {},
     "output_type": "execute_result"
    }
   ],
   "source": [
    "indices_tickers = load_stock_indexes().query(\"country_code=='US'\")\n",
    "indices_tickers"
   ]
  },
  {
   "cell_type": "code",
   "execution_count": 4,
   "id": "33ad7a62",
   "metadata": {
    "ExecuteTime": {
     "end_time": "2022-07-10T18:17:16.325353Z",
     "start_time": "2022-07-10T18:17:16.265282Z"
    }
   },
   "outputs": [
    {
     "data": {
      "application/vnd.jupyter.widget-view+json": {
       "model_id": "dbbde8cab23446eb808db25e025084b0",
       "version_major": 2,
       "version_minor": 0
      },
      "text/plain": [
       "  0%|          | 0/4 [00:00<?, ?it/s]"
      ]
     },
     "metadata": {},
     "output_type": "display_data"
    }
   ],
   "source": [
    "indices = capon.stocks(\n",
    "    indices_tickers[\"symbol\"],\n",
    "    start=\"2019-10-01\",\n",
    "    end=\"2025-01-01\",\n",
    "    interval=\"1d\",\n",
    "    n_jobs=-1,\n",
    ")\n",
    "indices"
   ]
  },
  {
   "cell_type": "markdown",
   "id": "1402e09f",
   "metadata": {},
   "source": [
    "## Plot"
   ]
  },
  {
   "cell_type": "code",
   "execution_count": null,
   "id": "74b44103",
   "metadata": {},
   "outputs": [],
   "source": [
    "capon.plot(indices)"
   ]
  },
  {
   "cell_type": "code",
   "execution_count": null,
   "id": "ef3dab45",
   "metadata": {
    "ExecuteTime": {
     "end_time": "2022-07-10T18:17:16.400381Z",
     "start_time": "2022-07-10T18:17:16.328404Z"
    }
   },
   "outputs": [],
   "source": [
    "capon.plot(indices, normalize=\"2020-01-01\", title=\"Market Indices Change\")"
   ]
  },
  {
   "cell_type": "markdown",
   "id": "32282873",
   "metadata": {},
   "source": [
    "(Under the hood, [`capon`](https://github.com/gialdetti/capon) used the [`altair`](https://altair-viz.github.io) visualization library here)"
   ]
  }
 ],
 "metadata": {
  "hide_input": false,
  "kernelspec": {
   "display_name": "Python 3 (ipykernel)",
   "language": "python",
   "name": "python3"
  },
  "language_info": {
   "codemirror_mode": {
    "name": "ipython",
    "version": 3
   },
   "file_extension": ".py",
   "mimetype": "text/x-python",
   "name": "python",
   "nbconvert_exporter": "python",
   "pygments_lexer": "ipython3",
   "version": "3.10.14"
  },
  "toc": {
   "base_numbering": 1,
   "nav_menu": {},
   "number_sections": true,
   "sideBar": true,
   "skip_h1_title": true,
   "title_cell": "Table of Contents",
   "title_sidebar": "Contents",
   "toc_cell": false,
   "toc_position": {},
   "toc_section_display": true,
   "toc_window_display": true
  }
 },
 "nbformat": 4,
 "nbformat_minor": 5
}
