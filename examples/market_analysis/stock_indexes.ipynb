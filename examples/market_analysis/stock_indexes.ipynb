{
 "cells": [
  {
   "cell_type": "markdown",
   "metadata": {},
   "source": [
    "# 2020 Stock Market Crash and Rebound Amid Coronavirus\n",
    "---\n",
    "\n",
    "In this tutorial, we will demonstrate the usage of market indexes."
   ]
  },
  {
   "cell_type": "code",
   "execution_count": 1,
   "metadata": {
    "ExecuteTime": {
     "end_time": "2020-06-14T13:15:41.388813Z",
     "start_time": "2020-06-14T13:15:40.844601Z"
    }
   },
   "outputs": [
    {
     "ename": "ImportError",
     "evalue": "cannot import name 'load_metadata' from 'capon.datasets.metadata' (/Users/eyalgal/Dropbox/PhD/Code/capon/capon/datasets/metadata.py)",
     "output_type": "error",
     "traceback": [
      "\u001b[0;31m---------------------------------------------------------------------------\u001b[0m",
      "\u001b[0;31mImportError\u001b[0m                               Traceback (most recent call last)",
      "\u001b[0;32m<ipython-input-1-3dae2473374a>\u001b[0m in \u001b[0;36m<module>\u001b[0;34m\u001b[0m\n\u001b[1;32m      2\u001b[0m \u001b[0;34m\u001b[0m\u001b[0m\n\u001b[1;32m      3\u001b[0m \u001b[0;32mimport\u001b[0m \u001b[0mcapon\u001b[0m\u001b[0;34m\u001b[0m\u001b[0;34m\u001b[0m\u001b[0m\n\u001b[0;32m----> 4\u001b[0;31m \u001b[0;32mfrom\u001b[0m \u001b[0mcapon\u001b[0m\u001b[0;34m.\u001b[0m\u001b[0mdatasets\u001b[0m \u001b[0;32mimport\u001b[0m \u001b[0mload_stock_indexes\u001b[0m\u001b[0;34m\u001b[0m\u001b[0;34m\u001b[0m\u001b[0m\n\u001b[0m",
      "\u001b[0;32m~/Dropbox/PhD/Code/capon/capon/datasets/__init__.py\u001b[0m in \u001b[0;36m<module>\u001b[0;34m\u001b[0m\n\u001b[0;32m----> 1\u001b[0;31m \u001b[0;32mfrom\u001b[0m \u001b[0;34m.\u001b[0m\u001b[0mmetadata\u001b[0m \u001b[0;32mimport\u001b[0m \u001b[0mload_stock_indexes\u001b[0m\u001b[0;34m,\u001b[0m \u001b[0mload_metadata\u001b[0m\u001b[0;34m\u001b[0m\u001b[0;34m\u001b[0m\u001b[0m\n\u001b[0m",
      "\u001b[0;31mImportError\u001b[0m: cannot import name 'load_metadata' from 'capon.datasets.metadata' (/Users/eyalgal/Dropbox/PhD/Code/capon/capon/datasets/metadata.py)"
     ]
    }
   ],
   "source": [
    "import pandas as pd\n",
    "\n",
    "import capon\n",
    "from capon.datasets import load_stock_indexes"
   ]
  },
  {
   "cell_type": "markdown",
   "metadata": {},
   "source": [
    "## Market Indexes Historical Data"
   ]
  },
  {
   "cell_type": "markdown",
   "metadata": {},
   "source": [
    "First, we need the tick symbols of the required index(es).\n",
    "\n",
    "If we don't know it, we can obviously use Yahoo's [Major World Indices](https://finance.yahoo.com/world-indices/) page. Or, alternatively, we can get it from `capon`'s datasets using `load_stock_indexes()`."
   ]
  },
  {
   "cell_type": "code",
   "execution_count": null,
   "metadata": {
    "ExecuteTime": {
     "end_time": "2020-06-14T13:15:41.392186Z",
     "start_time": "2020-06-14T13:15:40.845Z"
    }
   },
   "outputs": [],
   "source": [
    "stock_indexes = load_stock_indexes()\n",
    "display(stock_indexes)"
   ]
  },
  {
   "cell_type": "markdown",
   "metadata": {},
   "source": [
    "Now, we can fetch hisotrical data for the relevant indexes using `capon.stock(symbol)`."
   ]
  },
  {
   "cell_type": "code",
   "execution_count": null,
   "metadata": {
    "ExecuteTime": {
     "end_time": "2020-06-14T13:15:41.395198Z",
     "start_time": "2020-06-14T13:15:40.847Z"
    }
   },
   "outputs": [],
   "source": [
    "key_indexes = ['^GSPC', '^DJI', '^IXIC', '^RUT']"
   ]
  },
  {
   "cell_type": "code",
   "execution_count": null,
   "metadata": {
    "ExecuteTime": {
     "end_time": "2020-06-14T13:15:41.397557Z",
     "start_time": "2020-06-14T13:15:40.849Z"
    }
   },
   "outputs": [],
   "source": [
    "indexes = pd.concat([capon.stock(tick, range='1y', interval='1d') \n",
    "                    for tick in key_indexes], sort=False)\n",
    "indexes = indexes[pd.to_datetime(indexes['timestamp'], utc=True).dt.year == 2020]\n",
    "indexes"
   ]
  },
  {
   "cell_type": "markdown",
   "metadata": {},
   "source": [
    "That's it! We have our data."
   ]
  },
  {
   "cell_type": "code",
   "execution_count": null,
   "metadata": {
    "ExecuteTime": {
     "end_time": "2020-06-14T13:15:41.399316Z",
     "start_time": "2020-06-14T13:15:40.851Z"
    }
   },
   "outputs": [],
   "source": [
    "import plotly.express as px\n",
    "px.defaults.template = 'none'\n",
    "\n",
    "px.line(indexes, x='timestamp', y='adjclose', color='symbol')"
   ]
  },
  {
   "cell_type": "markdown",
   "metadata": {},
   "source": [
    "## Coronavirus Crash and Rebound"
   ]
  },
  {
   "cell_type": "markdown",
   "metadata": {},
   "source": [
    "To quantify the crash and the level of rebound, let us normalize all indexes to their status prior to the Coronavirus crash. Specifically, we will use the values from 2020-02-19, which was the date of the S&P all time high (prior to the crash)."
   ]
  },
  {
   "cell_type": "markdown",
   "metadata": {},
   "source": [
    "For the sake of `pandas` plotting we should transform the data into a wide form"
   ]
  },
  {
   "cell_type": "code",
   "execution_count": null,
   "metadata": {
    "ExecuteTime": {
     "end_time": "2020-06-14T13:15:41.401446Z",
     "start_time": "2020-06-14T13:15:40.854Z"
    },
    "scrolled": false
   },
   "outputs": [],
   "source": [
    "indexes_ts = indexes \\\n",
    "    .assign(date=lambda df: pd.to_datetime(df['timestamp'].apply(lambda dt: dt.tz_localize(None).date()))) \\\n",
    "    .pivot_table(index='date', columns=['symbol'], values='adjclose') \\\n",
    "    .rename(stock_indexes.set_index('symbol')['name'], axis=1) \\\n",
    "    .loc['2020-01-01':]\n",
    "indexes_ts.head()"
   ]
  },
  {
   "cell_type": "markdown",
   "metadata": {
    "ExecuteTime": {
     "end_time": "2020-06-12T14:47:37.118902Z",
     "start_time": "2020-06-12T14:47:37.113278Z"
    }
   },
   "source": [
    "The S&P all time high will be used as the anchor for normalization."
   ]
  },
  {
   "cell_type": "code",
   "execution_count": null,
   "metadata": {
    "ExecuteTime": {
     "end_time": "2020-06-14T13:15:41.403639Z",
     "start_time": "2020-06-14T13:15:40.856Z"
    }
   },
   "outputs": [],
   "source": [
    "anchor = indexes_ts['S&P 500'].loc[:'2020-04-01'].idxmax()\n",
    "anchor"
   ]
  },
  {
   "cell_type": "markdown",
   "metadata": {
    "ExecuteTime": {
     "end_time": "2020-06-12T11:37:53.326104Z",
     "start_time": "2020-06-12T11:37:53.320546Z"
    }
   },
   "source": [
    "Normalizing index values to their value at anchor time, we get"
   ]
  },
  {
   "cell_type": "code",
   "execution_count": null,
   "metadata": {
    "ExecuteTime": {
     "end_time": "2020-06-14T13:15:41.418272Z",
     "start_time": "2020-06-14T13:15:40.858Z"
    }
   },
   "outputs": [],
   "source": [
    "anchor_values = indexes_ts.bfill().loc[anchor:].iloc[0]\n",
    "indexes_ts_normed = (indexes_ts/anchor_values).dropna()\n",
    "\n",
    "indexes_ts_normed.tail(5) \\\n",
    "    .style.format('{:+.2%}').background_gradient(axis=None)"
   ]
  },
  {
   "cell_type": "code",
   "execution_count": null,
   "metadata": {
    "ExecuteTime": {
     "end_time": "2020-06-14T13:15:41.420900Z",
     "start_time": "2020-06-14T13:15:40.860Z"
    }
   },
   "outputs": [],
   "source": [
    "fig = px.line(indexes_ts_normed.stack().to_frame('value').reset_index(),\n",
    "              x='date', y='value', color='symbol')\n",
    "fig.update_layout(yaxis_tickformat='%')\n",
    "fig.update_layout(shapes=[\n",
    "    dict(\n",
    "      type='line',\n",
    "      yref='paper', y0=0, y1=1, \n",
    "      xref='x', x0=anchor, x1=anchor,\n",
    "      line=dict(width=1.5, dash='dash', color='rgba(0,0,0,0.5)'),\n",
    "    )\n",
    "])"
   ]
  },
  {
   "cell_type": "markdown",
   "metadata": {},
   "source": [
    "We can see that the NASDAQ had the fastest recovery, and on 2020-06-10 even exceeded its prior value. Actually, Nasdaq hitted 10,000 for the first time ever!"
   ]
  }
 ],
 "metadata": {
  "hide_input": false,
  "kernelspec": {
   "display_name": "Python 3",
   "language": "python",
   "name": "python3"
  },
  "language_info": {
   "codemirror_mode": {
    "name": "ipython",
    "version": 3
   },
   "file_extension": ".py",
   "mimetype": "text/x-python",
   "name": "python",
   "nbconvert_exporter": "python",
   "pygments_lexer": "ipython3",
   "version": "3.7.3"
  },
  "toc": {
   "base_numbering": 1,
   "nav_menu": {},
   "number_sections": true,
   "sideBar": true,
   "skip_h1_title": true,
   "title_cell": "Table of Contents",
   "title_sidebar": "Contents",
   "toc_cell": false,
   "toc_position": {},
   "toc_section_display": true,
   "toc_window_display": true
  }
 },
 "nbformat": 4,
 "nbformat_minor": 2
}
