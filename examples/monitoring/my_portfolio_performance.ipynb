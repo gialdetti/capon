{
 "cells": [
  {
   "cell_type": "markdown",
   "metadata": {},
   "source": [
    "# My Stock Portfolio Performance\n",
    "---\n",
    "\n",
    "Track your personal stock portfolios with real-time data.\n",
    "\n",
    "Automatically determine your total gain, and track and compare historical performance."
   ]
  },
  {
   "cell_type": "code",
   "execution_count": 1,
   "metadata": {
    "ExecuteTime": {
     "end_time": "2020-05-19T17:37:06.633506Z",
     "start_time": "2020-05-19T17:37:05.462758Z"
    }
   },
   "outputs": [],
   "source": [
    "import logging; logging.basicConfig(format='[%(asctime)s] %(message)s', level=logging.INFO)\n",
    "\n",
    "import plotly.express as px\n",
    "px.defaults.template = 'plotly_dark'\n",
    "\n",
    "from capon import Portfolio, Lot"
   ]
  },
  {
   "cell_type": "markdown",
   "metadata": {},
   "source": [
    "## My Holdings"
   ]
  },
  {
   "cell_type": "code",
   "execution_count": 2,
   "metadata": {
    "ExecuteTime": {
     "end_time": "2020-05-19T17:37:06.662799Z",
     "start_time": "2020-05-19T17:37:06.635530Z"
    }
   },
   "outputs": [
    {
     "data": {
      "text/html": [
       "<div>\n",
       "<style scoped>\n",
       "    .dataframe tbody tr th:only-of-type {\n",
       "        vertical-align: middle;\n",
       "    }\n",
       "\n",
       "    .dataframe tbody tr th {\n",
       "        vertical-align: top;\n",
       "    }\n",
       "\n",
       "    .dataframe thead th {\n",
       "        text-align: right;\n",
       "    }\n",
       "</style>\n",
       "<table border=\"1\" class=\"dataframe\">\n",
       "  <thead>\n",
       "    <tr style=\"text-align: right;\">\n",
       "      <th></th>\n",
       "      <th>timestamp</th>\n",
       "      <th>symbol</th>\n",
       "      <th>quantity</th>\n",
       "      <th>price</th>\n",
       "      <th>cost</th>\n",
       "    </tr>\n",
       "  </thead>\n",
       "  <tbody>\n",
       "    <tr>\n",
       "      <th>0</th>\n",
       "      <td>2020-03-20</td>\n",
       "      <td>AMZN</td>\n",
       "      <td>2</td>\n",
       "      <td>1888.86</td>\n",
       "      <td>3777.72</td>\n",
       "    </tr>\n",
       "    <tr>\n",
       "      <th>1</th>\n",
       "      <td>2020-03-20</td>\n",
       "      <td>TSLA</td>\n",
       "      <td>8</td>\n",
       "      <td>451.40</td>\n",
       "      <td>3611.20</td>\n",
       "    </tr>\n",
       "    <tr>\n",
       "      <th>2</th>\n",
       "      <td>2020-03-23</td>\n",
       "      <td>GOOGL</td>\n",
       "      <td>3</td>\n",
       "      <td>1037.89</td>\n",
       "      <td>3113.67</td>\n",
       "    </tr>\n",
       "    <tr>\n",
       "      <th>3</th>\n",
       "      <td>2020-03-23</td>\n",
       "      <td>AMC</td>\n",
       "      <td>1041</td>\n",
       "      <td>2.88</td>\n",
       "      <td>2998.08</td>\n",
       "    </tr>\n",
       "    <tr>\n",
       "      <th>4</th>\n",
       "      <td>2020-03-27</td>\n",
       "      <td>ZM</td>\n",
       "      <td>20</td>\n",
       "      <td>150.29</td>\n",
       "      <td>3005.80</td>\n",
       "    </tr>\n",
       "  </tbody>\n",
       "</table>\n",
       "</div>"
      ],
      "text/plain": [
       "   timestamp symbol  quantity    price     cost\n",
       "0 2020-03-20   AMZN         2  1888.86  3777.72\n",
       "1 2020-03-20   TSLA         8   451.40  3611.20\n",
       "2 2020-03-23  GOOGL         3  1037.89  3113.67\n",
       "3 2020-03-23    AMC      1041     2.88  2998.08\n",
       "4 2020-03-27     ZM        20   150.29  3005.80"
      ]
     },
     "execution_count": 2,
     "metadata": {},
     "output_type": "execute_result"
    }
   ],
   "source": [
    "my_portfolio = Portfolio([\n",
    "    Lot('2020-03-20', 'AMZN',   2, 1888.86),\n",
    "    Lot('2020-03-20', 'TSLA',   8,  451.40),\n",
    "    Lot('2020-03-23', 'GOOGL',  3, 1037.89),\n",
    "    Lot('2020-03-23', 'AMC', 1041,    2.88),\n",
    "    Lot('2020-03-27', 'ZM',    20,  150.29),\n",
    "])\n",
    "\n",
    "my_portfolio.lots"
   ]
  },
  {
   "cell_type": "markdown",
   "metadata": {},
   "source": [
    "## Market Status"
   ]
  },
  {
   "cell_type": "code",
   "execution_count": 3,
   "metadata": {
    "ExecuteTime": {
     "end_time": "2020-05-19T17:37:10.031396Z",
     "start_time": "2020-05-19T17:37:06.667009Z"
    }
   },
   "outputs": [
    {
     "name": "stdout",
     "output_type": "stream",
     "text": [
      "['^GSPC', '^DJI', '^IXIC', '^RUT']\n"
     ]
    },
    {
     "name": "stderr",
     "output_type": "stream",
     "text": [
      "[2020-05-19 20:37:07,349] https://query1.finance.yahoo.com/v8/finance/chart/AMZN?region=US&lang=en-US&includePrePost=false&interval=1d&range=1y&corsDomain=finance.yahoo.com&.tsrc=finance.. 200\n",
      "[2020-05-19 20:37:07,849] https://query1.finance.yahoo.com/v8/finance/chart/TSLA?region=US&lang=en-US&includePrePost=false&interval=1d&range=1y&corsDomain=finance.yahoo.com&.tsrc=finance.. 200\n",
      "[2020-05-19 20:37:08,400] https://query1.finance.yahoo.com/v8/finance/chart/GOOGL?region=US&lang=en-US&includePrePost=false&interval=1d&range=1y&corsDomain=finance.yahoo.com&.tsrc=finance.. 200\n",
      "[2020-05-19 20:37:08,917] https://query1.finance.yahoo.com/v8/finance/chart/AMC?region=US&lang=en-US&includePrePost=false&interval=1d&range=1y&corsDomain=finance.yahoo.com&.tsrc=finance.. 200\n",
      "[2020-05-19 20:37:09,427] https://query1.finance.yahoo.com/v8/finance/chart/ZM?region=US&lang=en-US&includePrePost=false&interval=1d&range=1y&corsDomain=finance.yahoo.com&.tsrc=finance.. 200\n"
     ]
    },
    {
     "data": {
      "text/html": [
       "<style  type=\"text/css\" >\n",
       "    #T_5debfcaa_99f7_11ea_9b40_82d09608bc01row0_col8 {\n",
       "            color:  green;\n",
       "        }    #T_5debfcaa_99f7_11ea_9b40_82d09608bc01row0_col9 {\n",
       "            color:  green;\n",
       "        }    #T_5debfcaa_99f7_11ea_9b40_82d09608bc01row1_col8 {\n",
       "            color:  green;\n",
       "        }    #T_5debfcaa_99f7_11ea_9b40_82d09608bc01row1_col9 {\n",
       "            color:  green;\n",
       "        }    #T_5debfcaa_99f7_11ea_9b40_82d09608bc01row2_col8 {\n",
       "            color:  green;\n",
       "        }    #T_5debfcaa_99f7_11ea_9b40_82d09608bc01row2_col9 {\n",
       "            color:  green;\n",
       "        }    #T_5debfcaa_99f7_11ea_9b40_82d09608bc01row3_col8 {\n",
       "            color:  green;\n",
       "        }    #T_5debfcaa_99f7_11ea_9b40_82d09608bc01row3_col9 {\n",
       "            color:  green;\n",
       "        }    #T_5debfcaa_99f7_11ea_9b40_82d09608bc01row4_col8 {\n",
       "            color:  green;\n",
       "        }    #T_5debfcaa_99f7_11ea_9b40_82d09608bc01row4_col9 {\n",
       "            color:  green;\n",
       "        }</style><table id=\"T_5debfcaa_99f7_11ea_9b40_82d09608bc01\" ><thead>    <tr>        <th class=\"blank level0\" ></th>        <th class=\"col_heading level0 col0\" >timestamp_buy</th>        <th class=\"col_heading level0 col1\" >symbol</th>        <th class=\"col_heading level0 col2\" >quantity</th>        <th class=\"col_heading level0 col3\" >price_buy</th>        <th class=\"col_heading level0 col4\" >cost</th>        <th class=\"col_heading level0 col5\" >timestamp</th>        <th class=\"col_heading level0 col6\" >price</th>        <th class=\"col_heading level0 col7\" >value</th>        <th class=\"col_heading level0 col8\" >gain</th>        <th class=\"col_heading level0 col9\" >gain_pct</th>    </tr></thead><tbody>\n",
       "                <tr>\n",
       "                        <th id=\"T_5debfcaa_99f7_11ea_9b40_82d09608bc01level0_row0\" class=\"row_heading level0 row0\" >0</th>\n",
       "                        <td id=\"T_5debfcaa_99f7_11ea_9b40_82d09608bc01row0_col0\" class=\"data row0 col0\" >2020-03-23 12:00:00</td>\n",
       "                        <td id=\"T_5debfcaa_99f7_11ea_9b40_82d09608bc01row0_col1\" class=\"data row0 col1\" >AMC</td>\n",
       "                        <td id=\"T_5debfcaa_99f7_11ea_9b40_82d09608bc01row0_col2\" class=\"data row0 col2\" >1041</td>\n",
       "                        <td id=\"T_5debfcaa_99f7_11ea_9b40_82d09608bc01row0_col3\" class=\"data row0 col3\" >2.88</td>\n",
       "                        <td id=\"T_5debfcaa_99f7_11ea_9b40_82d09608bc01row0_col4\" class=\"data row0 col4\" >2,998.08</td>\n",
       "                        <td id=\"T_5debfcaa_99f7_11ea_9b40_82d09608bc01row0_col5\" class=\"data row0 col5\" >2020-05-19 16:00:00</td>\n",
       "                        <td id=\"T_5debfcaa_99f7_11ea_9b40_82d09608bc01row0_col6\" class=\"data row0 col6\" >4.61</td>\n",
       "                        <td id=\"T_5debfcaa_99f7_11ea_9b40_82d09608bc01row0_col7\" class=\"data row0 col7\" >4,799.01</td>\n",
       "                        <td id=\"T_5debfcaa_99f7_11ea_9b40_82d09608bc01row0_col8\" class=\"data row0 col8\" >+1,801</td>\n",
       "                        <td id=\"T_5debfcaa_99f7_11ea_9b40_82d09608bc01row0_col9\" class=\"data row0 col9\" >+60.07%</td>\n",
       "            </tr>\n",
       "            <tr>\n",
       "                        <th id=\"T_5debfcaa_99f7_11ea_9b40_82d09608bc01level0_row1\" class=\"row_heading level0 row1\" >1</th>\n",
       "                        <td id=\"T_5debfcaa_99f7_11ea_9b40_82d09608bc01row1_col0\" class=\"data row1 col0\" >2020-03-20 12:00:00</td>\n",
       "                        <td id=\"T_5debfcaa_99f7_11ea_9b40_82d09608bc01row1_col1\" class=\"data row1 col1\" >AMZN</td>\n",
       "                        <td id=\"T_5debfcaa_99f7_11ea_9b40_82d09608bc01row1_col2\" class=\"data row1 col2\" >2</td>\n",
       "                        <td id=\"T_5debfcaa_99f7_11ea_9b40_82d09608bc01row1_col3\" class=\"data row1 col3\" >1,888.86</td>\n",
       "                        <td id=\"T_5debfcaa_99f7_11ea_9b40_82d09608bc01row1_col4\" class=\"data row1 col4\" >3,777.72</td>\n",
       "                        <td id=\"T_5debfcaa_99f7_11ea_9b40_82d09608bc01row1_col5\" class=\"data row1 col5\" >2020-05-19 16:00:00</td>\n",
       "                        <td id=\"T_5debfcaa_99f7_11ea_9b40_82d09608bc01row1_col6\" class=\"data row1 col6\" >2,476.33</td>\n",
       "                        <td id=\"T_5debfcaa_99f7_11ea_9b40_82d09608bc01row1_col7\" class=\"data row1 col7\" >4,952.66</td>\n",
       "                        <td id=\"T_5debfcaa_99f7_11ea_9b40_82d09608bc01row1_col8\" class=\"data row1 col8\" >+1,175</td>\n",
       "                        <td id=\"T_5debfcaa_99f7_11ea_9b40_82d09608bc01row1_col9\" class=\"data row1 col9\" >+31.10%</td>\n",
       "            </tr>\n",
       "            <tr>\n",
       "                        <th id=\"T_5debfcaa_99f7_11ea_9b40_82d09608bc01level0_row2\" class=\"row_heading level0 row2\" >2</th>\n",
       "                        <td id=\"T_5debfcaa_99f7_11ea_9b40_82d09608bc01row2_col0\" class=\"data row2 col0\" >2020-03-23 12:00:00</td>\n",
       "                        <td id=\"T_5debfcaa_99f7_11ea_9b40_82d09608bc01row2_col1\" class=\"data row2 col1\" >GOOGL</td>\n",
       "                        <td id=\"T_5debfcaa_99f7_11ea_9b40_82d09608bc01row2_col2\" class=\"data row2 col2\" >3</td>\n",
       "                        <td id=\"T_5debfcaa_99f7_11ea_9b40_82d09608bc01row2_col3\" class=\"data row2 col3\" >1,037.89</td>\n",
       "                        <td id=\"T_5debfcaa_99f7_11ea_9b40_82d09608bc01row2_col4\" class=\"data row2 col4\" >3,113.67</td>\n",
       "                        <td id=\"T_5debfcaa_99f7_11ea_9b40_82d09608bc01row2_col5\" class=\"data row2 col5\" >2020-05-19 16:00:00</td>\n",
       "                        <td id=\"T_5debfcaa_99f7_11ea_9b40_82d09608bc01row2_col6\" class=\"data row2 col6\" >1,390.83</td>\n",
       "                        <td id=\"T_5debfcaa_99f7_11ea_9b40_82d09608bc01row2_col7\" class=\"data row2 col7\" >4,172.49</td>\n",
       "                        <td id=\"T_5debfcaa_99f7_11ea_9b40_82d09608bc01row2_col8\" class=\"data row2 col8\" >+1,059</td>\n",
       "                        <td id=\"T_5debfcaa_99f7_11ea_9b40_82d09608bc01row2_col9\" class=\"data row2 col9\" >+34.01%</td>\n",
       "            </tr>\n",
       "            <tr>\n",
       "                        <th id=\"T_5debfcaa_99f7_11ea_9b40_82d09608bc01level0_row3\" class=\"row_heading level0 row3\" >3</th>\n",
       "                        <td id=\"T_5debfcaa_99f7_11ea_9b40_82d09608bc01row3_col0\" class=\"data row3 col0\" >2020-03-20 12:00:00</td>\n",
       "                        <td id=\"T_5debfcaa_99f7_11ea_9b40_82d09608bc01row3_col1\" class=\"data row3 col1\" >TSLA</td>\n",
       "                        <td id=\"T_5debfcaa_99f7_11ea_9b40_82d09608bc01row3_col2\" class=\"data row3 col2\" >8</td>\n",
       "                        <td id=\"T_5debfcaa_99f7_11ea_9b40_82d09608bc01row3_col3\" class=\"data row3 col3\" >451.40</td>\n",
       "                        <td id=\"T_5debfcaa_99f7_11ea_9b40_82d09608bc01row3_col4\" class=\"data row3 col4\" >3,611.20</td>\n",
       "                        <td id=\"T_5debfcaa_99f7_11ea_9b40_82d09608bc01row3_col5\" class=\"data row3 col5\" >2020-05-19 16:00:00</td>\n",
       "                        <td id=\"T_5debfcaa_99f7_11ea_9b40_82d09608bc01row3_col6\" class=\"data row3 col6\" >816.65</td>\n",
       "                        <td id=\"T_5debfcaa_99f7_11ea_9b40_82d09608bc01row3_col7\" class=\"data row3 col7\" >6,533.20</td>\n",
       "                        <td id=\"T_5debfcaa_99f7_11ea_9b40_82d09608bc01row3_col8\" class=\"data row3 col8\" >+2,922</td>\n",
       "                        <td id=\"T_5debfcaa_99f7_11ea_9b40_82d09608bc01row3_col9\" class=\"data row3 col9\" >+80.91%</td>\n",
       "            </tr>\n",
       "            <tr>\n",
       "                        <th id=\"T_5debfcaa_99f7_11ea_9b40_82d09608bc01level0_row4\" class=\"row_heading level0 row4\" >4</th>\n",
       "                        <td id=\"T_5debfcaa_99f7_11ea_9b40_82d09608bc01row4_col0\" class=\"data row4 col0\" >2020-03-27 12:00:00</td>\n",
       "                        <td id=\"T_5debfcaa_99f7_11ea_9b40_82d09608bc01row4_col1\" class=\"data row4 col1\" >ZM</td>\n",
       "                        <td id=\"T_5debfcaa_99f7_11ea_9b40_82d09608bc01row4_col2\" class=\"data row4 col2\" >20</td>\n",
       "                        <td id=\"T_5debfcaa_99f7_11ea_9b40_82d09608bc01row4_col3\" class=\"data row4 col3\" >150.29</td>\n",
       "                        <td id=\"T_5debfcaa_99f7_11ea_9b40_82d09608bc01row4_col4\" class=\"data row4 col4\" >3,005.80</td>\n",
       "                        <td id=\"T_5debfcaa_99f7_11ea_9b40_82d09608bc01row4_col5\" class=\"data row4 col5\" >2020-05-19 16:00:00</td>\n",
       "                        <td id=\"T_5debfcaa_99f7_11ea_9b40_82d09608bc01row4_col6\" class=\"data row4 col6\" >171.41</td>\n",
       "                        <td id=\"T_5debfcaa_99f7_11ea_9b40_82d09608bc01row4_col7\" class=\"data row4 col7\" >3,428.30</td>\n",
       "                        <td id=\"T_5debfcaa_99f7_11ea_9b40_82d09608bc01row4_col8\" class=\"data row4 col8\" >+422</td>\n",
       "                        <td id=\"T_5debfcaa_99f7_11ea_9b40_82d09608bc01row4_col9\" class=\"data row4 col9\" >+14.06%</td>\n",
       "            </tr>\n",
       "    </tbody></table>"
      ],
      "text/plain": [
       "<pandas.io.formats.style.Styler at 0x1186a1f28>"
      ]
     },
     "metadata": {},
     "output_type": "display_data"
    },
    {
     "name": "stdout",
     "output_type": "stream",
     "text": [
      "Total cost: 16,506.47; Market value: 23,885.66\n",
      "Total gain: +7,379.19 (+44.70%)\n"
     ]
    }
   ],
   "source": [
    "def color_sign(val):\n",
    "    color = 'red' if val<0 else 'green' if val>0 else 'black'\n",
    "    return f'color: {color}'\n",
    "\n",
    "latest = my_portfolio.status()\n",
    "display(latest \\\n",
    "        .style \\\n",
    "        .format('{:,.2f}', subset=['price_buy', 'cost', 'price', 'value']) \\\n",
    "        .format({'gain_pct': '{:+.2%}', 'gain': '{:+,.0f}'}) \\\n",
    "        .applymap(color_sign, subset=['gain_pct', 'gain'])\n",
    ")\n",
    "\n",
    "total_cost, total_value = latest.sum()[['cost', 'value']]\n",
    "print(f'Total cost: {total_cost:,.2f}; Market value: {total_value:,.2f}')\n",
    "print(f'Total gain: {total_value-total_cost:+,.2f} ({total_value/total_cost-1:+,.2%})')"
   ]
  },
  {
   "cell_type": "code",
   "execution_count": 16,
   "metadata": {
    "ExecuteTime": {
     "end_time": "2020-05-19T17:59:54.081936Z",
     "start_time": "2020-05-19T17:59:54.022973Z"
    }
   },
   "outputs": [
    {
     "data": {
      "application/vnd.plotly.v1+json": {
       "config": {
        "plotlyServerURL": "https://plot.ly"
       },
       "data": [
        {
         "alignmentgroup": "True",
         "customdata": [
          [
           2922.0001953125
          ],
          [
           1800.930138988495
          ],
          [
           1058.8198681640624
          ],
          [
           1174.9401562500002
          ],
          [
           422.4998657226565
          ]
         ],
         "hovertemplate": "<b>%{x}</b><br>%{customdata[0]:+.2f} (%{marker.color:+,.2%})",
         "legendgroup": "",
         "marker": {
          "color": [
           0.8091493673328811,
           0.6006944908036127,
           0.34005526217102733,
           0.31101832752295033,
           0.14056153627076196
          ],
          "coloraxis": "coloraxis"
         },
         "name": "",
         "offsetgroup": "",
         "orientation": "v",
         "showlegend": false,
         "text": [
          0.8091493673328811,
          0.6006944908036127,
          0.34005526217102733,
          0.31101832752295033,
          0.14056153627076196
         ],
         "textposition": "outside",
         "texttemplate": "%{text:+,.0%}",
         "type": "bar",
         "x": [
          "TSLA",
          "AMC",
          "GOOGL",
          "AMZN",
          "ZM"
         ],
         "xaxis": "x",
         "y": [
          0.8091493673328811,
          0.6006944908036127,
          0.34005526217102733,
          0.31101832752295033,
          0.14056153627076196
         ],
         "yaxis": "y"
        }
       ],
       "layout": {
        "barmode": "relative",
        "coloraxis": {
         "cmid": 0,
         "colorbar": {
          "title": {
           "text": "gain_pct"
          }
         },
         "colorscale": [
          [
           0,
           "rgb(142,1,82)"
          ],
          [
           0.1,
           "rgb(197,27,125)"
          ],
          [
           0.2,
           "rgb(222,119,174)"
          ],
          [
           0.3,
           "rgb(241,182,218)"
          ],
          [
           0.4,
           "rgb(253,224,239)"
          ],
          [
           0.5,
           "rgb(247,247,247)"
          ],
          [
           0.6,
           "rgb(230,245,208)"
          ],
          [
           0.7,
           "rgb(184,225,134)"
          ],
          [
           0.8,
           "rgb(127,188,65)"
          ],
          [
           0.9,
           "rgb(77,146,33)"
          ],
          [
           1,
           "rgb(39,100,25)"
          ]
         ],
         "showscale": false
        },
        "legend": {
         "tracegroupgap": 0
        },
        "template": {
         "data": {
          "bar": [
           {
            "error_x": {
             "color": "#f2f5fa"
            },
            "error_y": {
             "color": "#f2f5fa"
            },
            "marker": {
             "line": {
              "color": "rgb(17,17,17)",
              "width": 0.5
             }
            },
            "type": "bar"
           }
          ],
          "barpolar": [
           {
            "marker": {
             "line": {
              "color": "rgb(17,17,17)",
              "width": 0.5
             }
            },
            "type": "barpolar"
           }
          ],
          "carpet": [
           {
            "aaxis": {
             "endlinecolor": "#A2B1C6",
             "gridcolor": "#506784",
             "linecolor": "#506784",
             "minorgridcolor": "#506784",
             "startlinecolor": "#A2B1C6"
            },
            "baxis": {
             "endlinecolor": "#A2B1C6",
             "gridcolor": "#506784",
             "linecolor": "#506784",
             "minorgridcolor": "#506784",
             "startlinecolor": "#A2B1C6"
            },
            "type": "carpet"
           }
          ],
          "choropleth": [
           {
            "colorbar": {
             "outlinewidth": 0,
             "ticks": ""
            },
            "type": "choropleth"
           }
          ],
          "contour": [
           {
            "colorbar": {
             "outlinewidth": 0,
             "ticks": ""
            },
            "colorscale": [
             [
              0,
              "#0d0887"
             ],
             [
              0.1111111111111111,
              "#46039f"
             ],
             [
              0.2222222222222222,
              "#7201a8"
             ],
             [
              0.3333333333333333,
              "#9c179e"
             ],
             [
              0.4444444444444444,
              "#bd3786"
             ],
             [
              0.5555555555555556,
              "#d8576b"
             ],
             [
              0.6666666666666666,
              "#ed7953"
             ],
             [
              0.7777777777777778,
              "#fb9f3a"
             ],
             [
              0.8888888888888888,
              "#fdca26"
             ],
             [
              1,
              "#f0f921"
             ]
            ],
            "type": "contour"
           }
          ],
          "contourcarpet": [
           {
            "colorbar": {
             "outlinewidth": 0,
             "ticks": ""
            },
            "type": "contourcarpet"
           }
          ],
          "heatmap": [
           {
            "colorbar": {
             "outlinewidth": 0,
             "ticks": ""
            },
            "colorscale": [
             [
              0,
              "#0d0887"
             ],
             [
              0.1111111111111111,
              "#46039f"
             ],
             [
              0.2222222222222222,
              "#7201a8"
             ],
             [
              0.3333333333333333,
              "#9c179e"
             ],
             [
              0.4444444444444444,
              "#bd3786"
             ],
             [
              0.5555555555555556,
              "#d8576b"
             ],
             [
              0.6666666666666666,
              "#ed7953"
             ],
             [
              0.7777777777777778,
              "#fb9f3a"
             ],
             [
              0.8888888888888888,
              "#fdca26"
             ],
             [
              1,
              "#f0f921"
             ]
            ],
            "type": "heatmap"
           }
          ],
          "heatmapgl": [
           {
            "colorbar": {
             "outlinewidth": 0,
             "ticks": ""
            },
            "colorscale": [
             [
              0,
              "#0d0887"
             ],
             [
              0.1111111111111111,
              "#46039f"
             ],
             [
              0.2222222222222222,
              "#7201a8"
             ],
             [
              0.3333333333333333,
              "#9c179e"
             ],
             [
              0.4444444444444444,
              "#bd3786"
             ],
             [
              0.5555555555555556,
              "#d8576b"
             ],
             [
              0.6666666666666666,
              "#ed7953"
             ],
             [
              0.7777777777777778,
              "#fb9f3a"
             ],
             [
              0.8888888888888888,
              "#fdca26"
             ],
             [
              1,
              "#f0f921"
             ]
            ],
            "type": "heatmapgl"
           }
          ],
          "histogram": [
           {
            "marker": {
             "colorbar": {
              "outlinewidth": 0,
              "ticks": ""
             }
            },
            "type": "histogram"
           }
          ],
          "histogram2d": [
           {
            "colorbar": {
             "outlinewidth": 0,
             "ticks": ""
            },
            "colorscale": [
             [
              0,
              "#0d0887"
             ],
             [
              0.1111111111111111,
              "#46039f"
             ],
             [
              0.2222222222222222,
              "#7201a8"
             ],
             [
              0.3333333333333333,
              "#9c179e"
             ],
             [
              0.4444444444444444,
              "#bd3786"
             ],
             [
              0.5555555555555556,
              "#d8576b"
             ],
             [
              0.6666666666666666,
              "#ed7953"
             ],
             [
              0.7777777777777778,
              "#fb9f3a"
             ],
             [
              0.8888888888888888,
              "#fdca26"
             ],
             [
              1,
              "#f0f921"
             ]
            ],
            "type": "histogram2d"
           }
          ],
          "histogram2dcontour": [
           {
            "colorbar": {
             "outlinewidth": 0,
             "ticks": ""
            },
            "colorscale": [
             [
              0,
              "#0d0887"
             ],
             [
              0.1111111111111111,
              "#46039f"
             ],
             [
              0.2222222222222222,
              "#7201a8"
             ],
             [
              0.3333333333333333,
              "#9c179e"
             ],
             [
              0.4444444444444444,
              "#bd3786"
             ],
             [
              0.5555555555555556,
              "#d8576b"
             ],
             [
              0.6666666666666666,
              "#ed7953"
             ],
             [
              0.7777777777777778,
              "#fb9f3a"
             ],
             [
              0.8888888888888888,
              "#fdca26"
             ],
             [
              1,
              "#f0f921"
             ]
            ],
            "type": "histogram2dcontour"
           }
          ],
          "mesh3d": [
           {
            "colorbar": {
             "outlinewidth": 0,
             "ticks": ""
            },
            "type": "mesh3d"
           }
          ],
          "parcoords": [
           {
            "line": {
             "colorbar": {
              "outlinewidth": 0,
              "ticks": ""
             }
            },
            "type": "parcoords"
           }
          ],
          "pie": [
           {
            "automargin": true,
            "type": "pie"
           }
          ],
          "scatter": [
           {
            "marker": {
             "line": {
              "color": "#283442"
             }
            },
            "type": "scatter"
           }
          ],
          "scatter3d": [
           {
            "line": {
             "colorbar": {
              "outlinewidth": 0,
              "ticks": ""
             }
            },
            "marker": {
             "colorbar": {
              "outlinewidth": 0,
              "ticks": ""
             }
            },
            "type": "scatter3d"
           }
          ],
          "scattercarpet": [
           {
            "marker": {
             "colorbar": {
              "outlinewidth": 0,
              "ticks": ""
             }
            },
            "type": "scattercarpet"
           }
          ],
          "scattergeo": [
           {
            "marker": {
             "colorbar": {
              "outlinewidth": 0,
              "ticks": ""
             }
            },
            "type": "scattergeo"
           }
          ],
          "scattergl": [
           {
            "marker": {
             "line": {
              "color": "#283442"
             }
            },
            "type": "scattergl"
           }
          ],
          "scattermapbox": [
           {
            "marker": {
             "colorbar": {
              "outlinewidth": 0,
              "ticks": ""
             }
            },
            "type": "scattermapbox"
           }
          ],
          "scatterpolar": [
           {
            "marker": {
             "colorbar": {
              "outlinewidth": 0,
              "ticks": ""
             }
            },
            "type": "scatterpolar"
           }
          ],
          "scatterpolargl": [
           {
            "marker": {
             "colorbar": {
              "outlinewidth": 0,
              "ticks": ""
             }
            },
            "type": "scatterpolargl"
           }
          ],
          "scatterternary": [
           {
            "marker": {
             "colorbar": {
              "outlinewidth": 0,
              "ticks": ""
             }
            },
            "type": "scatterternary"
           }
          ],
          "surface": [
           {
            "colorbar": {
             "outlinewidth": 0,
             "ticks": ""
            },
            "colorscale": [
             [
              0,
              "#0d0887"
             ],
             [
              0.1111111111111111,
              "#46039f"
             ],
             [
              0.2222222222222222,
              "#7201a8"
             ],
             [
              0.3333333333333333,
              "#9c179e"
             ],
             [
              0.4444444444444444,
              "#bd3786"
             ],
             [
              0.5555555555555556,
              "#d8576b"
             ],
             [
              0.6666666666666666,
              "#ed7953"
             ],
             [
              0.7777777777777778,
              "#fb9f3a"
             ],
             [
              0.8888888888888888,
              "#fdca26"
             ],
             [
              1,
              "#f0f921"
             ]
            ],
            "type": "surface"
           }
          ],
          "table": [
           {
            "cells": {
             "fill": {
              "color": "#506784"
             },
             "line": {
              "color": "rgb(17,17,17)"
             }
            },
            "header": {
             "fill": {
              "color": "#2a3f5f"
             },
             "line": {
              "color": "rgb(17,17,17)"
             }
            },
            "type": "table"
           }
          ]
         },
         "layout": {
          "annotationdefaults": {
           "arrowcolor": "#f2f5fa",
           "arrowhead": 0,
           "arrowwidth": 1
          },
          "coloraxis": {
           "colorbar": {
            "outlinewidth": 0,
            "ticks": ""
           }
          },
          "colorscale": {
           "diverging": [
            [
             0,
             "#8e0152"
            ],
            [
             0.1,
             "#c51b7d"
            ],
            [
             0.2,
             "#de77ae"
            ],
            [
             0.3,
             "#f1b6da"
            ],
            [
             0.4,
             "#fde0ef"
            ],
            [
             0.5,
             "#f7f7f7"
            ],
            [
             0.6,
             "#e6f5d0"
            ],
            [
             0.7,
             "#b8e186"
            ],
            [
             0.8,
             "#7fbc41"
            ],
            [
             0.9,
             "#4d9221"
            ],
            [
             1,
             "#276419"
            ]
           ],
           "sequential": [
            [
             0,
             "#0d0887"
            ],
            [
             0.1111111111111111,
             "#46039f"
            ],
            [
             0.2222222222222222,
             "#7201a8"
            ],
            [
             0.3333333333333333,
             "#9c179e"
            ],
            [
             0.4444444444444444,
             "#bd3786"
            ],
            [
             0.5555555555555556,
             "#d8576b"
            ],
            [
             0.6666666666666666,
             "#ed7953"
            ],
            [
             0.7777777777777778,
             "#fb9f3a"
            ],
            [
             0.8888888888888888,
             "#fdca26"
            ],
            [
             1,
             "#f0f921"
            ]
           ],
           "sequentialminus": [
            [
             0,
             "#0d0887"
            ],
            [
             0.1111111111111111,
             "#46039f"
            ],
            [
             0.2222222222222222,
             "#7201a8"
            ],
            [
             0.3333333333333333,
             "#9c179e"
            ],
            [
             0.4444444444444444,
             "#bd3786"
            ],
            [
             0.5555555555555556,
             "#d8576b"
            ],
            [
             0.6666666666666666,
             "#ed7953"
            ],
            [
             0.7777777777777778,
             "#fb9f3a"
            ],
            [
             0.8888888888888888,
             "#fdca26"
            ],
            [
             1,
             "#f0f921"
            ]
           ]
          },
          "colorway": [
           "#636efa",
           "#EF553B",
           "#00cc96",
           "#ab63fa",
           "#FFA15A",
           "#19d3f3",
           "#FF6692",
           "#B6E880",
           "#FF97FF",
           "#FECB52"
          ],
          "font": {
           "color": "#f2f5fa"
          },
          "geo": {
           "bgcolor": "rgb(17,17,17)",
           "lakecolor": "rgb(17,17,17)",
           "landcolor": "rgb(17,17,17)",
           "showlakes": true,
           "showland": true,
           "subunitcolor": "#506784"
          },
          "hoverlabel": {
           "align": "left"
          },
          "hovermode": "closest",
          "mapbox": {
           "style": "dark"
          },
          "paper_bgcolor": "rgb(17,17,17)",
          "plot_bgcolor": "rgb(17,17,17)",
          "polar": {
           "angularaxis": {
            "gridcolor": "#506784",
            "linecolor": "#506784",
            "ticks": ""
           },
           "bgcolor": "rgb(17,17,17)",
           "radialaxis": {
            "gridcolor": "#506784",
            "linecolor": "#506784",
            "ticks": ""
           }
          },
          "scene": {
           "xaxis": {
            "backgroundcolor": "rgb(17,17,17)",
            "gridcolor": "#506784",
            "gridwidth": 2,
            "linecolor": "#506784",
            "showbackground": true,
            "ticks": "",
            "zerolinecolor": "#C8D4E3"
           },
           "yaxis": {
            "backgroundcolor": "rgb(17,17,17)",
            "gridcolor": "#506784",
            "gridwidth": 2,
            "linecolor": "#506784",
            "showbackground": true,
            "ticks": "",
            "zerolinecolor": "#C8D4E3"
           },
           "zaxis": {
            "backgroundcolor": "rgb(17,17,17)",
            "gridcolor": "#506784",
            "gridwidth": 2,
            "linecolor": "#506784",
            "showbackground": true,
            "ticks": "",
            "zerolinecolor": "#C8D4E3"
           }
          },
          "shapedefaults": {
           "line": {
            "color": "#f2f5fa"
           }
          },
          "sliderdefaults": {
           "bgcolor": "#C8D4E3",
           "bordercolor": "rgb(17,17,17)",
           "borderwidth": 1,
           "tickwidth": 0
          },
          "ternary": {
           "aaxis": {
            "gridcolor": "#506784",
            "linecolor": "#506784",
            "ticks": ""
           },
           "baxis": {
            "gridcolor": "#506784",
            "linecolor": "#506784",
            "ticks": ""
           },
           "bgcolor": "rgb(17,17,17)",
           "caxis": {
            "gridcolor": "#506784",
            "linecolor": "#506784",
            "ticks": ""
           }
          },
          "title": {
           "x": 0.05
          },
          "updatemenudefaults": {
           "bgcolor": "#506784",
           "borderwidth": 0
          },
          "xaxis": {
           "automargin": true,
           "gridcolor": "#283442",
           "linecolor": "#506784",
           "ticks": "",
           "title": {
            "standoff": 15
           },
           "zerolinecolor": "#283442",
           "zerolinewidth": 2
          },
          "yaxis": {
           "automargin": true,
           "gridcolor": "#283442",
           "linecolor": "#506784",
           "ticks": "",
           "title": {
            "standoff": 15
           },
           "zerolinecolor": "#283442",
           "zerolinewidth": 2
          }
         }
        },
        "title": {
         "text": "My Holdings"
        },
        "xaxis": {
         "anchor": "y",
         "domain": [
          0,
          1
         ],
         "title": {
          "text": "symbol"
         }
        },
        "yaxis": {
         "anchor": "x",
         "domain": [
          0,
          1
         ],
         "tickformat": "+,.0%",
         "title": {
          "text": "gain_pct"
         }
        }
       }
      },
      "text/html": [
       "<div>\n",
       "        \n",
       "        \n",
       "            <div id=\"3bf9ec36-59a3-438c-bce1-d7ed95bab561\" class=\"plotly-graph-div\" style=\"height:525px; width:100%;\"></div>\n",
       "            <script type=\"text/javascript\">\n",
       "                require([\"plotly\"], function(Plotly) {\n",
       "                    window.PLOTLYENV=window.PLOTLYENV || {};\n",
       "                    \n",
       "                if (document.getElementById(\"3bf9ec36-59a3-438c-bce1-d7ed95bab561\")) {\n",
       "                    Plotly.newPlot(\n",
       "                        '3bf9ec36-59a3-438c-bce1-d7ed95bab561',\n",
       "                        [{\"alignmentgroup\": \"True\", \"customdata\": [[2922.0001953125], [1800.930138988495], [1058.8198681640624], [1174.9401562500002], [422.4998657226565]], \"hovertemplate\": \"<b>%{x}</b><br>%{customdata[0]:+.2f} (%{marker.color:+,.2%})\", \"legendgroup\": \"\", \"marker\": {\"color\": [0.8091493673328811, 0.6006944908036127, 0.34005526217102733, 0.31101832752295033, 0.14056153627076196], \"coloraxis\": \"coloraxis\"}, \"name\": \"\", \"offsetgroup\": \"\", \"orientation\": \"v\", \"showlegend\": false, \"text\": [0.8091493673328811, 0.6006944908036127, 0.34005526217102733, 0.31101832752295033, 0.14056153627076196], \"textposition\": \"outside\", \"texttemplate\": \"%{text:+,.0%}\", \"type\": \"bar\", \"x\": [\"TSLA\", \"AMC\", \"GOOGL\", \"AMZN\", \"ZM\"], \"xaxis\": \"x\", \"y\": [0.8091493673328811, 0.6006944908036127, 0.34005526217102733, 0.31101832752295033, 0.14056153627076196], \"yaxis\": \"y\"}],\n",
       "                        {\"barmode\": \"relative\", \"coloraxis\": {\"cmid\": 0, \"colorbar\": {\"title\": {\"text\": \"gain_pct\"}}, \"colorscale\": [[0.0, \"rgb(142,1,82)\"], [0.1, \"rgb(197,27,125)\"], [0.2, \"rgb(222,119,174)\"], [0.3, \"rgb(241,182,218)\"], [0.4, \"rgb(253,224,239)\"], [0.5, \"rgb(247,247,247)\"], [0.6, \"rgb(230,245,208)\"], [0.7, \"rgb(184,225,134)\"], [0.8, \"rgb(127,188,65)\"], [0.9, \"rgb(77,146,33)\"], [1.0, \"rgb(39,100,25)\"]], \"showscale\": false}, \"legend\": {\"tracegroupgap\": 0}, \"template\": {\"data\": {\"bar\": [{\"error_x\": {\"color\": \"#f2f5fa\"}, \"error_y\": {\"color\": \"#f2f5fa\"}, \"marker\": {\"line\": {\"color\": \"rgb(17,17,17)\", \"width\": 0.5}}, \"type\": \"bar\"}], \"barpolar\": [{\"marker\": {\"line\": {\"color\": \"rgb(17,17,17)\", \"width\": 0.5}}, \"type\": \"barpolar\"}], \"carpet\": [{\"aaxis\": {\"endlinecolor\": \"#A2B1C6\", \"gridcolor\": \"#506784\", \"linecolor\": \"#506784\", \"minorgridcolor\": \"#506784\", \"startlinecolor\": \"#A2B1C6\"}, \"baxis\": {\"endlinecolor\": \"#A2B1C6\", \"gridcolor\": \"#506784\", \"linecolor\": \"#506784\", \"minorgridcolor\": \"#506784\", \"startlinecolor\": \"#A2B1C6\"}, \"type\": \"carpet\"}], \"choropleth\": [{\"colorbar\": {\"outlinewidth\": 0, \"ticks\": \"\"}, \"type\": \"choropleth\"}], \"contour\": [{\"colorbar\": {\"outlinewidth\": 0, \"ticks\": \"\"}, \"colorscale\": [[0.0, \"#0d0887\"], [0.1111111111111111, \"#46039f\"], [0.2222222222222222, \"#7201a8\"], [0.3333333333333333, \"#9c179e\"], [0.4444444444444444, \"#bd3786\"], [0.5555555555555556, \"#d8576b\"], [0.6666666666666666, \"#ed7953\"], [0.7777777777777778, \"#fb9f3a\"], [0.8888888888888888, \"#fdca26\"], [1.0, \"#f0f921\"]], \"type\": \"contour\"}], \"contourcarpet\": [{\"colorbar\": {\"outlinewidth\": 0, \"ticks\": \"\"}, \"type\": \"contourcarpet\"}], \"heatmap\": [{\"colorbar\": {\"outlinewidth\": 0, \"ticks\": \"\"}, \"colorscale\": [[0.0, \"#0d0887\"], [0.1111111111111111, \"#46039f\"], [0.2222222222222222, \"#7201a8\"], [0.3333333333333333, \"#9c179e\"], [0.4444444444444444, \"#bd3786\"], [0.5555555555555556, \"#d8576b\"], [0.6666666666666666, \"#ed7953\"], [0.7777777777777778, \"#fb9f3a\"], [0.8888888888888888, \"#fdca26\"], [1.0, \"#f0f921\"]], \"type\": \"heatmap\"}], \"heatmapgl\": [{\"colorbar\": {\"outlinewidth\": 0, \"ticks\": \"\"}, \"colorscale\": [[0.0, \"#0d0887\"], [0.1111111111111111, \"#46039f\"], [0.2222222222222222, \"#7201a8\"], [0.3333333333333333, \"#9c179e\"], [0.4444444444444444, \"#bd3786\"], [0.5555555555555556, \"#d8576b\"], [0.6666666666666666, \"#ed7953\"], [0.7777777777777778, \"#fb9f3a\"], [0.8888888888888888, \"#fdca26\"], [1.0, \"#f0f921\"]], \"type\": \"heatmapgl\"}], \"histogram\": [{\"marker\": {\"colorbar\": {\"outlinewidth\": 0, \"ticks\": \"\"}}, \"type\": \"histogram\"}], \"histogram2d\": [{\"colorbar\": {\"outlinewidth\": 0, \"ticks\": \"\"}, \"colorscale\": [[0.0, \"#0d0887\"], [0.1111111111111111, \"#46039f\"], [0.2222222222222222, \"#7201a8\"], [0.3333333333333333, \"#9c179e\"], [0.4444444444444444, \"#bd3786\"], [0.5555555555555556, \"#d8576b\"], [0.6666666666666666, \"#ed7953\"], [0.7777777777777778, \"#fb9f3a\"], [0.8888888888888888, \"#fdca26\"], [1.0, \"#f0f921\"]], \"type\": \"histogram2d\"}], \"histogram2dcontour\": [{\"colorbar\": {\"outlinewidth\": 0, \"ticks\": \"\"}, \"colorscale\": [[0.0, \"#0d0887\"], [0.1111111111111111, \"#46039f\"], [0.2222222222222222, \"#7201a8\"], [0.3333333333333333, \"#9c179e\"], [0.4444444444444444, \"#bd3786\"], [0.5555555555555556, \"#d8576b\"], [0.6666666666666666, \"#ed7953\"], [0.7777777777777778, \"#fb9f3a\"], [0.8888888888888888, \"#fdca26\"], [1.0, \"#f0f921\"]], \"type\": \"histogram2dcontour\"}], \"mesh3d\": [{\"colorbar\": {\"outlinewidth\": 0, \"ticks\": \"\"}, \"type\": \"mesh3d\"}], \"parcoords\": [{\"line\": {\"colorbar\": {\"outlinewidth\": 0, \"ticks\": \"\"}}, \"type\": \"parcoords\"}], \"pie\": [{\"automargin\": true, \"type\": \"pie\"}], \"scatter\": [{\"marker\": {\"line\": {\"color\": \"#283442\"}}, \"type\": \"scatter\"}], \"scatter3d\": [{\"line\": {\"colorbar\": {\"outlinewidth\": 0, \"ticks\": \"\"}}, \"marker\": {\"colorbar\": {\"outlinewidth\": 0, \"ticks\": \"\"}}, \"type\": \"scatter3d\"}], \"scattercarpet\": [{\"marker\": {\"colorbar\": {\"outlinewidth\": 0, \"ticks\": \"\"}}, \"type\": \"scattercarpet\"}], \"scattergeo\": [{\"marker\": {\"colorbar\": {\"outlinewidth\": 0, \"ticks\": \"\"}}, \"type\": \"scattergeo\"}], \"scattergl\": [{\"marker\": {\"line\": {\"color\": \"#283442\"}}, \"type\": \"scattergl\"}], \"scattermapbox\": [{\"marker\": {\"colorbar\": {\"outlinewidth\": 0, \"ticks\": \"\"}}, \"type\": \"scattermapbox\"}], \"scatterpolar\": [{\"marker\": {\"colorbar\": {\"outlinewidth\": 0, \"ticks\": \"\"}}, \"type\": \"scatterpolar\"}], \"scatterpolargl\": [{\"marker\": {\"colorbar\": {\"outlinewidth\": 0, \"ticks\": \"\"}}, \"type\": \"scatterpolargl\"}], \"scatterternary\": [{\"marker\": {\"colorbar\": {\"outlinewidth\": 0, \"ticks\": \"\"}}, \"type\": \"scatterternary\"}], \"surface\": [{\"colorbar\": {\"outlinewidth\": 0, \"ticks\": \"\"}, \"colorscale\": [[0.0, \"#0d0887\"], [0.1111111111111111, \"#46039f\"], [0.2222222222222222, \"#7201a8\"], [0.3333333333333333, \"#9c179e\"], [0.4444444444444444, \"#bd3786\"], [0.5555555555555556, \"#d8576b\"], [0.6666666666666666, \"#ed7953\"], [0.7777777777777778, \"#fb9f3a\"], [0.8888888888888888, \"#fdca26\"], [1.0, \"#f0f921\"]], \"type\": \"surface\"}], \"table\": [{\"cells\": {\"fill\": {\"color\": \"#506784\"}, \"line\": {\"color\": \"rgb(17,17,17)\"}}, \"header\": {\"fill\": {\"color\": \"#2a3f5f\"}, \"line\": {\"color\": \"rgb(17,17,17)\"}}, \"type\": \"table\"}]}, \"layout\": {\"annotationdefaults\": {\"arrowcolor\": \"#f2f5fa\", \"arrowhead\": 0, \"arrowwidth\": 1}, \"coloraxis\": {\"colorbar\": {\"outlinewidth\": 0, \"ticks\": \"\"}}, \"colorscale\": {\"diverging\": [[0, \"#8e0152\"], [0.1, \"#c51b7d\"], [0.2, \"#de77ae\"], [0.3, \"#f1b6da\"], [0.4, \"#fde0ef\"], [0.5, \"#f7f7f7\"], [0.6, \"#e6f5d0\"], [0.7, \"#b8e186\"], [0.8, \"#7fbc41\"], [0.9, \"#4d9221\"], [1, \"#276419\"]], \"sequential\": [[0.0, \"#0d0887\"], [0.1111111111111111, \"#46039f\"], [0.2222222222222222, \"#7201a8\"], [0.3333333333333333, \"#9c179e\"], [0.4444444444444444, \"#bd3786\"], [0.5555555555555556, \"#d8576b\"], [0.6666666666666666, \"#ed7953\"], [0.7777777777777778, \"#fb9f3a\"], [0.8888888888888888, \"#fdca26\"], [1.0, \"#f0f921\"]], \"sequentialminus\": [[0.0, \"#0d0887\"], [0.1111111111111111, \"#46039f\"], [0.2222222222222222, \"#7201a8\"], [0.3333333333333333, \"#9c179e\"], [0.4444444444444444, \"#bd3786\"], [0.5555555555555556, \"#d8576b\"], [0.6666666666666666, \"#ed7953\"], [0.7777777777777778, \"#fb9f3a\"], [0.8888888888888888, \"#fdca26\"], [1.0, \"#f0f921\"]]}, \"colorway\": [\"#636efa\", \"#EF553B\", \"#00cc96\", \"#ab63fa\", \"#FFA15A\", \"#19d3f3\", \"#FF6692\", \"#B6E880\", \"#FF97FF\", \"#FECB52\"], \"font\": {\"color\": \"#f2f5fa\"}, \"geo\": {\"bgcolor\": \"rgb(17,17,17)\", \"lakecolor\": \"rgb(17,17,17)\", \"landcolor\": \"rgb(17,17,17)\", \"showlakes\": true, \"showland\": true, \"subunitcolor\": \"#506784\"}, \"hoverlabel\": {\"align\": \"left\"}, \"hovermode\": \"closest\", \"mapbox\": {\"style\": \"dark\"}, \"paper_bgcolor\": \"rgb(17,17,17)\", \"plot_bgcolor\": \"rgb(17,17,17)\", \"polar\": {\"angularaxis\": {\"gridcolor\": \"#506784\", \"linecolor\": \"#506784\", \"ticks\": \"\"}, \"bgcolor\": \"rgb(17,17,17)\", \"radialaxis\": {\"gridcolor\": \"#506784\", \"linecolor\": \"#506784\", \"ticks\": \"\"}}, \"scene\": {\"xaxis\": {\"backgroundcolor\": \"rgb(17,17,17)\", \"gridcolor\": \"#506784\", \"gridwidth\": 2, \"linecolor\": \"#506784\", \"showbackground\": true, \"ticks\": \"\", \"zerolinecolor\": \"#C8D4E3\"}, \"yaxis\": {\"backgroundcolor\": \"rgb(17,17,17)\", \"gridcolor\": \"#506784\", \"gridwidth\": 2, \"linecolor\": \"#506784\", \"showbackground\": true, \"ticks\": \"\", \"zerolinecolor\": \"#C8D4E3\"}, \"zaxis\": {\"backgroundcolor\": \"rgb(17,17,17)\", \"gridcolor\": \"#506784\", \"gridwidth\": 2, \"linecolor\": \"#506784\", \"showbackground\": true, \"ticks\": \"\", \"zerolinecolor\": \"#C8D4E3\"}}, \"shapedefaults\": {\"line\": {\"color\": \"#f2f5fa\"}}, \"sliderdefaults\": {\"bgcolor\": \"#C8D4E3\", \"bordercolor\": \"rgb(17,17,17)\", \"borderwidth\": 1, \"tickwidth\": 0}, \"ternary\": {\"aaxis\": {\"gridcolor\": \"#506784\", \"linecolor\": \"#506784\", \"ticks\": \"\"}, \"baxis\": {\"gridcolor\": \"#506784\", \"linecolor\": \"#506784\", \"ticks\": \"\"}, \"bgcolor\": \"rgb(17,17,17)\", \"caxis\": {\"gridcolor\": \"#506784\", \"linecolor\": \"#506784\", \"ticks\": \"\"}}, \"title\": {\"x\": 0.05}, \"updatemenudefaults\": {\"bgcolor\": \"#506784\", \"borderwidth\": 0}, \"xaxis\": {\"automargin\": true, \"gridcolor\": \"#283442\", \"linecolor\": \"#506784\", \"ticks\": \"\", \"title\": {\"standoff\": 15}, \"zerolinecolor\": \"#283442\", \"zerolinewidth\": 2}, \"yaxis\": {\"automargin\": true, \"gridcolor\": \"#283442\", \"linecolor\": \"#506784\", \"ticks\": \"\", \"title\": {\"standoff\": 15}, \"zerolinecolor\": \"#283442\", \"zerolinewidth\": 2}}}, \"title\": {\"text\": \"My Holdings\"}, \"xaxis\": {\"anchor\": \"y\", \"domain\": [0.0, 1.0], \"title\": {\"text\": \"symbol\"}}, \"yaxis\": {\"anchor\": \"x\", \"domain\": [0.0, 1.0], \"tickformat\": \"+,.0%\", \"title\": {\"text\": \"gain_pct\"}}},\n",
       "                        {\"responsive\": true}\n",
       "                    ).then(function(){\n",
       "                            \n",
       "var gd = document.getElementById('3bf9ec36-59a3-438c-bce1-d7ed95bab561');\n",
       "var x = new MutationObserver(function (mutations, observer) {{\n",
       "        var display = window.getComputedStyle(gd).display;\n",
       "        if (!display || display === 'none') {{\n",
       "            console.log([gd, 'removed!']);\n",
       "            Plotly.purge(gd);\n",
       "            observer.disconnect();\n",
       "        }}\n",
       "}});\n",
       "\n",
       "// Listen for the removal of the full notebook cells\n",
       "var notebookContainer = gd.closest('#notebook-container');\n",
       "if (notebookContainer) {{\n",
       "    x.observe(notebookContainer, {childList: true});\n",
       "}}\n",
       "\n",
       "// Listen for the clearing of the current output cell\n",
       "var outputEl = gd.closest('.output');\n",
       "if (outputEl) {{\n",
       "    x.observe(outputEl, {childList: true});\n",
       "}}\n",
       "\n",
       "                        })\n",
       "                };\n",
       "                });\n",
       "            </script>\n",
       "        </div>"
      ]
     },
     "metadata": {},
     "output_type": "display_data"
    }
   ],
   "source": [
    "fig = px.bar(latest.sort_values('gain_pct', ascending=False), \n",
    "             x='symbol', y='gain_pct', color='gain_pct', \n",
    "             text='gain_pct', hover_data=['gain'],\n",
    "             color_continuous_scale=px.colors.diverging.PiYG, color_continuous_midpoint=0,\n",
    "             title='My Holdings')\n",
    "fig.update_layout(yaxis=dict(tickformat='+,.0%'), coloraxis=dict(showscale=False))\n",
    "fig.update_traces(texttemplate='%{text:+,.0%}', textposition='outside',\n",
    "                  hovertemplate='<b>%{x}</b><br>%{customdata[0]:+.2f} (%{marker.color:+,.2%})')\n",
    "display(fig)"
   ]
  },
  {
   "cell_type": "markdown",
   "metadata": {},
   "source": [
    "## Peformance"
   ]
  },
  {
   "cell_type": "code",
   "execution_count": 5,
   "metadata": {
    "ExecuteTime": {
     "end_time": "2020-05-19T17:37:13.508005Z",
     "start_time": "2020-05-19T17:37:10.887074Z"
    }
   },
   "outputs": [
    {
     "name": "stdout",
     "output_type": "stream",
     "text": [
      "['^GSPC', '^DJI', '^IXIC', '^RUT']\n"
     ]
    },
    {
     "name": "stderr",
     "output_type": "stream",
     "text": [
      "[2020-05-19 20:37:11,448] https://query1.finance.yahoo.com/v8/finance/chart/AMZN?region=US&lang=en-US&includePrePost=false&interval=1d&range=1y&corsDomain=finance.yahoo.com&.tsrc=finance.. 200\n",
      "[2020-05-19 20:37:11,946] https://query1.finance.yahoo.com/v8/finance/chart/TSLA?region=US&lang=en-US&includePrePost=false&interval=1d&range=1y&corsDomain=finance.yahoo.com&.tsrc=finance.. 200\n",
      "[2020-05-19 20:37:12,435] https://query1.finance.yahoo.com/v8/finance/chart/GOOGL?region=US&lang=en-US&includePrePost=false&interval=1d&range=1y&corsDomain=finance.yahoo.com&.tsrc=finance.. 200\n",
      "[2020-05-19 20:37:12,933] https://query1.finance.yahoo.com/v8/finance/chart/AMC?region=US&lang=en-US&includePrePost=false&interval=1d&range=1y&corsDomain=finance.yahoo.com&.tsrc=finance.. 200\n",
      "[2020-05-19 20:37:13,462] https://query1.finance.yahoo.com/v8/finance/chart/ZM?region=US&lang=en-US&includePrePost=false&interval=1d&range=1y&corsDomain=finance.yahoo.com&.tsrc=finance.. 200\n"
     ]
    },
    {
     "data": {
      "text/html": [
       "<div>\n",
       "<style scoped>\n",
       "    .dataframe tbody tr th:only-of-type {\n",
       "        vertical-align: middle;\n",
       "    }\n",
       "\n",
       "    .dataframe tbody tr th {\n",
       "        vertical-align: top;\n",
       "    }\n",
       "\n",
       "    .dataframe thead th {\n",
       "        text-align: right;\n",
       "    }\n",
       "</style>\n",
       "<table border=\"1\" class=\"dataframe\">\n",
       "  <thead>\n",
       "    <tr style=\"text-align: right;\">\n",
       "      <th></th>\n",
       "      <th>timestamp_buy</th>\n",
       "      <th>symbol</th>\n",
       "      <th>quantity</th>\n",
       "      <th>price_buy</th>\n",
       "      <th>cost</th>\n",
       "      <th>timestamp</th>\n",
       "      <th>price</th>\n",
       "      <th>value</th>\n",
       "      <th>gain</th>\n",
       "      <th>gain_pct</th>\n",
       "    </tr>\n",
       "  </thead>\n",
       "  <tbody>\n",
       "    <tr>\n",
       "      <th>211</th>\n",
       "      <td>2020-03-20 12:00:00</td>\n",
       "      <td>AMZN</td>\n",
       "      <td>2</td>\n",
       "      <td>1888.86</td>\n",
       "      <td>3777.72</td>\n",
       "      <td>2020-03-20 16:00:00</td>\n",
       "      <td>1846.089966</td>\n",
       "      <td>3692.179932</td>\n",
       "      <td>-85.540068</td>\n",
       "      <td>-0.022643</td>\n",
       "    </tr>\n",
       "    <tr>\n",
       "      <th>212</th>\n",
       "      <td>2020-03-20 12:00:00</td>\n",
       "      <td>AMZN</td>\n",
       "      <td>2</td>\n",
       "      <td>1888.86</td>\n",
       "      <td>3777.72</td>\n",
       "      <td>2020-03-23 16:00:00</td>\n",
       "      <td>1902.829956</td>\n",
       "      <td>3805.659912</td>\n",
       "      <td>27.939912</td>\n",
       "      <td>0.007396</td>\n",
       "    </tr>\n",
       "    <tr>\n",
       "      <th>213</th>\n",
       "      <td>2020-03-20 12:00:00</td>\n",
       "      <td>AMZN</td>\n",
       "      <td>2</td>\n",
       "      <td>1888.86</td>\n",
       "      <td>3777.72</td>\n",
       "      <td>2020-03-24 16:00:00</td>\n",
       "      <td>1940.099976</td>\n",
       "      <td>3880.199951</td>\n",
       "      <td>102.479951</td>\n",
       "      <td>0.027127</td>\n",
       "    </tr>\n",
       "    <tr>\n",
       "      <th>214</th>\n",
       "      <td>2020-03-20 12:00:00</td>\n",
       "      <td>AMZN</td>\n",
       "      <td>2</td>\n",
       "      <td>1888.86</td>\n",
       "      <td>3777.72</td>\n",
       "      <td>2020-03-25 16:00:00</td>\n",
       "      <td>1885.839966</td>\n",
       "      <td>3771.679932</td>\n",
       "      <td>-6.040068</td>\n",
       "      <td>-0.001599</td>\n",
       "    </tr>\n",
       "    <tr>\n",
       "      <th>215</th>\n",
       "      <td>2020-03-20 12:00:00</td>\n",
       "      <td>AMZN</td>\n",
       "      <td>2</td>\n",
       "      <td>1888.86</td>\n",
       "      <td>3777.72</td>\n",
       "      <td>2020-03-26 16:00:00</td>\n",
       "      <td>1955.489990</td>\n",
       "      <td>3910.979980</td>\n",
       "      <td>133.259980</td>\n",
       "      <td>0.035275</td>\n",
       "    </tr>\n",
       "    <tr>\n",
       "      <th>...</th>\n",
       "      <td>...</td>\n",
       "      <td>...</td>\n",
       "      <td>...</td>\n",
       "      <td>...</td>\n",
       "      <td>...</td>\n",
       "      <td>...</td>\n",
       "      <td>...</td>\n",
       "      <td>...</td>\n",
       "      <td>...</td>\n",
       "      <td>...</td>\n",
       "    </tr>\n",
       "    <tr>\n",
       "      <th>1260</th>\n",
       "      <td>2020-03-27 12:00:00</td>\n",
       "      <td>ZM</td>\n",
       "      <td>20</td>\n",
       "      <td>150.29</td>\n",
       "      <td>3005.80</td>\n",
       "      <td>2020-05-13 16:00:00</td>\n",
       "      <td>167.139999</td>\n",
       "      <td>3342.799988</td>\n",
       "      <td>336.999988</td>\n",
       "      <td>0.112117</td>\n",
       "    </tr>\n",
       "    <tr>\n",
       "      <th>1261</th>\n",
       "      <td>2020-03-27 12:00:00</td>\n",
       "      <td>ZM</td>\n",
       "      <td>20</td>\n",
       "      <td>150.29</td>\n",
       "      <td>3005.80</td>\n",
       "      <td>2020-05-14 16:00:00</td>\n",
       "      <td>167.910004</td>\n",
       "      <td>3358.200073</td>\n",
       "      <td>352.400073</td>\n",
       "      <td>0.117240</td>\n",
       "    </tr>\n",
       "    <tr>\n",
       "      <th>1262</th>\n",
       "      <td>2020-03-27 12:00:00</td>\n",
       "      <td>ZM</td>\n",
       "      <td>20</td>\n",
       "      <td>150.29</td>\n",
       "      <td>3005.80</td>\n",
       "      <td>2020-05-15 16:00:00</td>\n",
       "      <td>174.830002</td>\n",
       "      <td>3496.600037</td>\n",
       "      <td>490.800037</td>\n",
       "      <td>0.163284</td>\n",
       "    </tr>\n",
       "    <tr>\n",
       "      <th>1263</th>\n",
       "      <td>2020-03-27 12:00:00</td>\n",
       "      <td>ZM</td>\n",
       "      <td>20</td>\n",
       "      <td>150.29</td>\n",
       "      <td>3005.80</td>\n",
       "      <td>2020-05-18 16:00:00</td>\n",
       "      <td>164.690002</td>\n",
       "      <td>3293.800049</td>\n",
       "      <td>288.000049</td>\n",
       "      <td>0.095815</td>\n",
       "    </tr>\n",
       "    <tr>\n",
       "      <th>1264</th>\n",
       "      <td>2020-03-27 12:00:00</td>\n",
       "      <td>ZM</td>\n",
       "      <td>20</td>\n",
       "      <td>150.29</td>\n",
       "      <td>3005.80</td>\n",
       "      <td>2020-05-19 16:00:00</td>\n",
       "      <td>171.414993</td>\n",
       "      <td>3428.299866</td>\n",
       "      <td>422.499866</td>\n",
       "      <td>0.140562</td>\n",
       "    </tr>\n",
       "  </tbody>\n",
       "</table>\n",
       "<p>203 rows × 10 columns</p>\n",
       "</div>"
      ],
      "text/plain": [
       "           timestamp_buy symbol  quantity  price_buy     cost  \\\n",
       "211  2020-03-20 12:00:00   AMZN         2    1888.86  3777.72   \n",
       "212  2020-03-20 12:00:00   AMZN         2    1888.86  3777.72   \n",
       "213  2020-03-20 12:00:00   AMZN         2    1888.86  3777.72   \n",
       "214  2020-03-20 12:00:00   AMZN         2    1888.86  3777.72   \n",
       "215  2020-03-20 12:00:00   AMZN         2    1888.86  3777.72   \n",
       "...                  ...    ...       ...        ...      ...   \n",
       "1260 2020-03-27 12:00:00     ZM        20     150.29  3005.80   \n",
       "1261 2020-03-27 12:00:00     ZM        20     150.29  3005.80   \n",
       "1262 2020-03-27 12:00:00     ZM        20     150.29  3005.80   \n",
       "1263 2020-03-27 12:00:00     ZM        20     150.29  3005.80   \n",
       "1264 2020-03-27 12:00:00     ZM        20     150.29  3005.80   \n",
       "\n",
       "               timestamp        price        value        gain  gain_pct  \n",
       "211  2020-03-20 16:00:00  1846.089966  3692.179932  -85.540068 -0.022643  \n",
       "212  2020-03-23 16:00:00  1902.829956  3805.659912   27.939912  0.007396  \n",
       "213  2020-03-24 16:00:00  1940.099976  3880.199951  102.479951  0.027127  \n",
       "214  2020-03-25 16:00:00  1885.839966  3771.679932   -6.040068 -0.001599  \n",
       "215  2020-03-26 16:00:00  1955.489990  3910.979980  133.259980  0.035275  \n",
       "...                  ...          ...          ...         ...       ...  \n",
       "1260 2020-05-13 16:00:00   167.139999  3342.799988  336.999988  0.112117  \n",
       "1261 2020-05-14 16:00:00   167.910004  3358.200073  352.400073  0.117240  \n",
       "1262 2020-05-15 16:00:00   174.830002  3496.600037  490.800037  0.163284  \n",
       "1263 2020-05-18 16:00:00   164.690002  3293.800049  288.000049  0.095815  \n",
       "1264 2020-05-19 16:00:00   171.414993  3428.299866  422.499866  0.140562  \n",
       "\n",
       "[203 rows x 10 columns]"
      ]
     },
     "metadata": {},
     "output_type": "display_data"
    }
   ],
   "source": [
    "performance = my_portfolio.performance()\n",
    "display(performance)"
   ]
  },
  {
   "cell_type": "code",
   "execution_count": 6,
   "metadata": {
    "ExecuteTime": {
     "end_time": "2020-05-19T17:37:13.618006Z",
     "start_time": "2020-05-19T17:37:13.513098Z"
    }
   },
   "outputs": [
    {
     "data": {
      "application/vnd.plotly.v1+json": {
       "config": {
        "plotlyServerURL": "https://plot.ly"
       },
       "data": [
        {
         "hovertemplate": "symbol=AMZN<br>timestamp=%{x}<br>gain_pct=%{y}<extra></extra>",
         "legendgroup": "AMZN",
         "line": {
          "color": "#636efa",
          "dash": "solid"
         },
         "mode": "lines",
         "name": "AMZN",
         "showlegend": true,
         "type": "scatter",
         "x": [
          "2020-03-20T16:00:00",
          "2020-03-23T16:00:00",
          "2020-03-24T16:00:00",
          "2020-03-25T16:00:00",
          "2020-03-26T16:00:00",
          "2020-03-27T16:00:00",
          "2020-03-30T16:00:00",
          "2020-03-31T16:00:00",
          "2020-04-01T16:00:00",
          "2020-04-02T16:00:00",
          "2020-04-03T16:00:00",
          "2020-04-06T16:00:00",
          "2020-04-07T16:00:00",
          "2020-04-08T16:00:00",
          "2020-04-09T16:00:00",
          "2020-04-13T16:00:00",
          "2020-04-14T16:00:00",
          "2020-04-15T16:00:00",
          "2020-04-16T16:00:00",
          "2020-04-17T16:00:00",
          "2020-04-20T16:00:00",
          "2020-04-21T16:00:00",
          "2020-04-22T16:00:00",
          "2020-04-23T16:00:00",
          "2020-04-24T16:00:00",
          "2020-04-27T16:00:00",
          "2020-04-28T16:00:00",
          "2020-04-29T16:00:00",
          "2020-04-30T16:00:00",
          "2020-05-01T16:00:00",
          "2020-05-04T16:00:00",
          "2020-05-05T16:00:00",
          "2020-05-06T16:00:00",
          "2020-05-07T16:00:00",
          "2020-05-08T16:00:00",
          "2020-05-11T16:00:00",
          "2020-05-12T16:00:00",
          "2020-05-13T16:00:00",
          "2020-05-14T16:00:00",
          "2020-05-15T16:00:00",
          "2020-05-18T16:00:00",
          "2020-05-19T16:00:00"
         ],
         "xaxis": "x",
         "y": [
          -0.022643305580978712,
          0.007395972202644874,
          0.0271274607890144,
          -0.001598866077786254,
          0.035275240215990156,
          0.005950666320392983,
          0.03975411156564013,
          0.03222047727365984,
          0.009974244344141514,
          0.01586668999009322,
          0.009386596052811003,
          0.057563803468924535,
          0.06498098090167481,
          0.08160477748483208,
          0.08147772188813618,
          0.14824291752035634,
          0.20883499484311963,
          0.22173159029288847,
          0.2749435857640323,
          0.25737217157438885,
          0.2672247320721892,
          0.2325530304985548,
          0.2512785437959273,
          0.27031646134275444,
          0.2760183235936624,
          0.25790159143610447,
          0.22511995495960524,
          0.256159779410597,
          0.30978473788422645,
          0.21027500135663857,
          0.2261311003644395,
          0.22708938133483958,
          0.24480374922737802,
          0.25345981566758535,
          0.25981285400817167,
          0.275372446872717,
          0.2478161172198443,
          0.25362383759251617,
          0.26470468836030725,
          0.2757854098752026,
          0.28451023885604276,
          0.31101832752295033
         ],
         "yaxis": "y"
        },
        {
         "hovertemplate": "symbol=TSLA<br>timestamp=%{x}<br>gain_pct=%{y}<extra></extra>",
         "legendgroup": "TSLA",
         "line": {
          "color": "#EF553B",
          "dash": "solid"
         },
         "mode": "lines",
         "name": "TSLA",
         "showlegend": true,
         "type": "scatter",
         "x": [
          "2020-03-20T16:00:00",
          "2020-03-23T16:00:00",
          "2020-03-24T16:00:00",
          "2020-03-25T16:00:00",
          "2020-03-26T16:00:00",
          "2020-03-27T16:00:00",
          "2020-03-30T16:00:00",
          "2020-03-31T16:00:00",
          "2020-04-01T16:00:00",
          "2020-04-02T16:00:00",
          "2020-04-03T16:00:00",
          "2020-04-06T16:00:00",
          "2020-04-07T16:00:00",
          "2020-04-08T16:00:00",
          "2020-04-09T16:00:00",
          "2020-04-13T16:00:00",
          "2020-04-14T16:00:00",
          "2020-04-15T16:00:00",
          "2020-04-16T16:00:00",
          "2020-04-17T16:00:00",
          "2020-04-20T16:00:00",
          "2020-04-21T16:00:00",
          "2020-04-22T16:00:00",
          "2020-04-23T16:00:00",
          "2020-04-24T16:00:00",
          "2020-04-27T16:00:00",
          "2020-04-28T16:00:00",
          "2020-04-29T16:00:00",
          "2020-04-30T16:00:00",
          "2020-05-01T16:00:00",
          "2020-05-04T16:00:00",
          "2020-05-05T16:00:00",
          "2020-05-06T16:00:00",
          "2020-05-07T16:00:00",
          "2020-05-08T16:00:00",
          "2020-05-11T16:00:00",
          "2020-05-12T16:00:00",
          "2020-05-13T16:00:00",
          "2020-05-14T16:00:00",
          "2020-05-15T16:00:00",
          "2020-05-18T16:00:00",
          "2020-05-19T16:00:00"
         ],
         "xaxis": "x",
         "y": [
          -0.052879931813697656,
          -0.037904278810540815,
          0.11874169251218447,
          0.19461674789543637,
          0.17004867776812427,
          0.1394771496490086,
          0.11238370598762182,
          0.1608329641116526,
          0.06681434993042479,
          0.006801066062700922,
          0.06338061534254558,
          0.14364198102431325,
          0.20835182145997178,
          0.21586182289647482,
          0.26938413823659735,
          0.4420691453412302,
          0.57264070591147,
          0.6168143931985905,
          0.6508861807103594,
          0.670115229615502,
          0.6534337291793588,
          0.5213114105075876,
          0.6218652754797576,
          0.5632033781187695,
          0.6064466646301785,
          0.7694949047408064,
          0.7038546635294363,
          0.7733939073230507,
          0.7321222970376884,
          0.5536553108644635,
          0.6862871121874308,
          0.701838772646558,
          0.7336730551392197,
          0.7280460301890648,
          0.8152857397212145,
          0.7972750953197691,
          0.7931102639444645,
          0.752237532061711,
          0.7796411543860076,
          0.7704253055165182,
          0.8024590272104841,
          0.8091493673328811
         ],
         "yaxis": "y"
        },
        {
         "hovertemplate": "symbol=GOOGL<br>timestamp=%{x}<br>gain_pct=%{y}<extra></extra>",
         "legendgroup": "GOOGL",
         "line": {
          "color": "#00cc96",
          "dash": "solid"
         },
         "mode": "lines",
         "name": "GOOGL",
         "showlegend": true,
         "type": "scatter",
         "x": [
          "2020-03-23T16:00:00",
          "2020-03-24T16:00:00",
          "2020-03-25T16:00:00",
          "2020-03-26T16:00:00",
          "2020-03-27T16:00:00",
          "2020-03-30T16:00:00",
          "2020-03-31T16:00:00",
          "2020-04-01T16:00:00",
          "2020-04-02T16:00:00",
          "2020-04-03T16:00:00",
          "2020-04-06T16:00:00",
          "2020-04-07T16:00:00",
          "2020-04-08T16:00:00",
          "2020-04-09T16:00:00",
          "2020-04-13T16:00:00",
          "2020-04-14T16:00:00",
          "2020-04-15T16:00:00",
          "2020-04-16T16:00:00",
          "2020-04-17T16:00:00",
          "2020-04-20T16:00:00",
          "2020-04-21T16:00:00",
          "2020-04-22T16:00:00",
          "2020-04-23T16:00:00",
          "2020-04-24T16:00:00",
          "2020-04-27T16:00:00",
          "2020-04-28T16:00:00",
          "2020-04-29T16:00:00",
          "2020-04-30T16:00:00",
          "2020-05-01T16:00:00",
          "2020-05-04T16:00:00",
          "2020-05-05T16:00:00",
          "2020-05-06T16:00:00",
          "2020-05-07T16:00:00",
          "2020-05-08T16:00:00",
          "2020-05-11T16:00:00",
          "2020-05-12T16:00:00",
          "2020-05-13T16:00:00",
          "2020-05-14T16:00:00",
          "2020-05-15T16:00:00",
          "2020-05-18T16:00:00",
          "2020-05-19T16:00:00"
         ],
         "xaxis": "x",
         "y": [
          0.0156471349399383,
          0.08875700677877707,
          0.061403419550422056,
          0.12046560227510872,
          0.06972801526715267,
          0.10446199365419262,
          0.11953092444466651,
          0.06186587748792016,
          0.07625088332759256,
          0.05280901749884381,
          0.13999551147640887,
          0.13938862364388327,
          0.16293634200156082,
          0.16252198815776486,
          0.16622188688559247,
          0.21904053461229034,
          0.21140009907420332,
          0.21152535790010263,
          0.23230785536039456,
          0.2151095245296346,
          0.1679080000575084,
          0.2124695624581483,
          0.2247637456236331,
          0.22999544805898253,
          0.2244650062642115,
          0.18759210110928182,
          0.29318141008289644,
          0.2975363007369518,
          0.2692288646090264,
          0.27460523216724564,
          0.29977167092008794,
          0.29631276311645505,
          0.3192920533937844,
          0.33380220044543485,
          0.35234944533651213,
          0.3249766870390287,
          0.29910679942449336,
          0.3073254249983741,
          0.3229340860724643,
          0.33461161944997775,
          0.34005526217102733
         ],
         "yaxis": "y"
        },
        {
         "hovertemplate": "symbol=AMC<br>timestamp=%{x}<br>gain_pct=%{y}<extra></extra>",
         "legendgroup": "AMC",
         "line": {
          "color": "#ab63fa",
          "dash": "solid"
         },
         "mode": "lines",
         "name": "AMC",
         "showlegend": true,
         "type": "scatter",
         "x": [
          "2020-03-23T16:00:00",
          "2020-03-24T16:00:00",
          "2020-03-25T16:00:00",
          "2020-03-26T16:00:00",
          "2020-03-27T16:00:00",
          "2020-03-30T16:00:00",
          "2020-03-31T16:00:00",
          "2020-04-01T16:00:00",
          "2020-04-02T16:00:00",
          "2020-04-03T16:00:00",
          "2020-04-06T16:00:00",
          "2020-04-07T16:00:00",
          "2020-04-08T16:00:00",
          "2020-04-09T16:00:00",
          "2020-04-13T16:00:00",
          "2020-04-14T16:00:00",
          "2020-04-15T16:00:00",
          "2020-04-16T16:00:00",
          "2020-04-17T16:00:00",
          "2020-04-20T16:00:00",
          "2020-04-21T16:00:00",
          "2020-04-22T16:00:00",
          "2020-04-23T16:00:00",
          "2020-04-24T16:00:00",
          "2020-04-27T16:00:00",
          "2020-04-28T16:00:00",
          "2020-04-29T16:00:00",
          "2020-04-30T16:00:00",
          "2020-05-01T16:00:00",
          "2020-05-04T16:00:00",
          "2020-05-05T16:00:00",
          "2020-05-06T16:00:00",
          "2020-05-07T16:00:00",
          "2020-05-08T16:00:00",
          "2020-05-11T16:00:00",
          "2020-05-12T16:00:00",
          "2020-05-13T16:00:00",
          "2020-05-14T16:00:00",
          "2020-05-15T16:00:00",
          "2020-05-18T16:00:00",
          "2020-05-19T16:00:00"
         ],
         "xaxis": "x",
         "y": [
          0.09375003311369157,
          0.2361110912428963,
          0.20138890213436555,
          0.284722238779068,
          0.24999996688630843,
          0.055555542310078865,
          0.09722225202454471,
          -0.0902778175142076,
          -0.22222221891085303,
          -0.21180556217829383,
          3.9736429924275285e-08,
          0.09027781420283842,
          0.1458333167764876,
          -0.09722225533591378,
          -0.277777804268731,
          -0.24305553237597144,
          -0.16319441464212203,
          -0.15277775790956283,
          0.11111112766795683,
          0.10416668984625077,
          0.12847222222222232,
          0.10416668984625077,
          0.07986107468605042,
          0.05902776122093201,
          0.166666630241606,
          0.43749995364083194,
          0.8020833532015483,
          0.7083333598242867,
          0.5868056151602004,
          0.4930556217829387,
          0.35069448086950517,
          0.36111113760206437,
          0.3854166699780359,
          0.4236110779974196,
          0.8472222818268671,
          0.777777738041348,
          0.5972221891085308,
          0.5798611773384943,
          0.5694444378217063,
          0.6388888160387676,
          0.6006944908036127
         ],
         "yaxis": "y"
        },
        {
         "hovertemplate": "symbol=ZM<br>timestamp=%{x}<br>gain_pct=%{y}<extra></extra>",
         "legendgroup": "ZM",
         "line": {
          "color": "#FFA15A",
          "dash": "solid"
         },
         "mode": "lines",
         "name": "ZM",
         "showlegend": true,
         "type": "scatter",
         "x": [
          "2020-03-27T16:00:00",
          "2020-03-30T16:00:00",
          "2020-03-31T16:00:00",
          "2020-04-01T16:00:00",
          "2020-04-02T16:00:00",
          "2020-04-03T16:00:00",
          "2020-04-06T16:00:00",
          "2020-04-07T16:00:00",
          "2020-04-08T16:00:00",
          "2020-04-09T16:00:00",
          "2020-04-13T16:00:00",
          "2020-04-14T16:00:00",
          "2020-04-15T16:00:00",
          "2020-04-16T16:00:00",
          "2020-04-17T16:00:00",
          "2020-04-20T16:00:00",
          "2020-04-21T16:00:00",
          "2020-04-22T16:00:00",
          "2020-04-23T16:00:00",
          "2020-04-24T16:00:00",
          "2020-04-27T16:00:00",
          "2020-04-28T16:00:00",
          "2020-04-29T16:00:00",
          "2020-04-30T16:00:00",
          "2020-05-01T16:00:00",
          "2020-05-04T16:00:00",
          "2020-05-05T16:00:00",
          "2020-05-06T16:00:00",
          "2020-05-07T16:00:00",
          "2020-05-08T16:00:00",
          "2020-05-11T16:00:00",
          "2020-05-12T16:00:00",
          "2020-05-13T16:00:00",
          "2020-05-14T16:00:00",
          "2020-05-15T16:00:00",
          "2020-05-18T16:00:00",
          "2020-05-19T16:00:00"
         ],
         "xaxis": "x",
         "y": [
          0.009381841428186766,
          0.003925776051716845,
          -0.02774638953232078,
          -0.0884290371947567,
          -0.188701841072754,
          -0.14698252080482932,
          -0.18198148618400256,
          -0.24312994876571958,
          -0.2161155262586083,
          -0.17153501805688687,
          -0.09561515623830374,
          -0.055891946306151796,
          0.008450313118595787,
          -0.00019965062987592486,
          -0.001530390853724417,
          -0.00864990689224776,
          -0.04670966616234651,
          -0.00026615210592839667,
          0.12509146541945992,
          0.05662388084209091,
          0.09521595650752301,
          0.042783959150330286,
          -0.025351016517805025,
          -0.1006055082244639,
          -0.07804912130817909,
          -0.04557853189562666,
          -0.036396251751821374,
          -0.004657686220702395,
          0.04997007819387744,
          0.03400089092078251,
          0.10772503644646392,
          0.07152833379554746,
          0.11211657056123792,
          0.11724002702847414,
          0.16328432917063473,
          0.09581477437890928,
          0.14056153627076196
         ],
         "yaxis": "y"
        }
       ],
       "layout": {
        "legend": {
         "title": {
          "text": "symbol"
         },
         "tracegroupgap": 0
        },
        "margin": {
         "t": 60
        },
        "template": {
         "data": {
          "bar": [
           {
            "error_x": {
             "color": "#f2f5fa"
            },
            "error_y": {
             "color": "#f2f5fa"
            },
            "marker": {
             "line": {
              "color": "rgb(17,17,17)",
              "width": 0.5
             }
            },
            "type": "bar"
           }
          ],
          "barpolar": [
           {
            "marker": {
             "line": {
              "color": "rgb(17,17,17)",
              "width": 0.5
             }
            },
            "type": "barpolar"
           }
          ],
          "carpet": [
           {
            "aaxis": {
             "endlinecolor": "#A2B1C6",
             "gridcolor": "#506784",
             "linecolor": "#506784",
             "minorgridcolor": "#506784",
             "startlinecolor": "#A2B1C6"
            },
            "baxis": {
             "endlinecolor": "#A2B1C6",
             "gridcolor": "#506784",
             "linecolor": "#506784",
             "minorgridcolor": "#506784",
             "startlinecolor": "#A2B1C6"
            },
            "type": "carpet"
           }
          ],
          "choropleth": [
           {
            "colorbar": {
             "outlinewidth": 0,
             "ticks": ""
            },
            "type": "choropleth"
           }
          ],
          "contour": [
           {
            "colorbar": {
             "outlinewidth": 0,
             "ticks": ""
            },
            "colorscale": [
             [
              0,
              "#0d0887"
             ],
             [
              0.1111111111111111,
              "#46039f"
             ],
             [
              0.2222222222222222,
              "#7201a8"
             ],
             [
              0.3333333333333333,
              "#9c179e"
             ],
             [
              0.4444444444444444,
              "#bd3786"
             ],
             [
              0.5555555555555556,
              "#d8576b"
             ],
             [
              0.6666666666666666,
              "#ed7953"
             ],
             [
              0.7777777777777778,
              "#fb9f3a"
             ],
             [
              0.8888888888888888,
              "#fdca26"
             ],
             [
              1,
              "#f0f921"
             ]
            ],
            "type": "contour"
           }
          ],
          "contourcarpet": [
           {
            "colorbar": {
             "outlinewidth": 0,
             "ticks": ""
            },
            "type": "contourcarpet"
           }
          ],
          "heatmap": [
           {
            "colorbar": {
             "outlinewidth": 0,
             "ticks": ""
            },
            "colorscale": [
             [
              0,
              "#0d0887"
             ],
             [
              0.1111111111111111,
              "#46039f"
             ],
             [
              0.2222222222222222,
              "#7201a8"
             ],
             [
              0.3333333333333333,
              "#9c179e"
             ],
             [
              0.4444444444444444,
              "#bd3786"
             ],
             [
              0.5555555555555556,
              "#d8576b"
             ],
             [
              0.6666666666666666,
              "#ed7953"
             ],
             [
              0.7777777777777778,
              "#fb9f3a"
             ],
             [
              0.8888888888888888,
              "#fdca26"
             ],
             [
              1,
              "#f0f921"
             ]
            ],
            "type": "heatmap"
           }
          ],
          "heatmapgl": [
           {
            "colorbar": {
             "outlinewidth": 0,
             "ticks": ""
            },
            "colorscale": [
             [
              0,
              "#0d0887"
             ],
             [
              0.1111111111111111,
              "#46039f"
             ],
             [
              0.2222222222222222,
              "#7201a8"
             ],
             [
              0.3333333333333333,
              "#9c179e"
             ],
             [
              0.4444444444444444,
              "#bd3786"
             ],
             [
              0.5555555555555556,
              "#d8576b"
             ],
             [
              0.6666666666666666,
              "#ed7953"
             ],
             [
              0.7777777777777778,
              "#fb9f3a"
             ],
             [
              0.8888888888888888,
              "#fdca26"
             ],
             [
              1,
              "#f0f921"
             ]
            ],
            "type": "heatmapgl"
           }
          ],
          "histogram": [
           {
            "marker": {
             "colorbar": {
              "outlinewidth": 0,
              "ticks": ""
             }
            },
            "type": "histogram"
           }
          ],
          "histogram2d": [
           {
            "colorbar": {
             "outlinewidth": 0,
             "ticks": ""
            },
            "colorscale": [
             [
              0,
              "#0d0887"
             ],
             [
              0.1111111111111111,
              "#46039f"
             ],
             [
              0.2222222222222222,
              "#7201a8"
             ],
             [
              0.3333333333333333,
              "#9c179e"
             ],
             [
              0.4444444444444444,
              "#bd3786"
             ],
             [
              0.5555555555555556,
              "#d8576b"
             ],
             [
              0.6666666666666666,
              "#ed7953"
             ],
             [
              0.7777777777777778,
              "#fb9f3a"
             ],
             [
              0.8888888888888888,
              "#fdca26"
             ],
             [
              1,
              "#f0f921"
             ]
            ],
            "type": "histogram2d"
           }
          ],
          "histogram2dcontour": [
           {
            "colorbar": {
             "outlinewidth": 0,
             "ticks": ""
            },
            "colorscale": [
             [
              0,
              "#0d0887"
             ],
             [
              0.1111111111111111,
              "#46039f"
             ],
             [
              0.2222222222222222,
              "#7201a8"
             ],
             [
              0.3333333333333333,
              "#9c179e"
             ],
             [
              0.4444444444444444,
              "#bd3786"
             ],
             [
              0.5555555555555556,
              "#d8576b"
             ],
             [
              0.6666666666666666,
              "#ed7953"
             ],
             [
              0.7777777777777778,
              "#fb9f3a"
             ],
             [
              0.8888888888888888,
              "#fdca26"
             ],
             [
              1,
              "#f0f921"
             ]
            ],
            "type": "histogram2dcontour"
           }
          ],
          "mesh3d": [
           {
            "colorbar": {
             "outlinewidth": 0,
             "ticks": ""
            },
            "type": "mesh3d"
           }
          ],
          "parcoords": [
           {
            "line": {
             "colorbar": {
              "outlinewidth": 0,
              "ticks": ""
             }
            },
            "type": "parcoords"
           }
          ],
          "pie": [
           {
            "automargin": true,
            "type": "pie"
           }
          ],
          "scatter": [
           {
            "marker": {
             "line": {
              "color": "#283442"
             }
            },
            "type": "scatter"
           }
          ],
          "scatter3d": [
           {
            "line": {
             "colorbar": {
              "outlinewidth": 0,
              "ticks": ""
             }
            },
            "marker": {
             "colorbar": {
              "outlinewidth": 0,
              "ticks": ""
             }
            },
            "type": "scatter3d"
           }
          ],
          "scattercarpet": [
           {
            "marker": {
             "colorbar": {
              "outlinewidth": 0,
              "ticks": ""
             }
            },
            "type": "scattercarpet"
           }
          ],
          "scattergeo": [
           {
            "marker": {
             "colorbar": {
              "outlinewidth": 0,
              "ticks": ""
             }
            },
            "type": "scattergeo"
           }
          ],
          "scattergl": [
           {
            "marker": {
             "line": {
              "color": "#283442"
             }
            },
            "type": "scattergl"
           }
          ],
          "scattermapbox": [
           {
            "marker": {
             "colorbar": {
              "outlinewidth": 0,
              "ticks": ""
             }
            },
            "type": "scattermapbox"
           }
          ],
          "scatterpolar": [
           {
            "marker": {
             "colorbar": {
              "outlinewidth": 0,
              "ticks": ""
             }
            },
            "type": "scatterpolar"
           }
          ],
          "scatterpolargl": [
           {
            "marker": {
             "colorbar": {
              "outlinewidth": 0,
              "ticks": ""
             }
            },
            "type": "scatterpolargl"
           }
          ],
          "scatterternary": [
           {
            "marker": {
             "colorbar": {
              "outlinewidth": 0,
              "ticks": ""
             }
            },
            "type": "scatterternary"
           }
          ],
          "surface": [
           {
            "colorbar": {
             "outlinewidth": 0,
             "ticks": ""
            },
            "colorscale": [
             [
              0,
              "#0d0887"
             ],
             [
              0.1111111111111111,
              "#46039f"
             ],
             [
              0.2222222222222222,
              "#7201a8"
             ],
             [
              0.3333333333333333,
              "#9c179e"
             ],
             [
              0.4444444444444444,
              "#bd3786"
             ],
             [
              0.5555555555555556,
              "#d8576b"
             ],
             [
              0.6666666666666666,
              "#ed7953"
             ],
             [
              0.7777777777777778,
              "#fb9f3a"
             ],
             [
              0.8888888888888888,
              "#fdca26"
             ],
             [
              1,
              "#f0f921"
             ]
            ],
            "type": "surface"
           }
          ],
          "table": [
           {
            "cells": {
             "fill": {
              "color": "#506784"
             },
             "line": {
              "color": "rgb(17,17,17)"
             }
            },
            "header": {
             "fill": {
              "color": "#2a3f5f"
             },
             "line": {
              "color": "rgb(17,17,17)"
             }
            },
            "type": "table"
           }
          ]
         },
         "layout": {
          "annotationdefaults": {
           "arrowcolor": "#f2f5fa",
           "arrowhead": 0,
           "arrowwidth": 1
          },
          "coloraxis": {
           "colorbar": {
            "outlinewidth": 0,
            "ticks": ""
           }
          },
          "colorscale": {
           "diverging": [
            [
             0,
             "#8e0152"
            ],
            [
             0.1,
             "#c51b7d"
            ],
            [
             0.2,
             "#de77ae"
            ],
            [
             0.3,
             "#f1b6da"
            ],
            [
             0.4,
             "#fde0ef"
            ],
            [
             0.5,
             "#f7f7f7"
            ],
            [
             0.6,
             "#e6f5d0"
            ],
            [
             0.7,
             "#b8e186"
            ],
            [
             0.8,
             "#7fbc41"
            ],
            [
             0.9,
             "#4d9221"
            ],
            [
             1,
             "#276419"
            ]
           ],
           "sequential": [
            [
             0,
             "#0d0887"
            ],
            [
             0.1111111111111111,
             "#46039f"
            ],
            [
             0.2222222222222222,
             "#7201a8"
            ],
            [
             0.3333333333333333,
             "#9c179e"
            ],
            [
             0.4444444444444444,
             "#bd3786"
            ],
            [
             0.5555555555555556,
             "#d8576b"
            ],
            [
             0.6666666666666666,
             "#ed7953"
            ],
            [
             0.7777777777777778,
             "#fb9f3a"
            ],
            [
             0.8888888888888888,
             "#fdca26"
            ],
            [
             1,
             "#f0f921"
            ]
           ],
           "sequentialminus": [
            [
             0,
             "#0d0887"
            ],
            [
             0.1111111111111111,
             "#46039f"
            ],
            [
             0.2222222222222222,
             "#7201a8"
            ],
            [
             0.3333333333333333,
             "#9c179e"
            ],
            [
             0.4444444444444444,
             "#bd3786"
            ],
            [
             0.5555555555555556,
             "#d8576b"
            ],
            [
             0.6666666666666666,
             "#ed7953"
            ],
            [
             0.7777777777777778,
             "#fb9f3a"
            ],
            [
             0.8888888888888888,
             "#fdca26"
            ],
            [
             1,
             "#f0f921"
            ]
           ]
          },
          "colorway": [
           "#636efa",
           "#EF553B",
           "#00cc96",
           "#ab63fa",
           "#FFA15A",
           "#19d3f3",
           "#FF6692",
           "#B6E880",
           "#FF97FF",
           "#FECB52"
          ],
          "font": {
           "color": "#f2f5fa"
          },
          "geo": {
           "bgcolor": "rgb(17,17,17)",
           "lakecolor": "rgb(17,17,17)",
           "landcolor": "rgb(17,17,17)",
           "showlakes": true,
           "showland": true,
           "subunitcolor": "#506784"
          },
          "hoverlabel": {
           "align": "left"
          },
          "hovermode": "closest",
          "mapbox": {
           "style": "dark"
          },
          "paper_bgcolor": "rgb(17,17,17)",
          "plot_bgcolor": "rgb(17,17,17)",
          "polar": {
           "angularaxis": {
            "gridcolor": "#506784",
            "linecolor": "#506784",
            "ticks": ""
           },
           "bgcolor": "rgb(17,17,17)",
           "radialaxis": {
            "gridcolor": "#506784",
            "linecolor": "#506784",
            "ticks": ""
           }
          },
          "scene": {
           "xaxis": {
            "backgroundcolor": "rgb(17,17,17)",
            "gridcolor": "#506784",
            "gridwidth": 2,
            "linecolor": "#506784",
            "showbackground": true,
            "ticks": "",
            "zerolinecolor": "#C8D4E3"
           },
           "yaxis": {
            "backgroundcolor": "rgb(17,17,17)",
            "gridcolor": "#506784",
            "gridwidth": 2,
            "linecolor": "#506784",
            "showbackground": true,
            "ticks": "",
            "zerolinecolor": "#C8D4E3"
           },
           "zaxis": {
            "backgroundcolor": "rgb(17,17,17)",
            "gridcolor": "#506784",
            "gridwidth": 2,
            "linecolor": "#506784",
            "showbackground": true,
            "ticks": "",
            "zerolinecolor": "#C8D4E3"
           }
          },
          "shapedefaults": {
           "line": {
            "color": "#f2f5fa"
           }
          },
          "sliderdefaults": {
           "bgcolor": "#C8D4E3",
           "bordercolor": "rgb(17,17,17)",
           "borderwidth": 1,
           "tickwidth": 0
          },
          "ternary": {
           "aaxis": {
            "gridcolor": "#506784",
            "linecolor": "#506784",
            "ticks": ""
           },
           "baxis": {
            "gridcolor": "#506784",
            "linecolor": "#506784",
            "ticks": ""
           },
           "bgcolor": "rgb(17,17,17)",
           "caxis": {
            "gridcolor": "#506784",
            "linecolor": "#506784",
            "ticks": ""
           }
          },
          "title": {
           "x": 0.05
          },
          "updatemenudefaults": {
           "bgcolor": "#506784",
           "borderwidth": 0
          },
          "xaxis": {
           "automargin": true,
           "gridcolor": "#283442",
           "linecolor": "#506784",
           "ticks": "",
           "title": {
            "standoff": 15
           },
           "zerolinecolor": "#283442",
           "zerolinewidth": 2
          },
          "yaxis": {
           "automargin": true,
           "gridcolor": "#283442",
           "linecolor": "#506784",
           "ticks": "",
           "title": {
            "standoff": 15
           },
           "zerolinecolor": "#283442",
           "zerolinewidth": 2
          }
         }
        },
        "xaxis": {
         "anchor": "y",
         "domain": [
          0,
          1
         ],
         "title": {
          "text": "timestamp"
         }
        },
        "yaxis": {
         "anchor": "x",
         "domain": [
          0,
          1
         ],
         "tickformat": "+%",
         "title": {
          "text": "gain_pct"
         }
        }
       }
      },
      "text/html": [
       "<div>\n",
       "        \n",
       "        \n",
       "            <div id=\"f85efc94-aea5-40c3-bec3-7d587fe31657\" class=\"plotly-graph-div\" style=\"height:525px; width:100%;\"></div>\n",
       "            <script type=\"text/javascript\">\n",
       "                require([\"plotly\"], function(Plotly) {\n",
       "                    window.PLOTLYENV=window.PLOTLYENV || {};\n",
       "                    \n",
       "                if (document.getElementById(\"f85efc94-aea5-40c3-bec3-7d587fe31657\")) {\n",
       "                    Plotly.newPlot(\n",
       "                        'f85efc94-aea5-40c3-bec3-7d587fe31657',\n",
       "                        [{\"hovertemplate\": \"symbol=AMZN<br>timestamp=%{x}<br>gain_pct=%{y}<extra></extra>\", \"legendgroup\": \"AMZN\", \"line\": {\"color\": \"#636efa\", \"dash\": \"solid\"}, \"mode\": \"lines\", \"name\": \"AMZN\", \"showlegend\": true, \"type\": \"scatter\", \"x\": [\"2020-03-20T16:00:00\", \"2020-03-23T16:00:00\", \"2020-03-24T16:00:00\", \"2020-03-25T16:00:00\", \"2020-03-26T16:00:00\", \"2020-03-27T16:00:00\", \"2020-03-30T16:00:00\", \"2020-03-31T16:00:00\", \"2020-04-01T16:00:00\", \"2020-04-02T16:00:00\", \"2020-04-03T16:00:00\", \"2020-04-06T16:00:00\", \"2020-04-07T16:00:00\", \"2020-04-08T16:00:00\", \"2020-04-09T16:00:00\", \"2020-04-13T16:00:00\", \"2020-04-14T16:00:00\", \"2020-04-15T16:00:00\", \"2020-04-16T16:00:00\", \"2020-04-17T16:00:00\", \"2020-04-20T16:00:00\", \"2020-04-21T16:00:00\", \"2020-04-22T16:00:00\", \"2020-04-23T16:00:00\", \"2020-04-24T16:00:00\", \"2020-04-27T16:00:00\", \"2020-04-28T16:00:00\", \"2020-04-29T16:00:00\", \"2020-04-30T16:00:00\", \"2020-05-01T16:00:00\", \"2020-05-04T16:00:00\", \"2020-05-05T16:00:00\", \"2020-05-06T16:00:00\", \"2020-05-07T16:00:00\", \"2020-05-08T16:00:00\", \"2020-05-11T16:00:00\", \"2020-05-12T16:00:00\", \"2020-05-13T16:00:00\", \"2020-05-14T16:00:00\", \"2020-05-15T16:00:00\", \"2020-05-18T16:00:00\", \"2020-05-19T16:00:00\"], \"xaxis\": \"x\", \"y\": [-0.022643305580978712, 0.007395972202644874, 0.0271274607890144, -0.001598866077786254, 0.035275240215990156, 0.005950666320392983, 0.03975411156564013, 0.03222047727365984, 0.009974244344141514, 0.01586668999009322, 0.009386596052811003, 0.057563803468924535, 0.06498098090167481, 0.08160477748483208, 0.08147772188813618, 0.14824291752035634, 0.20883499484311963, 0.22173159029288847, 0.2749435857640323, 0.25737217157438885, 0.2672247320721892, 0.2325530304985548, 0.2512785437959273, 0.27031646134275444, 0.2760183235936624, 0.25790159143610447, 0.22511995495960524, 0.256159779410597, 0.30978473788422645, 0.21027500135663857, 0.2261311003644395, 0.22708938133483958, 0.24480374922737802, 0.25345981566758535, 0.25981285400817167, 0.275372446872717, 0.2478161172198443, 0.25362383759251617, 0.26470468836030725, 0.2757854098752026, 0.28451023885604276, 0.31101832752295033], \"yaxis\": \"y\"}, {\"hovertemplate\": \"symbol=TSLA<br>timestamp=%{x}<br>gain_pct=%{y}<extra></extra>\", \"legendgroup\": \"TSLA\", \"line\": {\"color\": \"#EF553B\", \"dash\": \"solid\"}, \"mode\": \"lines\", \"name\": \"TSLA\", \"showlegend\": true, \"type\": \"scatter\", \"x\": [\"2020-03-20T16:00:00\", \"2020-03-23T16:00:00\", \"2020-03-24T16:00:00\", \"2020-03-25T16:00:00\", \"2020-03-26T16:00:00\", \"2020-03-27T16:00:00\", \"2020-03-30T16:00:00\", \"2020-03-31T16:00:00\", \"2020-04-01T16:00:00\", \"2020-04-02T16:00:00\", \"2020-04-03T16:00:00\", \"2020-04-06T16:00:00\", \"2020-04-07T16:00:00\", \"2020-04-08T16:00:00\", \"2020-04-09T16:00:00\", \"2020-04-13T16:00:00\", \"2020-04-14T16:00:00\", \"2020-04-15T16:00:00\", \"2020-04-16T16:00:00\", \"2020-04-17T16:00:00\", \"2020-04-20T16:00:00\", \"2020-04-21T16:00:00\", \"2020-04-22T16:00:00\", \"2020-04-23T16:00:00\", \"2020-04-24T16:00:00\", \"2020-04-27T16:00:00\", \"2020-04-28T16:00:00\", \"2020-04-29T16:00:00\", \"2020-04-30T16:00:00\", \"2020-05-01T16:00:00\", \"2020-05-04T16:00:00\", \"2020-05-05T16:00:00\", \"2020-05-06T16:00:00\", \"2020-05-07T16:00:00\", \"2020-05-08T16:00:00\", \"2020-05-11T16:00:00\", \"2020-05-12T16:00:00\", \"2020-05-13T16:00:00\", \"2020-05-14T16:00:00\", \"2020-05-15T16:00:00\", \"2020-05-18T16:00:00\", \"2020-05-19T16:00:00\"], \"xaxis\": \"x\", \"y\": [-0.052879931813697656, -0.037904278810540815, 0.11874169251218447, 0.19461674789543637, 0.17004867776812427, 0.1394771496490086, 0.11238370598762182, 0.1608329641116526, 0.06681434993042479, 0.006801066062700922, 0.06338061534254558, 0.14364198102431325, 0.20835182145997178, 0.21586182289647482, 0.26938413823659735, 0.4420691453412302, 0.57264070591147, 0.6168143931985905, 0.6508861807103594, 0.670115229615502, 0.6534337291793588, 0.5213114105075876, 0.6218652754797576, 0.5632033781187695, 0.6064466646301785, 0.7694949047408064, 0.7038546635294363, 0.7733939073230507, 0.7321222970376884, 0.5536553108644635, 0.6862871121874308, 0.701838772646558, 0.7336730551392197, 0.7280460301890648, 0.8152857397212145, 0.7972750953197691, 0.7931102639444645, 0.752237532061711, 0.7796411543860076, 0.7704253055165182, 0.8024590272104841, 0.8091493673328811], \"yaxis\": \"y\"}, {\"hovertemplate\": \"symbol=GOOGL<br>timestamp=%{x}<br>gain_pct=%{y}<extra></extra>\", \"legendgroup\": \"GOOGL\", \"line\": {\"color\": \"#00cc96\", \"dash\": \"solid\"}, \"mode\": \"lines\", \"name\": \"GOOGL\", \"showlegend\": true, \"type\": \"scatter\", \"x\": [\"2020-03-23T16:00:00\", \"2020-03-24T16:00:00\", \"2020-03-25T16:00:00\", \"2020-03-26T16:00:00\", \"2020-03-27T16:00:00\", \"2020-03-30T16:00:00\", \"2020-03-31T16:00:00\", \"2020-04-01T16:00:00\", \"2020-04-02T16:00:00\", \"2020-04-03T16:00:00\", \"2020-04-06T16:00:00\", \"2020-04-07T16:00:00\", \"2020-04-08T16:00:00\", \"2020-04-09T16:00:00\", \"2020-04-13T16:00:00\", \"2020-04-14T16:00:00\", \"2020-04-15T16:00:00\", \"2020-04-16T16:00:00\", \"2020-04-17T16:00:00\", \"2020-04-20T16:00:00\", \"2020-04-21T16:00:00\", \"2020-04-22T16:00:00\", \"2020-04-23T16:00:00\", \"2020-04-24T16:00:00\", \"2020-04-27T16:00:00\", \"2020-04-28T16:00:00\", \"2020-04-29T16:00:00\", \"2020-04-30T16:00:00\", \"2020-05-01T16:00:00\", \"2020-05-04T16:00:00\", \"2020-05-05T16:00:00\", \"2020-05-06T16:00:00\", \"2020-05-07T16:00:00\", \"2020-05-08T16:00:00\", \"2020-05-11T16:00:00\", \"2020-05-12T16:00:00\", \"2020-05-13T16:00:00\", \"2020-05-14T16:00:00\", \"2020-05-15T16:00:00\", \"2020-05-18T16:00:00\", \"2020-05-19T16:00:00\"], \"xaxis\": \"x\", \"y\": [0.0156471349399383, 0.08875700677877707, 0.061403419550422056, 0.12046560227510872, 0.06972801526715267, 0.10446199365419262, 0.11953092444466651, 0.06186587748792016, 0.07625088332759256, 0.05280901749884381, 0.13999551147640887, 0.13938862364388327, 0.16293634200156082, 0.16252198815776486, 0.16622188688559247, 0.21904053461229034, 0.21140009907420332, 0.21152535790010263, 0.23230785536039456, 0.2151095245296346, 0.1679080000575084, 0.2124695624581483, 0.2247637456236331, 0.22999544805898253, 0.2244650062642115, 0.18759210110928182, 0.29318141008289644, 0.2975363007369518, 0.2692288646090264, 0.27460523216724564, 0.29977167092008794, 0.29631276311645505, 0.3192920533937844, 0.33380220044543485, 0.35234944533651213, 0.3249766870390287, 0.29910679942449336, 0.3073254249983741, 0.3229340860724643, 0.33461161944997775, 0.34005526217102733], \"yaxis\": \"y\"}, {\"hovertemplate\": \"symbol=AMC<br>timestamp=%{x}<br>gain_pct=%{y}<extra></extra>\", \"legendgroup\": \"AMC\", \"line\": {\"color\": \"#ab63fa\", \"dash\": \"solid\"}, \"mode\": \"lines\", \"name\": \"AMC\", \"showlegend\": true, \"type\": \"scatter\", \"x\": [\"2020-03-23T16:00:00\", \"2020-03-24T16:00:00\", \"2020-03-25T16:00:00\", \"2020-03-26T16:00:00\", \"2020-03-27T16:00:00\", \"2020-03-30T16:00:00\", \"2020-03-31T16:00:00\", \"2020-04-01T16:00:00\", \"2020-04-02T16:00:00\", \"2020-04-03T16:00:00\", \"2020-04-06T16:00:00\", \"2020-04-07T16:00:00\", \"2020-04-08T16:00:00\", \"2020-04-09T16:00:00\", \"2020-04-13T16:00:00\", \"2020-04-14T16:00:00\", \"2020-04-15T16:00:00\", \"2020-04-16T16:00:00\", \"2020-04-17T16:00:00\", \"2020-04-20T16:00:00\", \"2020-04-21T16:00:00\", \"2020-04-22T16:00:00\", \"2020-04-23T16:00:00\", \"2020-04-24T16:00:00\", \"2020-04-27T16:00:00\", \"2020-04-28T16:00:00\", \"2020-04-29T16:00:00\", \"2020-04-30T16:00:00\", \"2020-05-01T16:00:00\", \"2020-05-04T16:00:00\", \"2020-05-05T16:00:00\", \"2020-05-06T16:00:00\", \"2020-05-07T16:00:00\", \"2020-05-08T16:00:00\", \"2020-05-11T16:00:00\", \"2020-05-12T16:00:00\", \"2020-05-13T16:00:00\", \"2020-05-14T16:00:00\", \"2020-05-15T16:00:00\", \"2020-05-18T16:00:00\", \"2020-05-19T16:00:00\"], \"xaxis\": \"x\", \"y\": [0.09375003311369157, 0.2361110912428963, 0.20138890213436555, 0.284722238779068, 0.24999996688630843, 0.055555542310078865, 0.09722225202454471, -0.0902778175142076, -0.22222221891085303, -0.21180556217829383, 3.9736429924275285e-08, 0.09027781420283842, 0.1458333167764876, -0.09722225533591378, -0.277777804268731, -0.24305553237597144, -0.16319441464212203, -0.15277775790956283, 0.11111112766795683, 0.10416668984625077, 0.12847222222222232, 0.10416668984625077, 0.07986107468605042, 0.05902776122093201, 0.166666630241606, 0.43749995364083194, 0.8020833532015483, 0.7083333598242867, 0.5868056151602004, 0.4930556217829387, 0.35069448086950517, 0.36111113760206437, 0.3854166699780359, 0.4236110779974196, 0.8472222818268671, 0.777777738041348, 0.5972221891085308, 0.5798611773384943, 0.5694444378217063, 0.6388888160387676, 0.6006944908036127], \"yaxis\": \"y\"}, {\"hovertemplate\": \"symbol=ZM<br>timestamp=%{x}<br>gain_pct=%{y}<extra></extra>\", \"legendgroup\": \"ZM\", \"line\": {\"color\": \"#FFA15A\", \"dash\": \"solid\"}, \"mode\": \"lines\", \"name\": \"ZM\", \"showlegend\": true, \"type\": \"scatter\", \"x\": [\"2020-03-27T16:00:00\", \"2020-03-30T16:00:00\", \"2020-03-31T16:00:00\", \"2020-04-01T16:00:00\", \"2020-04-02T16:00:00\", \"2020-04-03T16:00:00\", \"2020-04-06T16:00:00\", \"2020-04-07T16:00:00\", \"2020-04-08T16:00:00\", \"2020-04-09T16:00:00\", \"2020-04-13T16:00:00\", \"2020-04-14T16:00:00\", \"2020-04-15T16:00:00\", \"2020-04-16T16:00:00\", \"2020-04-17T16:00:00\", \"2020-04-20T16:00:00\", \"2020-04-21T16:00:00\", \"2020-04-22T16:00:00\", \"2020-04-23T16:00:00\", \"2020-04-24T16:00:00\", \"2020-04-27T16:00:00\", \"2020-04-28T16:00:00\", \"2020-04-29T16:00:00\", \"2020-04-30T16:00:00\", \"2020-05-01T16:00:00\", \"2020-05-04T16:00:00\", \"2020-05-05T16:00:00\", \"2020-05-06T16:00:00\", \"2020-05-07T16:00:00\", \"2020-05-08T16:00:00\", \"2020-05-11T16:00:00\", \"2020-05-12T16:00:00\", \"2020-05-13T16:00:00\", \"2020-05-14T16:00:00\", \"2020-05-15T16:00:00\", \"2020-05-18T16:00:00\", \"2020-05-19T16:00:00\"], \"xaxis\": \"x\", \"y\": [0.009381841428186766, 0.003925776051716845, -0.02774638953232078, -0.0884290371947567, -0.188701841072754, -0.14698252080482932, -0.18198148618400256, -0.24312994876571958, -0.2161155262586083, -0.17153501805688687, -0.09561515623830374, -0.055891946306151796, 0.008450313118595787, -0.00019965062987592486, -0.001530390853724417, -0.00864990689224776, -0.04670966616234651, -0.00026615210592839667, 0.12509146541945992, 0.05662388084209091, 0.09521595650752301, 0.042783959150330286, -0.025351016517805025, -0.1006055082244639, -0.07804912130817909, -0.04557853189562666, -0.036396251751821374, -0.004657686220702395, 0.04997007819387744, 0.03400089092078251, 0.10772503644646392, 0.07152833379554746, 0.11211657056123792, 0.11724002702847414, 0.16328432917063473, 0.09581477437890928, 0.14056153627076196], \"yaxis\": \"y\"}],\n",
       "                        {\"legend\": {\"title\": {\"text\": \"symbol\"}, \"tracegroupgap\": 0}, \"margin\": {\"t\": 60}, \"template\": {\"data\": {\"bar\": [{\"error_x\": {\"color\": \"#f2f5fa\"}, \"error_y\": {\"color\": \"#f2f5fa\"}, \"marker\": {\"line\": {\"color\": \"rgb(17,17,17)\", \"width\": 0.5}}, \"type\": \"bar\"}], \"barpolar\": [{\"marker\": {\"line\": {\"color\": \"rgb(17,17,17)\", \"width\": 0.5}}, \"type\": \"barpolar\"}], \"carpet\": [{\"aaxis\": {\"endlinecolor\": \"#A2B1C6\", \"gridcolor\": \"#506784\", \"linecolor\": \"#506784\", \"minorgridcolor\": \"#506784\", \"startlinecolor\": \"#A2B1C6\"}, \"baxis\": {\"endlinecolor\": \"#A2B1C6\", \"gridcolor\": \"#506784\", \"linecolor\": \"#506784\", \"minorgridcolor\": \"#506784\", \"startlinecolor\": \"#A2B1C6\"}, \"type\": \"carpet\"}], \"choropleth\": [{\"colorbar\": {\"outlinewidth\": 0, \"ticks\": \"\"}, \"type\": \"choropleth\"}], \"contour\": [{\"colorbar\": {\"outlinewidth\": 0, \"ticks\": \"\"}, \"colorscale\": [[0.0, \"#0d0887\"], [0.1111111111111111, \"#46039f\"], [0.2222222222222222, \"#7201a8\"], [0.3333333333333333, \"#9c179e\"], [0.4444444444444444, \"#bd3786\"], [0.5555555555555556, \"#d8576b\"], [0.6666666666666666, \"#ed7953\"], [0.7777777777777778, \"#fb9f3a\"], [0.8888888888888888, \"#fdca26\"], [1.0, \"#f0f921\"]], \"type\": \"contour\"}], \"contourcarpet\": [{\"colorbar\": {\"outlinewidth\": 0, \"ticks\": \"\"}, \"type\": \"contourcarpet\"}], \"heatmap\": [{\"colorbar\": {\"outlinewidth\": 0, \"ticks\": \"\"}, \"colorscale\": [[0.0, \"#0d0887\"], [0.1111111111111111, \"#46039f\"], [0.2222222222222222, \"#7201a8\"], [0.3333333333333333, \"#9c179e\"], [0.4444444444444444, \"#bd3786\"], [0.5555555555555556, \"#d8576b\"], [0.6666666666666666, \"#ed7953\"], [0.7777777777777778, \"#fb9f3a\"], [0.8888888888888888, \"#fdca26\"], [1.0, \"#f0f921\"]], \"type\": \"heatmap\"}], \"heatmapgl\": [{\"colorbar\": {\"outlinewidth\": 0, \"ticks\": \"\"}, \"colorscale\": [[0.0, \"#0d0887\"], [0.1111111111111111, \"#46039f\"], [0.2222222222222222, \"#7201a8\"], [0.3333333333333333, \"#9c179e\"], [0.4444444444444444, \"#bd3786\"], [0.5555555555555556, \"#d8576b\"], [0.6666666666666666, \"#ed7953\"], [0.7777777777777778, \"#fb9f3a\"], [0.8888888888888888, \"#fdca26\"], [1.0, \"#f0f921\"]], \"type\": \"heatmapgl\"}], \"histogram\": [{\"marker\": {\"colorbar\": {\"outlinewidth\": 0, \"ticks\": \"\"}}, \"type\": \"histogram\"}], \"histogram2d\": [{\"colorbar\": {\"outlinewidth\": 0, \"ticks\": \"\"}, \"colorscale\": [[0.0, \"#0d0887\"], [0.1111111111111111, \"#46039f\"], [0.2222222222222222, \"#7201a8\"], [0.3333333333333333, \"#9c179e\"], [0.4444444444444444, \"#bd3786\"], [0.5555555555555556, \"#d8576b\"], [0.6666666666666666, \"#ed7953\"], [0.7777777777777778, \"#fb9f3a\"], [0.8888888888888888, \"#fdca26\"], [1.0, \"#f0f921\"]], \"type\": \"histogram2d\"}], \"histogram2dcontour\": [{\"colorbar\": {\"outlinewidth\": 0, \"ticks\": \"\"}, \"colorscale\": [[0.0, \"#0d0887\"], [0.1111111111111111, \"#46039f\"], [0.2222222222222222, \"#7201a8\"], [0.3333333333333333, \"#9c179e\"], [0.4444444444444444, \"#bd3786\"], [0.5555555555555556, \"#d8576b\"], [0.6666666666666666, \"#ed7953\"], [0.7777777777777778, \"#fb9f3a\"], [0.8888888888888888, \"#fdca26\"], [1.0, \"#f0f921\"]], \"type\": \"histogram2dcontour\"}], \"mesh3d\": [{\"colorbar\": {\"outlinewidth\": 0, \"ticks\": \"\"}, \"type\": \"mesh3d\"}], \"parcoords\": [{\"line\": {\"colorbar\": {\"outlinewidth\": 0, \"ticks\": \"\"}}, \"type\": \"parcoords\"}], \"pie\": [{\"automargin\": true, \"type\": \"pie\"}], \"scatter\": [{\"marker\": {\"line\": {\"color\": \"#283442\"}}, \"type\": \"scatter\"}], \"scatter3d\": [{\"line\": {\"colorbar\": {\"outlinewidth\": 0, \"ticks\": \"\"}}, \"marker\": {\"colorbar\": {\"outlinewidth\": 0, \"ticks\": \"\"}}, \"type\": \"scatter3d\"}], \"scattercarpet\": [{\"marker\": {\"colorbar\": {\"outlinewidth\": 0, \"ticks\": \"\"}}, \"type\": \"scattercarpet\"}], \"scattergeo\": [{\"marker\": {\"colorbar\": {\"outlinewidth\": 0, \"ticks\": \"\"}}, \"type\": \"scattergeo\"}], \"scattergl\": [{\"marker\": {\"line\": {\"color\": \"#283442\"}}, \"type\": \"scattergl\"}], \"scattermapbox\": [{\"marker\": {\"colorbar\": {\"outlinewidth\": 0, \"ticks\": \"\"}}, \"type\": \"scattermapbox\"}], \"scatterpolar\": [{\"marker\": {\"colorbar\": {\"outlinewidth\": 0, \"ticks\": \"\"}}, \"type\": \"scatterpolar\"}], \"scatterpolargl\": [{\"marker\": {\"colorbar\": {\"outlinewidth\": 0, \"ticks\": \"\"}}, \"type\": \"scatterpolargl\"}], \"scatterternary\": [{\"marker\": {\"colorbar\": {\"outlinewidth\": 0, \"ticks\": \"\"}}, \"type\": \"scatterternary\"}], \"surface\": [{\"colorbar\": {\"outlinewidth\": 0, \"ticks\": \"\"}, \"colorscale\": [[0.0, \"#0d0887\"], [0.1111111111111111, \"#46039f\"], [0.2222222222222222, \"#7201a8\"], [0.3333333333333333, \"#9c179e\"], [0.4444444444444444, \"#bd3786\"], [0.5555555555555556, \"#d8576b\"], [0.6666666666666666, \"#ed7953\"], [0.7777777777777778, \"#fb9f3a\"], [0.8888888888888888, \"#fdca26\"], [1.0, \"#f0f921\"]], \"type\": \"surface\"}], \"table\": [{\"cells\": {\"fill\": {\"color\": \"#506784\"}, \"line\": {\"color\": \"rgb(17,17,17)\"}}, \"header\": {\"fill\": {\"color\": \"#2a3f5f\"}, \"line\": {\"color\": \"rgb(17,17,17)\"}}, \"type\": \"table\"}]}, \"layout\": {\"annotationdefaults\": {\"arrowcolor\": \"#f2f5fa\", \"arrowhead\": 0, \"arrowwidth\": 1}, \"coloraxis\": {\"colorbar\": {\"outlinewidth\": 0, \"ticks\": \"\"}}, \"colorscale\": {\"diverging\": [[0, \"#8e0152\"], [0.1, \"#c51b7d\"], [0.2, \"#de77ae\"], [0.3, \"#f1b6da\"], [0.4, \"#fde0ef\"], [0.5, \"#f7f7f7\"], [0.6, \"#e6f5d0\"], [0.7, \"#b8e186\"], [0.8, \"#7fbc41\"], [0.9, \"#4d9221\"], [1, \"#276419\"]], \"sequential\": [[0.0, \"#0d0887\"], [0.1111111111111111, \"#46039f\"], [0.2222222222222222, \"#7201a8\"], [0.3333333333333333, \"#9c179e\"], [0.4444444444444444, \"#bd3786\"], [0.5555555555555556, \"#d8576b\"], [0.6666666666666666, \"#ed7953\"], [0.7777777777777778, \"#fb9f3a\"], [0.8888888888888888, \"#fdca26\"], [1.0, \"#f0f921\"]], \"sequentialminus\": [[0.0, \"#0d0887\"], [0.1111111111111111, \"#46039f\"], [0.2222222222222222, \"#7201a8\"], [0.3333333333333333, \"#9c179e\"], [0.4444444444444444, \"#bd3786\"], [0.5555555555555556, \"#d8576b\"], [0.6666666666666666, \"#ed7953\"], [0.7777777777777778, \"#fb9f3a\"], [0.8888888888888888, \"#fdca26\"], [1.0, \"#f0f921\"]]}, \"colorway\": [\"#636efa\", \"#EF553B\", \"#00cc96\", \"#ab63fa\", \"#FFA15A\", \"#19d3f3\", \"#FF6692\", \"#B6E880\", \"#FF97FF\", \"#FECB52\"], \"font\": {\"color\": \"#f2f5fa\"}, \"geo\": {\"bgcolor\": \"rgb(17,17,17)\", \"lakecolor\": \"rgb(17,17,17)\", \"landcolor\": \"rgb(17,17,17)\", \"showlakes\": true, \"showland\": true, \"subunitcolor\": \"#506784\"}, \"hoverlabel\": {\"align\": \"left\"}, \"hovermode\": \"closest\", \"mapbox\": {\"style\": \"dark\"}, \"paper_bgcolor\": \"rgb(17,17,17)\", \"plot_bgcolor\": \"rgb(17,17,17)\", \"polar\": {\"angularaxis\": {\"gridcolor\": \"#506784\", \"linecolor\": \"#506784\", \"ticks\": \"\"}, \"bgcolor\": \"rgb(17,17,17)\", \"radialaxis\": {\"gridcolor\": \"#506784\", \"linecolor\": \"#506784\", \"ticks\": \"\"}}, \"scene\": {\"xaxis\": {\"backgroundcolor\": \"rgb(17,17,17)\", \"gridcolor\": \"#506784\", \"gridwidth\": 2, \"linecolor\": \"#506784\", \"showbackground\": true, \"ticks\": \"\", \"zerolinecolor\": \"#C8D4E3\"}, \"yaxis\": {\"backgroundcolor\": \"rgb(17,17,17)\", \"gridcolor\": \"#506784\", \"gridwidth\": 2, \"linecolor\": \"#506784\", \"showbackground\": true, \"ticks\": \"\", \"zerolinecolor\": \"#C8D4E3\"}, \"zaxis\": {\"backgroundcolor\": \"rgb(17,17,17)\", \"gridcolor\": \"#506784\", \"gridwidth\": 2, \"linecolor\": \"#506784\", \"showbackground\": true, \"ticks\": \"\", \"zerolinecolor\": \"#C8D4E3\"}}, \"shapedefaults\": {\"line\": {\"color\": \"#f2f5fa\"}}, \"sliderdefaults\": {\"bgcolor\": \"#C8D4E3\", \"bordercolor\": \"rgb(17,17,17)\", \"borderwidth\": 1, \"tickwidth\": 0}, \"ternary\": {\"aaxis\": {\"gridcolor\": \"#506784\", \"linecolor\": \"#506784\", \"ticks\": \"\"}, \"baxis\": {\"gridcolor\": \"#506784\", \"linecolor\": \"#506784\", \"ticks\": \"\"}, \"bgcolor\": \"rgb(17,17,17)\", \"caxis\": {\"gridcolor\": \"#506784\", \"linecolor\": \"#506784\", \"ticks\": \"\"}}, \"title\": {\"x\": 0.05}, \"updatemenudefaults\": {\"bgcolor\": \"#506784\", \"borderwidth\": 0}, \"xaxis\": {\"automargin\": true, \"gridcolor\": \"#283442\", \"linecolor\": \"#506784\", \"ticks\": \"\", \"title\": {\"standoff\": 15}, \"zerolinecolor\": \"#283442\", \"zerolinewidth\": 2}, \"yaxis\": {\"automargin\": true, \"gridcolor\": \"#283442\", \"linecolor\": \"#506784\", \"ticks\": \"\", \"title\": {\"standoff\": 15}, \"zerolinecolor\": \"#283442\", \"zerolinewidth\": 2}}}, \"xaxis\": {\"anchor\": \"y\", \"domain\": [0.0, 1.0], \"title\": {\"text\": \"timestamp\"}}, \"yaxis\": {\"anchor\": \"x\", \"domain\": [0.0, 1.0], \"tickformat\": \"+%\", \"title\": {\"text\": \"gain_pct\"}}},\n",
       "                        {\"responsive\": true}\n",
       "                    ).then(function(){\n",
       "                            \n",
       "var gd = document.getElementById('f85efc94-aea5-40c3-bec3-7d587fe31657');\n",
       "var x = new MutationObserver(function (mutations, observer) {{\n",
       "        var display = window.getComputedStyle(gd).display;\n",
       "        if (!display || display === 'none') {{\n",
       "            console.log([gd, 'removed!']);\n",
       "            Plotly.purge(gd);\n",
       "            observer.disconnect();\n",
       "        }}\n",
       "}});\n",
       "\n",
       "// Listen for the removal of the full notebook cells\n",
       "var notebookContainer = gd.closest('#notebook-container');\n",
       "if (notebookContainer) {{\n",
       "    x.observe(notebookContainer, {childList: true});\n",
       "}}\n",
       "\n",
       "// Listen for the clearing of the current output cell\n",
       "var outputEl = gd.closest('.output');\n",
       "if (outputEl) {{\n",
       "    x.observe(outputEl, {childList: true});\n",
       "}}\n",
       "\n",
       "                        })\n",
       "                };\n",
       "                });\n",
       "            </script>\n",
       "        </div>"
      ]
     },
     "metadata": {},
     "output_type": "display_data"
    }
   ],
   "source": [
    "fig = px.line(performance, x='timestamp', y='gain_pct', color='symbol')\n",
    "fig.update_layout(yaxis_tickformat='+%')"
   ]
  },
  {
   "cell_type": "code",
   "execution_count": 7,
   "metadata": {
    "ExecuteTime": {
     "end_time": "2020-05-19T17:37:13.699752Z",
     "start_time": "2020-05-19T17:37:13.620867Z"
    },
    "scrolled": false
   },
   "outputs": [
    {
     "data": {
      "application/vnd.plotly.v1+json": {
       "config": {
        "plotlyServerURL": "https://plot.ly"
       },
       "data": [
        {
         "hovertemplate": "timestamp=%{x}<br>gain_pct=%{y}<extra></extra>",
         "legendgroup": "",
         "line": {
          "color": "#636efa",
          "dash": "solid"
         },
         "mode": "lines+markers",
         "name": "",
         "showlegend": false,
         "type": "scatter",
         "x": [
          "2020-03-20T16:00:00",
          "2020-03-23T16:00:00",
          "2020-03-24T16:00:00",
          "2020-03-25T16:00:00",
          "2020-03-26T16:00:00",
          "2020-03-27T16:00:00",
          "2020-03-30T16:00:00",
          "2020-03-31T16:00:00",
          "2020-04-01T16:00:00",
          "2020-04-02T16:00:00",
          "2020-04-03T16:00:00",
          "2020-04-06T16:00:00",
          "2020-04-07T16:00:00",
          "2020-04-08T16:00:00",
          "2020-04-09T16:00:00",
          "2020-04-13T16:00:00",
          "2020-04-14T16:00:00",
          "2020-04-15T16:00:00",
          "2020-04-16T16:00:00",
          "2020-04-17T16:00:00",
          "2020-04-20T16:00:00",
          "2020-04-21T16:00:00",
          "2020-04-22T16:00:00",
          "2020-04-23T16:00:00",
          "2020-04-24T16:00:00",
          "2020-04-27T16:00:00",
          "2020-04-28T16:00:00",
          "2020-04-29T16:00:00",
          "2020-04-30T16:00:00",
          "2020-05-01T16:00:00",
          "2020-05-04T16:00:00",
          "2020-05-05T16:00:00",
          "2020-05-06T16:00:00",
          "2020-05-07T16:00:00",
          "2020-05-08T16:00:00",
          "2020-05-11T16:00:00",
          "2020-05-12T16:00:00",
          "2020-05-13T16:00:00",
          "2020-05-14T16:00:00",
          "2020-05-15T16:00:00",
          "2020-05-18T16:00:00",
          "2020-05-19T16:00:00"
         ],
         "xaxis": "x",
         "y": [
          -0.037420905643179236,
          0.01635845438742556,
          0.11225516369944999,
          0.11049303158311297,
          0.14636680602515906,
          0.09214506208587281,
          0.0641954442792887,
          0.07771375627952981,
          -0.0039299928793185,
          -0.05522198109002774,
          -0.039259770114955295,
          0.03786877786077181,
          0.05887087510622324,
          0.08377018928801094,
          0.05934399068035434,
          0.09413159315875652,
          0.16006815827973608,
          0.19746439953581807,
          0.21743717278314367,
          0.2692307996802539,
          0.2620342417401156,
          0.21377436774720948,
          0.2525070493760664,
          0.26476223509900976,
          0.26026279845860256,
          0.31732223600320064,
          0.328147683912672,
          0.42419488450589915,
          0.39752835920575547,
          0.31240477857817606,
          0.3349492847728983,
          0.31913307858802464,
          0.3371708380751681,
          0.3566177503679484,
          0.3839239858212038,
          0.477409150165357,
          0.44582334049754246,
          0.40792730221608764,
          0.4157885095894589,
          0.4257451844290052,
          0.4372800514067632,
          0.44704835282393574
         ],
         "yaxis": "y"
        }
       ],
       "layout": {
        "height": 400,
        "legend": {
         "tracegroupgap": 0
        },
        "margin": {
         "t": 60
        },
        "template": {
         "data": {
          "bar": [
           {
            "error_x": {
             "color": "#f2f5fa"
            },
            "error_y": {
             "color": "#f2f5fa"
            },
            "marker": {
             "line": {
              "color": "rgb(17,17,17)",
              "width": 0.5
             }
            },
            "type": "bar"
           }
          ],
          "barpolar": [
           {
            "marker": {
             "line": {
              "color": "rgb(17,17,17)",
              "width": 0.5
             }
            },
            "type": "barpolar"
           }
          ],
          "carpet": [
           {
            "aaxis": {
             "endlinecolor": "#A2B1C6",
             "gridcolor": "#506784",
             "linecolor": "#506784",
             "minorgridcolor": "#506784",
             "startlinecolor": "#A2B1C6"
            },
            "baxis": {
             "endlinecolor": "#A2B1C6",
             "gridcolor": "#506784",
             "linecolor": "#506784",
             "minorgridcolor": "#506784",
             "startlinecolor": "#A2B1C6"
            },
            "type": "carpet"
           }
          ],
          "choropleth": [
           {
            "colorbar": {
             "outlinewidth": 0,
             "ticks": ""
            },
            "type": "choropleth"
           }
          ],
          "contour": [
           {
            "colorbar": {
             "outlinewidth": 0,
             "ticks": ""
            },
            "colorscale": [
             [
              0,
              "#0d0887"
             ],
             [
              0.1111111111111111,
              "#46039f"
             ],
             [
              0.2222222222222222,
              "#7201a8"
             ],
             [
              0.3333333333333333,
              "#9c179e"
             ],
             [
              0.4444444444444444,
              "#bd3786"
             ],
             [
              0.5555555555555556,
              "#d8576b"
             ],
             [
              0.6666666666666666,
              "#ed7953"
             ],
             [
              0.7777777777777778,
              "#fb9f3a"
             ],
             [
              0.8888888888888888,
              "#fdca26"
             ],
             [
              1,
              "#f0f921"
             ]
            ],
            "type": "contour"
           }
          ],
          "contourcarpet": [
           {
            "colorbar": {
             "outlinewidth": 0,
             "ticks": ""
            },
            "type": "contourcarpet"
           }
          ],
          "heatmap": [
           {
            "colorbar": {
             "outlinewidth": 0,
             "ticks": ""
            },
            "colorscale": [
             [
              0,
              "#0d0887"
             ],
             [
              0.1111111111111111,
              "#46039f"
             ],
             [
              0.2222222222222222,
              "#7201a8"
             ],
             [
              0.3333333333333333,
              "#9c179e"
             ],
             [
              0.4444444444444444,
              "#bd3786"
             ],
             [
              0.5555555555555556,
              "#d8576b"
             ],
             [
              0.6666666666666666,
              "#ed7953"
             ],
             [
              0.7777777777777778,
              "#fb9f3a"
             ],
             [
              0.8888888888888888,
              "#fdca26"
             ],
             [
              1,
              "#f0f921"
             ]
            ],
            "type": "heatmap"
           }
          ],
          "heatmapgl": [
           {
            "colorbar": {
             "outlinewidth": 0,
             "ticks": ""
            },
            "colorscale": [
             [
              0,
              "#0d0887"
             ],
             [
              0.1111111111111111,
              "#46039f"
             ],
             [
              0.2222222222222222,
              "#7201a8"
             ],
             [
              0.3333333333333333,
              "#9c179e"
             ],
             [
              0.4444444444444444,
              "#bd3786"
             ],
             [
              0.5555555555555556,
              "#d8576b"
             ],
             [
              0.6666666666666666,
              "#ed7953"
             ],
             [
              0.7777777777777778,
              "#fb9f3a"
             ],
             [
              0.8888888888888888,
              "#fdca26"
             ],
             [
              1,
              "#f0f921"
             ]
            ],
            "type": "heatmapgl"
           }
          ],
          "histogram": [
           {
            "marker": {
             "colorbar": {
              "outlinewidth": 0,
              "ticks": ""
             }
            },
            "type": "histogram"
           }
          ],
          "histogram2d": [
           {
            "colorbar": {
             "outlinewidth": 0,
             "ticks": ""
            },
            "colorscale": [
             [
              0,
              "#0d0887"
             ],
             [
              0.1111111111111111,
              "#46039f"
             ],
             [
              0.2222222222222222,
              "#7201a8"
             ],
             [
              0.3333333333333333,
              "#9c179e"
             ],
             [
              0.4444444444444444,
              "#bd3786"
             ],
             [
              0.5555555555555556,
              "#d8576b"
             ],
             [
              0.6666666666666666,
              "#ed7953"
             ],
             [
              0.7777777777777778,
              "#fb9f3a"
             ],
             [
              0.8888888888888888,
              "#fdca26"
             ],
             [
              1,
              "#f0f921"
             ]
            ],
            "type": "histogram2d"
           }
          ],
          "histogram2dcontour": [
           {
            "colorbar": {
             "outlinewidth": 0,
             "ticks": ""
            },
            "colorscale": [
             [
              0,
              "#0d0887"
             ],
             [
              0.1111111111111111,
              "#46039f"
             ],
             [
              0.2222222222222222,
              "#7201a8"
             ],
             [
              0.3333333333333333,
              "#9c179e"
             ],
             [
              0.4444444444444444,
              "#bd3786"
             ],
             [
              0.5555555555555556,
              "#d8576b"
             ],
             [
              0.6666666666666666,
              "#ed7953"
             ],
             [
              0.7777777777777778,
              "#fb9f3a"
             ],
             [
              0.8888888888888888,
              "#fdca26"
             ],
             [
              1,
              "#f0f921"
             ]
            ],
            "type": "histogram2dcontour"
           }
          ],
          "mesh3d": [
           {
            "colorbar": {
             "outlinewidth": 0,
             "ticks": ""
            },
            "type": "mesh3d"
           }
          ],
          "parcoords": [
           {
            "line": {
             "colorbar": {
              "outlinewidth": 0,
              "ticks": ""
             }
            },
            "type": "parcoords"
           }
          ],
          "pie": [
           {
            "automargin": true,
            "type": "pie"
           }
          ],
          "scatter": [
           {
            "marker": {
             "line": {
              "color": "#283442"
             }
            },
            "type": "scatter"
           }
          ],
          "scatter3d": [
           {
            "line": {
             "colorbar": {
              "outlinewidth": 0,
              "ticks": ""
             }
            },
            "marker": {
             "colorbar": {
              "outlinewidth": 0,
              "ticks": ""
             }
            },
            "type": "scatter3d"
           }
          ],
          "scattercarpet": [
           {
            "marker": {
             "colorbar": {
              "outlinewidth": 0,
              "ticks": ""
             }
            },
            "type": "scattercarpet"
           }
          ],
          "scattergeo": [
           {
            "marker": {
             "colorbar": {
              "outlinewidth": 0,
              "ticks": ""
             }
            },
            "type": "scattergeo"
           }
          ],
          "scattergl": [
           {
            "marker": {
             "line": {
              "color": "#283442"
             }
            },
            "type": "scattergl"
           }
          ],
          "scattermapbox": [
           {
            "marker": {
             "colorbar": {
              "outlinewidth": 0,
              "ticks": ""
             }
            },
            "type": "scattermapbox"
           }
          ],
          "scatterpolar": [
           {
            "marker": {
             "colorbar": {
              "outlinewidth": 0,
              "ticks": ""
             }
            },
            "type": "scatterpolar"
           }
          ],
          "scatterpolargl": [
           {
            "marker": {
             "colorbar": {
              "outlinewidth": 0,
              "ticks": ""
             }
            },
            "type": "scatterpolargl"
           }
          ],
          "scatterternary": [
           {
            "marker": {
             "colorbar": {
              "outlinewidth": 0,
              "ticks": ""
             }
            },
            "type": "scatterternary"
           }
          ],
          "surface": [
           {
            "colorbar": {
             "outlinewidth": 0,
             "ticks": ""
            },
            "colorscale": [
             [
              0,
              "#0d0887"
             ],
             [
              0.1111111111111111,
              "#46039f"
             ],
             [
              0.2222222222222222,
              "#7201a8"
             ],
             [
              0.3333333333333333,
              "#9c179e"
             ],
             [
              0.4444444444444444,
              "#bd3786"
             ],
             [
              0.5555555555555556,
              "#d8576b"
             ],
             [
              0.6666666666666666,
              "#ed7953"
             ],
             [
              0.7777777777777778,
              "#fb9f3a"
             ],
             [
              0.8888888888888888,
              "#fdca26"
             ],
             [
              1,
              "#f0f921"
             ]
            ],
            "type": "surface"
           }
          ],
          "table": [
           {
            "cells": {
             "fill": {
              "color": "#506784"
             },
             "line": {
              "color": "rgb(17,17,17)"
             }
            },
            "header": {
             "fill": {
              "color": "#2a3f5f"
             },
             "line": {
              "color": "rgb(17,17,17)"
             }
            },
            "type": "table"
           }
          ]
         },
         "layout": {
          "annotationdefaults": {
           "arrowcolor": "#f2f5fa",
           "arrowhead": 0,
           "arrowwidth": 1
          },
          "coloraxis": {
           "colorbar": {
            "outlinewidth": 0,
            "ticks": ""
           }
          },
          "colorscale": {
           "diverging": [
            [
             0,
             "#8e0152"
            ],
            [
             0.1,
             "#c51b7d"
            ],
            [
             0.2,
             "#de77ae"
            ],
            [
             0.3,
             "#f1b6da"
            ],
            [
             0.4,
             "#fde0ef"
            ],
            [
             0.5,
             "#f7f7f7"
            ],
            [
             0.6,
             "#e6f5d0"
            ],
            [
             0.7,
             "#b8e186"
            ],
            [
             0.8,
             "#7fbc41"
            ],
            [
             0.9,
             "#4d9221"
            ],
            [
             1,
             "#276419"
            ]
           ],
           "sequential": [
            [
             0,
             "#0d0887"
            ],
            [
             0.1111111111111111,
             "#46039f"
            ],
            [
             0.2222222222222222,
             "#7201a8"
            ],
            [
             0.3333333333333333,
             "#9c179e"
            ],
            [
             0.4444444444444444,
             "#bd3786"
            ],
            [
             0.5555555555555556,
             "#d8576b"
            ],
            [
             0.6666666666666666,
             "#ed7953"
            ],
            [
             0.7777777777777778,
             "#fb9f3a"
            ],
            [
             0.8888888888888888,
             "#fdca26"
            ],
            [
             1,
             "#f0f921"
            ]
           ],
           "sequentialminus": [
            [
             0,
             "#0d0887"
            ],
            [
             0.1111111111111111,
             "#46039f"
            ],
            [
             0.2222222222222222,
             "#7201a8"
            ],
            [
             0.3333333333333333,
             "#9c179e"
            ],
            [
             0.4444444444444444,
             "#bd3786"
            ],
            [
             0.5555555555555556,
             "#d8576b"
            ],
            [
             0.6666666666666666,
             "#ed7953"
            ],
            [
             0.7777777777777778,
             "#fb9f3a"
            ],
            [
             0.8888888888888888,
             "#fdca26"
            ],
            [
             1,
             "#f0f921"
            ]
           ]
          },
          "colorway": [
           "#636efa",
           "#EF553B",
           "#00cc96",
           "#ab63fa",
           "#FFA15A",
           "#19d3f3",
           "#FF6692",
           "#B6E880",
           "#FF97FF",
           "#FECB52"
          ],
          "font": {
           "color": "#f2f5fa"
          },
          "geo": {
           "bgcolor": "rgb(17,17,17)",
           "lakecolor": "rgb(17,17,17)",
           "landcolor": "rgb(17,17,17)",
           "showlakes": true,
           "showland": true,
           "subunitcolor": "#506784"
          },
          "hoverlabel": {
           "align": "left"
          },
          "hovermode": "closest",
          "mapbox": {
           "style": "dark"
          },
          "paper_bgcolor": "rgb(17,17,17)",
          "plot_bgcolor": "rgb(17,17,17)",
          "polar": {
           "angularaxis": {
            "gridcolor": "#506784",
            "linecolor": "#506784",
            "ticks": ""
           },
           "bgcolor": "rgb(17,17,17)",
           "radialaxis": {
            "gridcolor": "#506784",
            "linecolor": "#506784",
            "ticks": ""
           }
          },
          "scene": {
           "xaxis": {
            "backgroundcolor": "rgb(17,17,17)",
            "gridcolor": "#506784",
            "gridwidth": 2,
            "linecolor": "#506784",
            "showbackground": true,
            "ticks": "",
            "zerolinecolor": "#C8D4E3"
           },
           "yaxis": {
            "backgroundcolor": "rgb(17,17,17)",
            "gridcolor": "#506784",
            "gridwidth": 2,
            "linecolor": "#506784",
            "showbackground": true,
            "ticks": "",
            "zerolinecolor": "#C8D4E3"
           },
           "zaxis": {
            "backgroundcolor": "rgb(17,17,17)",
            "gridcolor": "#506784",
            "gridwidth": 2,
            "linecolor": "#506784",
            "showbackground": true,
            "ticks": "",
            "zerolinecolor": "#C8D4E3"
           }
          },
          "shapedefaults": {
           "line": {
            "color": "#f2f5fa"
           }
          },
          "sliderdefaults": {
           "bgcolor": "#C8D4E3",
           "bordercolor": "rgb(17,17,17)",
           "borderwidth": 1,
           "tickwidth": 0
          },
          "ternary": {
           "aaxis": {
            "gridcolor": "#506784",
            "linecolor": "#506784",
            "ticks": ""
           },
           "baxis": {
            "gridcolor": "#506784",
            "linecolor": "#506784",
            "ticks": ""
           },
           "bgcolor": "rgb(17,17,17)",
           "caxis": {
            "gridcolor": "#506784",
            "linecolor": "#506784",
            "ticks": ""
           }
          },
          "title": {
           "x": 0.05
          },
          "updatemenudefaults": {
           "bgcolor": "#506784",
           "borderwidth": 0
          },
          "xaxis": {
           "automargin": true,
           "gridcolor": "#283442",
           "linecolor": "#506784",
           "ticks": "",
           "title": {
            "standoff": 15
           },
           "zerolinecolor": "#283442",
           "zerolinewidth": 2
          },
          "yaxis": {
           "automargin": true,
           "gridcolor": "#283442",
           "linecolor": "#506784",
           "ticks": "",
           "title": {
            "standoff": 15
           },
           "zerolinecolor": "#283442",
           "zerolinewidth": 2
          }
         }
        },
        "xaxis": {
         "anchor": "y",
         "domain": [
          0,
          1
         ],
         "title": {
          "text": "timestamp"
         }
        },
        "yaxis": {
         "anchor": "x",
         "domain": [
          0,
          1
         ],
         "tickformat": "+%",
         "title": {
          "text": "gain_pct"
         }
        }
       }
      },
      "text/html": [
       "<div>\n",
       "        \n",
       "        \n",
       "            <div id=\"399c2c28-ce0f-4d14-9fcf-aa4c735c0748\" class=\"plotly-graph-div\" style=\"height:400px; width:100%;\"></div>\n",
       "            <script type=\"text/javascript\">\n",
       "                require([\"plotly\"], function(Plotly) {\n",
       "                    window.PLOTLYENV=window.PLOTLYENV || {};\n",
       "                    \n",
       "                if (document.getElementById(\"399c2c28-ce0f-4d14-9fcf-aa4c735c0748\")) {\n",
       "                    Plotly.newPlot(\n",
       "                        '399c2c28-ce0f-4d14-9fcf-aa4c735c0748',\n",
       "                        [{\"hovertemplate\": \"timestamp=%{x}<br>gain_pct=%{y}<extra></extra>\", \"legendgroup\": \"\", \"line\": {\"color\": \"#636efa\", \"dash\": \"solid\"}, \"mode\": \"lines+markers\", \"name\": \"\", \"showlegend\": false, \"type\": \"scatter\", \"x\": [\"2020-03-20T16:00:00\", \"2020-03-23T16:00:00\", \"2020-03-24T16:00:00\", \"2020-03-25T16:00:00\", \"2020-03-26T16:00:00\", \"2020-03-27T16:00:00\", \"2020-03-30T16:00:00\", \"2020-03-31T16:00:00\", \"2020-04-01T16:00:00\", \"2020-04-02T16:00:00\", \"2020-04-03T16:00:00\", \"2020-04-06T16:00:00\", \"2020-04-07T16:00:00\", \"2020-04-08T16:00:00\", \"2020-04-09T16:00:00\", \"2020-04-13T16:00:00\", \"2020-04-14T16:00:00\", \"2020-04-15T16:00:00\", \"2020-04-16T16:00:00\", \"2020-04-17T16:00:00\", \"2020-04-20T16:00:00\", \"2020-04-21T16:00:00\", \"2020-04-22T16:00:00\", \"2020-04-23T16:00:00\", \"2020-04-24T16:00:00\", \"2020-04-27T16:00:00\", \"2020-04-28T16:00:00\", \"2020-04-29T16:00:00\", \"2020-04-30T16:00:00\", \"2020-05-01T16:00:00\", \"2020-05-04T16:00:00\", \"2020-05-05T16:00:00\", \"2020-05-06T16:00:00\", \"2020-05-07T16:00:00\", \"2020-05-08T16:00:00\", \"2020-05-11T16:00:00\", \"2020-05-12T16:00:00\", \"2020-05-13T16:00:00\", \"2020-05-14T16:00:00\", \"2020-05-15T16:00:00\", \"2020-05-18T16:00:00\", \"2020-05-19T16:00:00\"], \"xaxis\": \"x\", \"y\": [-0.037420905643179236, 0.01635845438742556, 0.11225516369944999, 0.11049303158311297, 0.14636680602515906, 0.09214506208587281, 0.0641954442792887, 0.07771375627952981, -0.0039299928793185, -0.05522198109002774, -0.039259770114955295, 0.03786877786077181, 0.05887087510622324, 0.08377018928801094, 0.05934399068035434, 0.09413159315875652, 0.16006815827973608, 0.19746439953581807, 0.21743717278314367, 0.2692307996802539, 0.2620342417401156, 0.21377436774720948, 0.2525070493760664, 0.26476223509900976, 0.26026279845860256, 0.31732223600320064, 0.328147683912672, 0.42419488450589915, 0.39752835920575547, 0.31240477857817606, 0.3349492847728983, 0.31913307858802464, 0.3371708380751681, 0.3566177503679484, 0.3839239858212038, 0.477409150165357, 0.44582334049754246, 0.40792730221608764, 0.4157885095894589, 0.4257451844290052, 0.4372800514067632, 0.44704835282393574], \"yaxis\": \"y\"}],\n",
       "                        {\"height\": 400, \"legend\": {\"tracegroupgap\": 0}, \"margin\": {\"t\": 60}, \"template\": {\"data\": {\"bar\": [{\"error_x\": {\"color\": \"#f2f5fa\"}, \"error_y\": {\"color\": \"#f2f5fa\"}, \"marker\": {\"line\": {\"color\": \"rgb(17,17,17)\", \"width\": 0.5}}, \"type\": \"bar\"}], \"barpolar\": [{\"marker\": {\"line\": {\"color\": \"rgb(17,17,17)\", \"width\": 0.5}}, \"type\": \"barpolar\"}], \"carpet\": [{\"aaxis\": {\"endlinecolor\": \"#A2B1C6\", \"gridcolor\": \"#506784\", \"linecolor\": \"#506784\", \"minorgridcolor\": \"#506784\", \"startlinecolor\": \"#A2B1C6\"}, \"baxis\": {\"endlinecolor\": \"#A2B1C6\", \"gridcolor\": \"#506784\", \"linecolor\": \"#506784\", \"minorgridcolor\": \"#506784\", \"startlinecolor\": \"#A2B1C6\"}, \"type\": \"carpet\"}], \"choropleth\": [{\"colorbar\": {\"outlinewidth\": 0, \"ticks\": \"\"}, \"type\": \"choropleth\"}], \"contour\": [{\"colorbar\": {\"outlinewidth\": 0, \"ticks\": \"\"}, \"colorscale\": [[0.0, \"#0d0887\"], [0.1111111111111111, \"#46039f\"], [0.2222222222222222, \"#7201a8\"], [0.3333333333333333, \"#9c179e\"], [0.4444444444444444, \"#bd3786\"], [0.5555555555555556, \"#d8576b\"], [0.6666666666666666, \"#ed7953\"], [0.7777777777777778, \"#fb9f3a\"], [0.8888888888888888, \"#fdca26\"], [1.0, \"#f0f921\"]], \"type\": \"contour\"}], \"contourcarpet\": [{\"colorbar\": {\"outlinewidth\": 0, \"ticks\": \"\"}, \"type\": \"contourcarpet\"}], \"heatmap\": [{\"colorbar\": {\"outlinewidth\": 0, \"ticks\": \"\"}, \"colorscale\": [[0.0, \"#0d0887\"], [0.1111111111111111, \"#46039f\"], [0.2222222222222222, \"#7201a8\"], [0.3333333333333333, \"#9c179e\"], [0.4444444444444444, \"#bd3786\"], [0.5555555555555556, \"#d8576b\"], [0.6666666666666666, \"#ed7953\"], [0.7777777777777778, \"#fb9f3a\"], [0.8888888888888888, \"#fdca26\"], [1.0, \"#f0f921\"]], \"type\": \"heatmap\"}], \"heatmapgl\": [{\"colorbar\": {\"outlinewidth\": 0, \"ticks\": \"\"}, \"colorscale\": [[0.0, \"#0d0887\"], [0.1111111111111111, \"#46039f\"], [0.2222222222222222, \"#7201a8\"], [0.3333333333333333, \"#9c179e\"], [0.4444444444444444, \"#bd3786\"], [0.5555555555555556, \"#d8576b\"], [0.6666666666666666, \"#ed7953\"], [0.7777777777777778, \"#fb9f3a\"], [0.8888888888888888, \"#fdca26\"], [1.0, \"#f0f921\"]], \"type\": \"heatmapgl\"}], \"histogram\": [{\"marker\": {\"colorbar\": {\"outlinewidth\": 0, \"ticks\": \"\"}}, \"type\": \"histogram\"}], \"histogram2d\": [{\"colorbar\": {\"outlinewidth\": 0, \"ticks\": \"\"}, \"colorscale\": [[0.0, \"#0d0887\"], [0.1111111111111111, \"#46039f\"], [0.2222222222222222, \"#7201a8\"], [0.3333333333333333, \"#9c179e\"], [0.4444444444444444, \"#bd3786\"], [0.5555555555555556, \"#d8576b\"], [0.6666666666666666, \"#ed7953\"], [0.7777777777777778, \"#fb9f3a\"], [0.8888888888888888, \"#fdca26\"], [1.0, \"#f0f921\"]], \"type\": \"histogram2d\"}], \"histogram2dcontour\": [{\"colorbar\": {\"outlinewidth\": 0, \"ticks\": \"\"}, \"colorscale\": [[0.0, \"#0d0887\"], [0.1111111111111111, \"#46039f\"], [0.2222222222222222, \"#7201a8\"], [0.3333333333333333, \"#9c179e\"], [0.4444444444444444, \"#bd3786\"], [0.5555555555555556, \"#d8576b\"], [0.6666666666666666, \"#ed7953\"], [0.7777777777777778, \"#fb9f3a\"], [0.8888888888888888, \"#fdca26\"], [1.0, \"#f0f921\"]], \"type\": \"histogram2dcontour\"}], \"mesh3d\": [{\"colorbar\": {\"outlinewidth\": 0, \"ticks\": \"\"}, \"type\": \"mesh3d\"}], \"parcoords\": [{\"line\": {\"colorbar\": {\"outlinewidth\": 0, \"ticks\": \"\"}}, \"type\": \"parcoords\"}], \"pie\": [{\"automargin\": true, \"type\": \"pie\"}], \"scatter\": [{\"marker\": {\"line\": {\"color\": \"#283442\"}}, \"type\": \"scatter\"}], \"scatter3d\": [{\"line\": {\"colorbar\": {\"outlinewidth\": 0, \"ticks\": \"\"}}, \"marker\": {\"colorbar\": {\"outlinewidth\": 0, \"ticks\": \"\"}}, \"type\": \"scatter3d\"}], \"scattercarpet\": [{\"marker\": {\"colorbar\": {\"outlinewidth\": 0, \"ticks\": \"\"}}, \"type\": \"scattercarpet\"}], \"scattergeo\": [{\"marker\": {\"colorbar\": {\"outlinewidth\": 0, \"ticks\": \"\"}}, \"type\": \"scattergeo\"}], \"scattergl\": [{\"marker\": {\"line\": {\"color\": \"#283442\"}}, \"type\": \"scattergl\"}], \"scattermapbox\": [{\"marker\": {\"colorbar\": {\"outlinewidth\": 0, \"ticks\": \"\"}}, \"type\": \"scattermapbox\"}], \"scatterpolar\": [{\"marker\": {\"colorbar\": {\"outlinewidth\": 0, \"ticks\": \"\"}}, \"type\": \"scatterpolar\"}], \"scatterpolargl\": [{\"marker\": {\"colorbar\": {\"outlinewidth\": 0, \"ticks\": \"\"}}, \"type\": \"scatterpolargl\"}], \"scatterternary\": [{\"marker\": {\"colorbar\": {\"outlinewidth\": 0, \"ticks\": \"\"}}, \"type\": \"scatterternary\"}], \"surface\": [{\"colorbar\": {\"outlinewidth\": 0, \"ticks\": \"\"}, \"colorscale\": [[0.0, \"#0d0887\"], [0.1111111111111111, \"#46039f\"], [0.2222222222222222, \"#7201a8\"], [0.3333333333333333, \"#9c179e\"], [0.4444444444444444, \"#bd3786\"], [0.5555555555555556, \"#d8576b\"], [0.6666666666666666, \"#ed7953\"], [0.7777777777777778, \"#fb9f3a\"], [0.8888888888888888, \"#fdca26\"], [1.0, \"#f0f921\"]], \"type\": \"surface\"}], \"table\": [{\"cells\": {\"fill\": {\"color\": \"#506784\"}, \"line\": {\"color\": \"rgb(17,17,17)\"}}, \"header\": {\"fill\": {\"color\": \"#2a3f5f\"}, \"line\": {\"color\": \"rgb(17,17,17)\"}}, \"type\": \"table\"}]}, \"layout\": {\"annotationdefaults\": {\"arrowcolor\": \"#f2f5fa\", \"arrowhead\": 0, \"arrowwidth\": 1}, \"coloraxis\": {\"colorbar\": {\"outlinewidth\": 0, \"ticks\": \"\"}}, \"colorscale\": {\"diverging\": [[0, \"#8e0152\"], [0.1, \"#c51b7d\"], [0.2, \"#de77ae\"], [0.3, \"#f1b6da\"], [0.4, \"#fde0ef\"], [0.5, \"#f7f7f7\"], [0.6, \"#e6f5d0\"], [0.7, \"#b8e186\"], [0.8, \"#7fbc41\"], [0.9, \"#4d9221\"], [1, \"#276419\"]], \"sequential\": [[0.0, \"#0d0887\"], [0.1111111111111111, \"#46039f\"], [0.2222222222222222, \"#7201a8\"], [0.3333333333333333, \"#9c179e\"], [0.4444444444444444, \"#bd3786\"], [0.5555555555555556, \"#d8576b\"], [0.6666666666666666, \"#ed7953\"], [0.7777777777777778, \"#fb9f3a\"], [0.8888888888888888, \"#fdca26\"], [1.0, \"#f0f921\"]], \"sequentialminus\": [[0.0, \"#0d0887\"], [0.1111111111111111, \"#46039f\"], [0.2222222222222222, \"#7201a8\"], [0.3333333333333333, \"#9c179e\"], [0.4444444444444444, \"#bd3786\"], [0.5555555555555556, \"#d8576b\"], [0.6666666666666666, \"#ed7953\"], [0.7777777777777778, \"#fb9f3a\"], [0.8888888888888888, \"#fdca26\"], [1.0, \"#f0f921\"]]}, \"colorway\": [\"#636efa\", \"#EF553B\", \"#00cc96\", \"#ab63fa\", \"#FFA15A\", \"#19d3f3\", \"#FF6692\", \"#B6E880\", \"#FF97FF\", \"#FECB52\"], \"font\": {\"color\": \"#f2f5fa\"}, \"geo\": {\"bgcolor\": \"rgb(17,17,17)\", \"lakecolor\": \"rgb(17,17,17)\", \"landcolor\": \"rgb(17,17,17)\", \"showlakes\": true, \"showland\": true, \"subunitcolor\": \"#506784\"}, \"hoverlabel\": {\"align\": \"left\"}, \"hovermode\": \"closest\", \"mapbox\": {\"style\": \"dark\"}, \"paper_bgcolor\": \"rgb(17,17,17)\", \"plot_bgcolor\": \"rgb(17,17,17)\", \"polar\": {\"angularaxis\": {\"gridcolor\": \"#506784\", \"linecolor\": \"#506784\", \"ticks\": \"\"}, \"bgcolor\": \"rgb(17,17,17)\", \"radialaxis\": {\"gridcolor\": \"#506784\", \"linecolor\": \"#506784\", \"ticks\": \"\"}}, \"scene\": {\"xaxis\": {\"backgroundcolor\": \"rgb(17,17,17)\", \"gridcolor\": \"#506784\", \"gridwidth\": 2, \"linecolor\": \"#506784\", \"showbackground\": true, \"ticks\": \"\", \"zerolinecolor\": \"#C8D4E3\"}, \"yaxis\": {\"backgroundcolor\": \"rgb(17,17,17)\", \"gridcolor\": \"#506784\", \"gridwidth\": 2, \"linecolor\": \"#506784\", \"showbackground\": true, \"ticks\": \"\", \"zerolinecolor\": \"#C8D4E3\"}, \"zaxis\": {\"backgroundcolor\": \"rgb(17,17,17)\", \"gridcolor\": \"#506784\", \"gridwidth\": 2, \"linecolor\": \"#506784\", \"showbackground\": true, \"ticks\": \"\", \"zerolinecolor\": \"#C8D4E3\"}}, \"shapedefaults\": {\"line\": {\"color\": \"#f2f5fa\"}}, \"sliderdefaults\": {\"bgcolor\": \"#C8D4E3\", \"bordercolor\": \"rgb(17,17,17)\", \"borderwidth\": 1, \"tickwidth\": 0}, \"ternary\": {\"aaxis\": {\"gridcolor\": \"#506784\", \"linecolor\": \"#506784\", \"ticks\": \"\"}, \"baxis\": {\"gridcolor\": \"#506784\", \"linecolor\": \"#506784\", \"ticks\": \"\"}, \"bgcolor\": \"rgb(17,17,17)\", \"caxis\": {\"gridcolor\": \"#506784\", \"linecolor\": \"#506784\", \"ticks\": \"\"}}, \"title\": {\"x\": 0.05}, \"updatemenudefaults\": {\"bgcolor\": \"#506784\", \"borderwidth\": 0}, \"xaxis\": {\"automargin\": true, \"gridcolor\": \"#283442\", \"linecolor\": \"#506784\", \"ticks\": \"\", \"title\": {\"standoff\": 15}, \"zerolinecolor\": \"#283442\", \"zerolinewidth\": 2}, \"yaxis\": {\"automargin\": true, \"gridcolor\": \"#283442\", \"linecolor\": \"#506784\", \"ticks\": \"\", \"title\": {\"standoff\": 15}, \"zerolinecolor\": \"#283442\", \"zerolinewidth\": 2}}}, \"xaxis\": {\"anchor\": \"y\", \"domain\": [0.0, 1.0], \"title\": {\"text\": \"timestamp\"}}, \"yaxis\": {\"anchor\": \"x\", \"domain\": [0.0, 1.0], \"tickformat\": \"+%\", \"title\": {\"text\": \"gain_pct\"}}},\n",
       "                        {\"responsive\": true}\n",
       "                    ).then(function(){\n",
       "                            \n",
       "var gd = document.getElementById('399c2c28-ce0f-4d14-9fcf-aa4c735c0748');\n",
       "var x = new MutationObserver(function (mutations, observer) {{\n",
       "        var display = window.getComputedStyle(gd).display;\n",
       "        if (!display || display === 'none') {{\n",
       "            console.log([gd, 'removed!']);\n",
       "            Plotly.purge(gd);\n",
       "            observer.disconnect();\n",
       "        }}\n",
       "}});\n",
       "\n",
       "// Listen for the removal of the full notebook cells\n",
       "var notebookContainer = gd.closest('#notebook-container');\n",
       "if (notebookContainer) {{\n",
       "    x.observe(notebookContainer, {childList: true});\n",
       "}}\n",
       "\n",
       "// Listen for the clearing of the current output cell\n",
       "var outputEl = gd.closest('.output');\n",
       "if (outputEl) {{\n",
       "    x.observe(outputEl, {childList: true});\n",
       "}}\n",
       "\n",
       "                        })\n",
       "                };\n",
       "                });\n",
       "            </script>\n",
       "        </div>"
      ]
     },
     "metadata": {},
     "output_type": "display_data"
    }
   ],
   "source": [
    "performance_total = performance.groupby('timestamp')[['cost', 'value']].sum() \\\n",
    "    .assign(\n",
    "        gain=lambda df: df['value']-df['cost'],\n",
    "        gain_pct=lambda df: df['value']/df['cost']-1\n",
    "    )\n",
    "\n",
    "fig = px.line(performance_total.reset_index(), x='timestamp', y='gain_pct', height=400)\n",
    "fig.update_layout(yaxis_tickformat='+%')\n",
    "fig.update_traces(mode='lines+markers')\n",
    "display(fig)"
   ]
  },
  {
   "cell_type": "code",
   "execution_count": 8,
   "metadata": {
    "ExecuteTime": {
     "end_time": "2020-05-19T17:37:13.807398Z",
     "start_time": "2020-05-19T17:37:13.705931Z"
    }
   },
   "outputs": [
    {
     "data": {
      "text/html": [
       "<style  type=\"text/css\" >\n",
       "    #T_60300fce_99f7_11ea_9b40_82d09608bc01row0_col2 {\n",
       "            color:  red;\n",
       "        }    #T_60300fce_99f7_11ea_9b40_82d09608bc01row0_col3 {\n",
       "            color:  red;\n",
       "        }    #T_60300fce_99f7_11ea_9b40_82d09608bc01row0_col4 {\n",
       "            color:  black;\n",
       "        }    #T_60300fce_99f7_11ea_9b40_82d09608bc01row1_col2 {\n",
       "            color:  green;\n",
       "        }    #T_60300fce_99f7_11ea_9b40_82d09608bc01row1_col3 {\n",
       "            color:  green;\n",
       "        }    #T_60300fce_99f7_11ea_9b40_82d09608bc01row1_col4 {\n",
       "            color:  green;\n",
       "        }    #T_60300fce_99f7_11ea_9b40_82d09608bc01row2_col2 {\n",
       "            color:  green;\n",
       "        }    #T_60300fce_99f7_11ea_9b40_82d09608bc01row2_col3 {\n",
       "            color:  green;\n",
       "        }    #T_60300fce_99f7_11ea_9b40_82d09608bc01row2_col4 {\n",
       "            color:  green;\n",
       "        }    #T_60300fce_99f7_11ea_9b40_82d09608bc01row3_col2 {\n",
       "            color:  green;\n",
       "        }    #T_60300fce_99f7_11ea_9b40_82d09608bc01row3_col3 {\n",
       "            color:  green;\n",
       "        }    #T_60300fce_99f7_11ea_9b40_82d09608bc01row3_col4 {\n",
       "            color:  red;\n",
       "        }    #T_60300fce_99f7_11ea_9b40_82d09608bc01row4_col2 {\n",
       "            color:  green;\n",
       "        }    #T_60300fce_99f7_11ea_9b40_82d09608bc01row4_col3 {\n",
       "            color:  green;\n",
       "        }    #T_60300fce_99f7_11ea_9b40_82d09608bc01row4_col4 {\n",
       "            color:  green;\n",
       "        }    #T_60300fce_99f7_11ea_9b40_82d09608bc01row5_col2 {\n",
       "            color:  green;\n",
       "        }    #T_60300fce_99f7_11ea_9b40_82d09608bc01row5_col3 {\n",
       "            color:  green;\n",
       "        }    #T_60300fce_99f7_11ea_9b40_82d09608bc01row5_col4 {\n",
       "            color:  red;\n",
       "        }    #T_60300fce_99f7_11ea_9b40_82d09608bc01row6_col2 {\n",
       "            color:  green;\n",
       "        }    #T_60300fce_99f7_11ea_9b40_82d09608bc01row6_col3 {\n",
       "            color:  green;\n",
       "        }    #T_60300fce_99f7_11ea_9b40_82d09608bc01row6_col4 {\n",
       "            color:  red;\n",
       "        }    #T_60300fce_99f7_11ea_9b40_82d09608bc01row7_col2 {\n",
       "            color:  green;\n",
       "        }    #T_60300fce_99f7_11ea_9b40_82d09608bc01row7_col3 {\n",
       "            color:  green;\n",
       "        }    #T_60300fce_99f7_11ea_9b40_82d09608bc01row7_col4 {\n",
       "            color:  green;\n",
       "        }    #T_60300fce_99f7_11ea_9b40_82d09608bc01row8_col2 {\n",
       "            color:  red;\n",
       "        }    #T_60300fce_99f7_11ea_9b40_82d09608bc01row8_col3 {\n",
       "            color:  red;\n",
       "        }    #T_60300fce_99f7_11ea_9b40_82d09608bc01row8_col4 {\n",
       "            color:  red;\n",
       "        }    #T_60300fce_99f7_11ea_9b40_82d09608bc01row9_col2 {\n",
       "            color:  red;\n",
       "        }    #T_60300fce_99f7_11ea_9b40_82d09608bc01row9_col3 {\n",
       "            color:  red;\n",
       "        }    #T_60300fce_99f7_11ea_9b40_82d09608bc01row9_col4 {\n",
       "            color:  red;\n",
       "        }    #T_60300fce_99f7_11ea_9b40_82d09608bc01row10_col2 {\n",
       "            color:  red;\n",
       "        }    #T_60300fce_99f7_11ea_9b40_82d09608bc01row10_col3 {\n",
       "            color:  red;\n",
       "        }    #T_60300fce_99f7_11ea_9b40_82d09608bc01row10_col4 {\n",
       "            color:  green;\n",
       "        }    #T_60300fce_99f7_11ea_9b40_82d09608bc01row11_col2 {\n",
       "            color:  green;\n",
       "        }    #T_60300fce_99f7_11ea_9b40_82d09608bc01row11_col3 {\n",
       "            color:  green;\n",
       "        }    #T_60300fce_99f7_11ea_9b40_82d09608bc01row11_col4 {\n",
       "            color:  green;\n",
       "        }    #T_60300fce_99f7_11ea_9b40_82d09608bc01row12_col2 {\n",
       "            color:  green;\n",
       "        }    #T_60300fce_99f7_11ea_9b40_82d09608bc01row12_col3 {\n",
       "            color:  green;\n",
       "        }    #T_60300fce_99f7_11ea_9b40_82d09608bc01row12_col4 {\n",
       "            color:  green;\n",
       "        }    #T_60300fce_99f7_11ea_9b40_82d09608bc01row13_col2 {\n",
       "            color:  green;\n",
       "        }    #T_60300fce_99f7_11ea_9b40_82d09608bc01row13_col3 {\n",
       "            color:  green;\n",
       "        }    #T_60300fce_99f7_11ea_9b40_82d09608bc01row13_col4 {\n",
       "            color:  green;\n",
       "        }    #T_60300fce_99f7_11ea_9b40_82d09608bc01row14_col2 {\n",
       "            color:  green;\n",
       "        }    #T_60300fce_99f7_11ea_9b40_82d09608bc01row14_col3 {\n",
       "            color:  green;\n",
       "        }    #T_60300fce_99f7_11ea_9b40_82d09608bc01row14_col4 {\n",
       "            color:  red;\n",
       "        }    #T_60300fce_99f7_11ea_9b40_82d09608bc01row15_col2 {\n",
       "            color:  green;\n",
       "        }    #T_60300fce_99f7_11ea_9b40_82d09608bc01row15_col3 {\n",
       "            color:  green;\n",
       "        }    #T_60300fce_99f7_11ea_9b40_82d09608bc01row15_col4 {\n",
       "            color:  green;\n",
       "        }    #T_60300fce_99f7_11ea_9b40_82d09608bc01row16_col2 {\n",
       "            color:  green;\n",
       "        }    #T_60300fce_99f7_11ea_9b40_82d09608bc01row16_col3 {\n",
       "            color:  green;\n",
       "        }    #T_60300fce_99f7_11ea_9b40_82d09608bc01row16_col4 {\n",
       "            color:  green;\n",
       "        }    #T_60300fce_99f7_11ea_9b40_82d09608bc01row17_col2 {\n",
       "            color:  green;\n",
       "        }    #T_60300fce_99f7_11ea_9b40_82d09608bc01row17_col3 {\n",
       "            color:  green;\n",
       "        }    #T_60300fce_99f7_11ea_9b40_82d09608bc01row17_col4 {\n",
       "            color:  green;\n",
       "        }    #T_60300fce_99f7_11ea_9b40_82d09608bc01row18_col2 {\n",
       "            color:  green;\n",
       "        }    #T_60300fce_99f7_11ea_9b40_82d09608bc01row18_col3 {\n",
       "            color:  green;\n",
       "        }    #T_60300fce_99f7_11ea_9b40_82d09608bc01row18_col4 {\n",
       "            color:  green;\n",
       "        }    #T_60300fce_99f7_11ea_9b40_82d09608bc01row19_col2 {\n",
       "            color:  green;\n",
       "        }    #T_60300fce_99f7_11ea_9b40_82d09608bc01row19_col3 {\n",
       "            color:  green;\n",
       "        }    #T_60300fce_99f7_11ea_9b40_82d09608bc01row19_col4 {\n",
       "            color:  green;\n",
       "        }    #T_60300fce_99f7_11ea_9b40_82d09608bc01row20_col2 {\n",
       "            color:  green;\n",
       "        }    #T_60300fce_99f7_11ea_9b40_82d09608bc01row20_col3 {\n",
       "            color:  green;\n",
       "        }    #T_60300fce_99f7_11ea_9b40_82d09608bc01row20_col4 {\n",
       "            color:  red;\n",
       "        }    #T_60300fce_99f7_11ea_9b40_82d09608bc01row21_col2 {\n",
       "            color:  green;\n",
       "        }    #T_60300fce_99f7_11ea_9b40_82d09608bc01row21_col3 {\n",
       "            color:  green;\n",
       "        }    #T_60300fce_99f7_11ea_9b40_82d09608bc01row21_col4 {\n",
       "            color:  red;\n",
       "        }    #T_60300fce_99f7_11ea_9b40_82d09608bc01row22_col2 {\n",
       "            color:  green;\n",
       "        }    #T_60300fce_99f7_11ea_9b40_82d09608bc01row22_col3 {\n",
       "            color:  green;\n",
       "        }    #T_60300fce_99f7_11ea_9b40_82d09608bc01row22_col4 {\n",
       "            color:  green;\n",
       "        }    #T_60300fce_99f7_11ea_9b40_82d09608bc01row23_col2 {\n",
       "            color:  green;\n",
       "        }    #T_60300fce_99f7_11ea_9b40_82d09608bc01row23_col3 {\n",
       "            color:  green;\n",
       "        }    #T_60300fce_99f7_11ea_9b40_82d09608bc01row23_col4 {\n",
       "            color:  green;\n",
       "        }    #T_60300fce_99f7_11ea_9b40_82d09608bc01row24_col2 {\n",
       "            color:  green;\n",
       "        }    #T_60300fce_99f7_11ea_9b40_82d09608bc01row24_col3 {\n",
       "            color:  green;\n",
       "        }    #T_60300fce_99f7_11ea_9b40_82d09608bc01row24_col4 {\n",
       "            color:  red;\n",
       "        }    #T_60300fce_99f7_11ea_9b40_82d09608bc01row25_col2 {\n",
       "            color:  green;\n",
       "        }    #T_60300fce_99f7_11ea_9b40_82d09608bc01row25_col3 {\n",
       "            color:  green;\n",
       "        }    #T_60300fce_99f7_11ea_9b40_82d09608bc01row25_col4 {\n",
       "            color:  green;\n",
       "        }    #T_60300fce_99f7_11ea_9b40_82d09608bc01row26_col2 {\n",
       "            color:  green;\n",
       "        }    #T_60300fce_99f7_11ea_9b40_82d09608bc01row26_col3 {\n",
       "            color:  green;\n",
       "        }    #T_60300fce_99f7_11ea_9b40_82d09608bc01row26_col4 {\n",
       "            color:  green;\n",
       "        }    #T_60300fce_99f7_11ea_9b40_82d09608bc01row27_col2 {\n",
       "            color:  green;\n",
       "        }    #T_60300fce_99f7_11ea_9b40_82d09608bc01row27_col3 {\n",
       "            color:  green;\n",
       "        }    #T_60300fce_99f7_11ea_9b40_82d09608bc01row27_col4 {\n",
       "            color:  green;\n",
       "        }    #T_60300fce_99f7_11ea_9b40_82d09608bc01row28_col2 {\n",
       "            color:  green;\n",
       "        }    #T_60300fce_99f7_11ea_9b40_82d09608bc01row28_col3 {\n",
       "            color:  green;\n",
       "        }    #T_60300fce_99f7_11ea_9b40_82d09608bc01row28_col4 {\n",
       "            color:  red;\n",
       "        }    #T_60300fce_99f7_11ea_9b40_82d09608bc01row29_col2 {\n",
       "            color:  green;\n",
       "        }    #T_60300fce_99f7_11ea_9b40_82d09608bc01row29_col3 {\n",
       "            color:  green;\n",
       "        }    #T_60300fce_99f7_11ea_9b40_82d09608bc01row29_col4 {\n",
       "            color:  red;\n",
       "        }    #T_60300fce_99f7_11ea_9b40_82d09608bc01row30_col2 {\n",
       "            color:  green;\n",
       "        }    #T_60300fce_99f7_11ea_9b40_82d09608bc01row30_col3 {\n",
       "            color:  green;\n",
       "        }    #T_60300fce_99f7_11ea_9b40_82d09608bc01row30_col4 {\n",
       "            color:  green;\n",
       "        }    #T_60300fce_99f7_11ea_9b40_82d09608bc01row31_col2 {\n",
       "            color:  green;\n",
       "        }    #T_60300fce_99f7_11ea_9b40_82d09608bc01row31_col3 {\n",
       "            color:  green;\n",
       "        }    #T_60300fce_99f7_11ea_9b40_82d09608bc01row31_col4 {\n",
       "            color:  red;\n",
       "        }    #T_60300fce_99f7_11ea_9b40_82d09608bc01row32_col2 {\n",
       "            color:  green;\n",
       "        }    #T_60300fce_99f7_11ea_9b40_82d09608bc01row32_col3 {\n",
       "            color:  green;\n",
       "        }    #T_60300fce_99f7_11ea_9b40_82d09608bc01row32_col4 {\n",
       "            color:  green;\n",
       "        }    #T_60300fce_99f7_11ea_9b40_82d09608bc01row33_col2 {\n",
       "            color:  green;\n",
       "        }    #T_60300fce_99f7_11ea_9b40_82d09608bc01row33_col3 {\n",
       "            color:  green;\n",
       "        }    #T_60300fce_99f7_11ea_9b40_82d09608bc01row33_col4 {\n",
       "            color:  green;\n",
       "        }    #T_60300fce_99f7_11ea_9b40_82d09608bc01row34_col2 {\n",
       "            color:  green;\n",
       "        }    #T_60300fce_99f7_11ea_9b40_82d09608bc01row34_col3 {\n",
       "            color:  green;\n",
       "        }    #T_60300fce_99f7_11ea_9b40_82d09608bc01row34_col4 {\n",
       "            color:  green;\n",
       "        }    #T_60300fce_99f7_11ea_9b40_82d09608bc01row35_col2 {\n",
       "            color:  green;\n",
       "        }    #T_60300fce_99f7_11ea_9b40_82d09608bc01row35_col3 {\n",
       "            color:  green;\n",
       "        }    #T_60300fce_99f7_11ea_9b40_82d09608bc01row35_col4 {\n",
       "            color:  green;\n",
       "        }    #T_60300fce_99f7_11ea_9b40_82d09608bc01row36_col2 {\n",
       "            color:  green;\n",
       "        }    #T_60300fce_99f7_11ea_9b40_82d09608bc01row36_col3 {\n",
       "            color:  green;\n",
       "        }    #T_60300fce_99f7_11ea_9b40_82d09608bc01row36_col4 {\n",
       "            color:  red;\n",
       "        }    #T_60300fce_99f7_11ea_9b40_82d09608bc01row37_col2 {\n",
       "            color:  green;\n",
       "        }    #T_60300fce_99f7_11ea_9b40_82d09608bc01row37_col3 {\n",
       "            color:  green;\n",
       "        }    #T_60300fce_99f7_11ea_9b40_82d09608bc01row37_col4 {\n",
       "            color:  red;\n",
       "        }    #T_60300fce_99f7_11ea_9b40_82d09608bc01row38_col2 {\n",
       "            color:  green;\n",
       "        }    #T_60300fce_99f7_11ea_9b40_82d09608bc01row38_col3 {\n",
       "            color:  green;\n",
       "        }    #T_60300fce_99f7_11ea_9b40_82d09608bc01row38_col4 {\n",
       "            color:  green;\n",
       "        }    #T_60300fce_99f7_11ea_9b40_82d09608bc01row39_col2 {\n",
       "            color:  green;\n",
       "        }    #T_60300fce_99f7_11ea_9b40_82d09608bc01row39_col3 {\n",
       "            color:  green;\n",
       "        }    #T_60300fce_99f7_11ea_9b40_82d09608bc01row39_col4 {\n",
       "            color:  green;\n",
       "        }    #T_60300fce_99f7_11ea_9b40_82d09608bc01row40_col2 {\n",
       "            color:  green;\n",
       "        }    #T_60300fce_99f7_11ea_9b40_82d09608bc01row40_col3 {\n",
       "            color:  green;\n",
       "        }    #T_60300fce_99f7_11ea_9b40_82d09608bc01row40_col4 {\n",
       "            color:  green;\n",
       "        }    #T_60300fce_99f7_11ea_9b40_82d09608bc01row41_col2 {\n",
       "            color:  green;\n",
       "        }    #T_60300fce_99f7_11ea_9b40_82d09608bc01row41_col3 {\n",
       "            color:  green;\n",
       "        }    #T_60300fce_99f7_11ea_9b40_82d09608bc01row41_col4 {\n",
       "            color:  green;\n",
       "        }</style><table id=\"T_60300fce_99f7_11ea_9b40_82d09608bc01\" ><thead>    <tr>        <th class=\"blank level0\" ></th>        <th class=\"col_heading level0 col0\" >cost</th>        <th class=\"col_heading level0 col1\" >value</th>        <th class=\"col_heading level0 col2\" >gain</th>        <th class=\"col_heading level0 col3\" >gain_pct</th>        <th class=\"col_heading level0 col4\" >gain_pct_diff</th>    </tr>    <tr>        <th class=\"index_name level0\" >timestamp</th>        <th class=\"blank\" ></th>        <th class=\"blank\" ></th>        <th class=\"blank\" ></th>        <th class=\"blank\" ></th>        <th class=\"blank\" ></th>    </tr></thead><tbody>\n",
       "                <tr>\n",
       "                        <th id=\"T_60300fce_99f7_11ea_9b40_82d09608bc01level0_row0\" class=\"row_heading level0 row0\" >2020-03-20 16:00:00</th>\n",
       "                        <td id=\"T_60300fce_99f7_11ea_9b40_82d09608bc01row0_col0\" class=\"data row0 col0\" >7,388.92</td>\n",
       "                        <td id=\"T_60300fce_99f7_11ea_9b40_82d09608bc01row0_col1\" class=\"data row0 col1\" >7,112.42</td>\n",
       "                        <td id=\"T_60300fce_99f7_11ea_9b40_82d09608bc01row0_col2\" class=\"data row0 col2\" >-277</td>\n",
       "                        <td id=\"T_60300fce_99f7_11ea_9b40_82d09608bc01row0_col3\" class=\"data row0 col3\" >-3.74%</td>\n",
       "                        <td id=\"T_60300fce_99f7_11ea_9b40_82d09608bc01row0_col4\" class=\"data row0 col4\" >+nan%</td>\n",
       "            </tr>\n",
       "            <tr>\n",
       "                        <th id=\"T_60300fce_99f7_11ea_9b40_82d09608bc01level0_row1\" class=\"row_heading level0 row1\" >2020-03-23 16:00:00</th>\n",
       "                        <td id=\"T_60300fce_99f7_11ea_9b40_82d09608bc01row1_col0\" class=\"data row1 col0\" >13,500.67</td>\n",
       "                        <td id=\"T_60300fce_99f7_11ea_9b40_82d09608bc01row1_col1\" class=\"data row1 col1\" >13,721.52</td>\n",
       "                        <td id=\"T_60300fce_99f7_11ea_9b40_82d09608bc01row1_col2\" class=\"data row1 col2\" >+221</td>\n",
       "                        <td id=\"T_60300fce_99f7_11ea_9b40_82d09608bc01row1_col3\" class=\"data row1 col3\" >+1.64%</td>\n",
       "                        <td id=\"T_60300fce_99f7_11ea_9b40_82d09608bc01row1_col4\" class=\"data row1 col4\" >+5.38%</td>\n",
       "            </tr>\n",
       "            <tr>\n",
       "                        <th id=\"T_60300fce_99f7_11ea_9b40_82d09608bc01level0_row2\" class=\"row_heading level0 row2\" >2020-03-24 16:00:00</th>\n",
       "                        <td id=\"T_60300fce_99f7_11ea_9b40_82d09608bc01row2_col0\" class=\"data row2 col0\" >13,500.67</td>\n",
       "                        <td id=\"T_60300fce_99f7_11ea_9b40_82d09608bc01row2_col1\" class=\"data row2 col1\" >15,016.19</td>\n",
       "                        <td id=\"T_60300fce_99f7_11ea_9b40_82d09608bc01row2_col2\" class=\"data row2 col2\" >+1,516</td>\n",
       "                        <td id=\"T_60300fce_99f7_11ea_9b40_82d09608bc01row2_col3\" class=\"data row2 col3\" >+11.23%</td>\n",
       "                        <td id=\"T_60300fce_99f7_11ea_9b40_82d09608bc01row2_col4\" class=\"data row2 col4\" >+9.59%</td>\n",
       "            </tr>\n",
       "            <tr>\n",
       "                        <th id=\"T_60300fce_99f7_11ea_9b40_82d09608bc01level0_row3\" class=\"row_heading level0 row3\" >2020-03-25 16:00:00</th>\n",
       "                        <td id=\"T_60300fce_99f7_11ea_9b40_82d09608bc01row3_col0\" class=\"data row3 col0\" >13,500.67</td>\n",
       "                        <td id=\"T_60300fce_99f7_11ea_9b40_82d09608bc01row3_col1\" class=\"data row3 col1\" >14,992.40</td>\n",
       "                        <td id=\"T_60300fce_99f7_11ea_9b40_82d09608bc01row3_col2\" class=\"data row3 col2\" >+1,492</td>\n",
       "                        <td id=\"T_60300fce_99f7_11ea_9b40_82d09608bc01row3_col3\" class=\"data row3 col3\" >+11.05%</td>\n",
       "                        <td id=\"T_60300fce_99f7_11ea_9b40_82d09608bc01row3_col4\" class=\"data row3 col4\" >-0.18%</td>\n",
       "            </tr>\n",
       "            <tr>\n",
       "                        <th id=\"T_60300fce_99f7_11ea_9b40_82d09608bc01level0_row4\" class=\"row_heading level0 row4\" >2020-03-26 16:00:00</th>\n",
       "                        <td id=\"T_60300fce_99f7_11ea_9b40_82d09608bc01row4_col0\" class=\"data row4 col0\" >13,500.67</td>\n",
       "                        <td id=\"T_60300fce_99f7_11ea_9b40_82d09608bc01row4_col1\" class=\"data row4 col1\" >15,476.72</td>\n",
       "                        <td id=\"T_60300fce_99f7_11ea_9b40_82d09608bc01row4_col2\" class=\"data row4 col2\" >+1,976</td>\n",
       "                        <td id=\"T_60300fce_99f7_11ea_9b40_82d09608bc01row4_col3\" class=\"data row4 col3\" >+14.64%</td>\n",
       "                        <td id=\"T_60300fce_99f7_11ea_9b40_82d09608bc01row4_col4\" class=\"data row4 col4\" >+3.59%</td>\n",
       "            </tr>\n",
       "            <tr>\n",
       "                        <th id=\"T_60300fce_99f7_11ea_9b40_82d09608bc01level0_row5\" class=\"row_heading level0 row5\" >2020-03-27 16:00:00</th>\n",
       "                        <td id=\"T_60300fce_99f7_11ea_9b40_82d09608bc01row5_col0\" class=\"data row5 col0\" >16,506.47</td>\n",
       "                        <td id=\"T_60300fce_99f7_11ea_9b40_82d09608bc01row5_col1\" class=\"data row5 col1\" >18,027.46</td>\n",
       "                        <td id=\"T_60300fce_99f7_11ea_9b40_82d09608bc01row5_col2\" class=\"data row5 col2\" >+1,521</td>\n",
       "                        <td id=\"T_60300fce_99f7_11ea_9b40_82d09608bc01row5_col3\" class=\"data row5 col3\" >+9.21%</td>\n",
       "                        <td id=\"T_60300fce_99f7_11ea_9b40_82d09608bc01row5_col4\" class=\"data row5 col4\" >-5.42%</td>\n",
       "            </tr>\n",
       "            <tr>\n",
       "                        <th id=\"T_60300fce_99f7_11ea_9b40_82d09608bc01level0_row6\" class=\"row_heading level0 row6\" >2020-03-30 16:00:00</th>\n",
       "                        <td id=\"T_60300fce_99f7_11ea_9b40_82d09608bc01row6_col0\" class=\"data row6 col0\" >16,506.47</td>\n",
       "                        <td id=\"T_60300fce_99f7_11ea_9b40_82d09608bc01row6_col1\" class=\"data row6 col1\" >17,566.11</td>\n",
       "                        <td id=\"T_60300fce_99f7_11ea_9b40_82d09608bc01row6_col2\" class=\"data row6 col2\" >+1,060</td>\n",
       "                        <td id=\"T_60300fce_99f7_11ea_9b40_82d09608bc01row6_col3\" class=\"data row6 col3\" >+6.42%</td>\n",
       "                        <td id=\"T_60300fce_99f7_11ea_9b40_82d09608bc01row6_col4\" class=\"data row6 col4\" >-2.79%</td>\n",
       "            </tr>\n",
       "            <tr>\n",
       "                        <th id=\"T_60300fce_99f7_11ea_9b40_82d09608bc01level0_row7\" class=\"row_heading level0 row7\" >2020-03-31 16:00:00</th>\n",
       "                        <td id=\"T_60300fce_99f7_11ea_9b40_82d09608bc01row7_col0\" class=\"data row7 col0\" >16,506.47</td>\n",
       "                        <td id=\"T_60300fce_99f7_11ea_9b40_82d09608bc01row7_col1\" class=\"data row7 col1\" >17,789.25</td>\n",
       "                        <td id=\"T_60300fce_99f7_11ea_9b40_82d09608bc01row7_col2\" class=\"data row7 col2\" >+1,283</td>\n",
       "                        <td id=\"T_60300fce_99f7_11ea_9b40_82d09608bc01row7_col3\" class=\"data row7 col3\" >+7.77%</td>\n",
       "                        <td id=\"T_60300fce_99f7_11ea_9b40_82d09608bc01row7_col4\" class=\"data row7 col4\" >+1.35%</td>\n",
       "            </tr>\n",
       "            <tr>\n",
       "                        <th id=\"T_60300fce_99f7_11ea_9b40_82d09608bc01level0_row8\" class=\"row_heading level0 row8\" >2020-04-01 16:00:00</th>\n",
       "                        <td id=\"T_60300fce_99f7_11ea_9b40_82d09608bc01row8_col0\" class=\"data row8 col0\" >16,506.47</td>\n",
       "                        <td id=\"T_60300fce_99f7_11ea_9b40_82d09608bc01row8_col1\" class=\"data row8 col1\" >16,441.60</td>\n",
       "                        <td id=\"T_60300fce_99f7_11ea_9b40_82d09608bc01row8_col2\" class=\"data row8 col2\" >-65</td>\n",
       "                        <td id=\"T_60300fce_99f7_11ea_9b40_82d09608bc01row8_col3\" class=\"data row8 col3\" >-0.39%</td>\n",
       "                        <td id=\"T_60300fce_99f7_11ea_9b40_82d09608bc01row8_col4\" class=\"data row8 col4\" >-8.16%</td>\n",
       "            </tr>\n",
       "            <tr>\n",
       "                        <th id=\"T_60300fce_99f7_11ea_9b40_82d09608bc01level0_row9\" class=\"row_heading level0 row9\" >2020-04-02 16:00:00</th>\n",
       "                        <td id=\"T_60300fce_99f7_11ea_9b40_82d09608bc01row9_col0\" class=\"data row9 col0\" >16,506.47</td>\n",
       "                        <td id=\"T_60300fce_99f7_11ea_9b40_82d09608bc01row9_col1\" class=\"data row9 col1\" >15,594.95</td>\n",
       "                        <td id=\"T_60300fce_99f7_11ea_9b40_82d09608bc01row9_col2\" class=\"data row9 col2\" >-912</td>\n",
       "                        <td id=\"T_60300fce_99f7_11ea_9b40_82d09608bc01row9_col3\" class=\"data row9 col3\" >-5.52%</td>\n",
       "                        <td id=\"T_60300fce_99f7_11ea_9b40_82d09608bc01row9_col4\" class=\"data row9 col4\" >-5.13%</td>\n",
       "            </tr>\n",
       "            <tr>\n",
       "                        <th id=\"T_60300fce_99f7_11ea_9b40_82d09608bc01level0_row10\" class=\"row_heading level0 row10\" >2020-04-03 16:00:00</th>\n",
       "                        <td id=\"T_60300fce_99f7_11ea_9b40_82d09608bc01row10_col0\" class=\"data row10 col0\" >16,506.47</td>\n",
       "                        <td id=\"T_60300fce_99f7_11ea_9b40_82d09608bc01row10_col1\" class=\"data row10 col1\" >15,858.43</td>\n",
       "                        <td id=\"T_60300fce_99f7_11ea_9b40_82d09608bc01row10_col2\" class=\"data row10 col2\" >-648</td>\n",
       "                        <td id=\"T_60300fce_99f7_11ea_9b40_82d09608bc01row10_col3\" class=\"data row10 col3\" >-3.93%</td>\n",
       "                        <td id=\"T_60300fce_99f7_11ea_9b40_82d09608bc01row10_col4\" class=\"data row10 col4\" >+1.60%</td>\n",
       "            </tr>\n",
       "            <tr>\n",
       "                        <th id=\"T_60300fce_99f7_11ea_9b40_82d09608bc01level0_row11\" class=\"row_heading level0 row11\" >2020-04-06 16:00:00</th>\n",
       "                        <td id=\"T_60300fce_99f7_11ea_9b40_82d09608bc01row11_col0\" class=\"data row11 col0\" >16,506.47</td>\n",
       "                        <td id=\"T_60300fce_99f7_11ea_9b40_82d09608bc01row11_col1\" class=\"data row11 col1\" >17,131.55</td>\n",
       "                        <td id=\"T_60300fce_99f7_11ea_9b40_82d09608bc01row11_col2\" class=\"data row11 col2\" >+625</td>\n",
       "                        <td id=\"T_60300fce_99f7_11ea_9b40_82d09608bc01row11_col3\" class=\"data row11 col3\" >+3.79%</td>\n",
       "                        <td id=\"T_60300fce_99f7_11ea_9b40_82d09608bc01row11_col4\" class=\"data row11 col4\" >+7.71%</td>\n",
       "            </tr>\n",
       "            <tr>\n",
       "                        <th id=\"T_60300fce_99f7_11ea_9b40_82d09608bc01level0_row12\" class=\"row_heading level0 row12\" >2020-04-07 16:00:00</th>\n",
       "                        <td id=\"T_60300fce_99f7_11ea_9b40_82d09608bc01row12_col0\" class=\"data row12 col0\" >16,506.47</td>\n",
       "                        <td id=\"T_60300fce_99f7_11ea_9b40_82d09608bc01row12_col1\" class=\"data row12 col1\" >17,478.22</td>\n",
       "                        <td id=\"T_60300fce_99f7_11ea_9b40_82d09608bc01row12_col2\" class=\"data row12 col2\" >+972</td>\n",
       "                        <td id=\"T_60300fce_99f7_11ea_9b40_82d09608bc01row12_col3\" class=\"data row12 col3\" >+5.89%</td>\n",
       "                        <td id=\"T_60300fce_99f7_11ea_9b40_82d09608bc01row12_col4\" class=\"data row12 col4\" >+2.10%</td>\n",
       "            </tr>\n",
       "            <tr>\n",
       "                        <th id=\"T_60300fce_99f7_11ea_9b40_82d09608bc01level0_row13\" class=\"row_heading level0 row13\" >2020-04-08 16:00:00</th>\n",
       "                        <td id=\"T_60300fce_99f7_11ea_9b40_82d09608bc01row13_col0\" class=\"data row13 col0\" >16,506.47</td>\n",
       "                        <td id=\"T_60300fce_99f7_11ea_9b40_82d09608bc01row13_col1\" class=\"data row13 col1\" >17,889.22</td>\n",
       "                        <td id=\"T_60300fce_99f7_11ea_9b40_82d09608bc01row13_col2\" class=\"data row13 col2\" >+1,383</td>\n",
       "                        <td id=\"T_60300fce_99f7_11ea_9b40_82d09608bc01row13_col3\" class=\"data row13 col3\" >+8.38%</td>\n",
       "                        <td id=\"T_60300fce_99f7_11ea_9b40_82d09608bc01row13_col4\" class=\"data row13 col4\" >+2.49%</td>\n",
       "            </tr>\n",
       "            <tr>\n",
       "                        <th id=\"T_60300fce_99f7_11ea_9b40_82d09608bc01level0_row14\" class=\"row_heading level0 row14\" >2020-04-09 16:00:00</th>\n",
       "                        <td id=\"T_60300fce_99f7_11ea_9b40_82d09608bc01row14_col0\" class=\"data row14 col0\" >16,506.47</td>\n",
       "                        <td id=\"T_60300fce_99f7_11ea_9b40_82d09608bc01row14_col1\" class=\"data row14 col1\" >17,486.03</td>\n",
       "                        <td id=\"T_60300fce_99f7_11ea_9b40_82d09608bc01row14_col2\" class=\"data row14 col2\" >+980</td>\n",
       "                        <td id=\"T_60300fce_99f7_11ea_9b40_82d09608bc01row14_col3\" class=\"data row14 col3\" >+5.93%</td>\n",
       "                        <td id=\"T_60300fce_99f7_11ea_9b40_82d09608bc01row14_col4\" class=\"data row14 col4\" >-2.44%</td>\n",
       "            </tr>\n",
       "            <tr>\n",
       "                        <th id=\"T_60300fce_99f7_11ea_9b40_82d09608bc01level0_row15\" class=\"row_heading level0 row15\" >2020-04-13 16:00:00</th>\n",
       "                        <td id=\"T_60300fce_99f7_11ea_9b40_82d09608bc01row15_col0\" class=\"data row15 col0\" >16,506.47</td>\n",
       "                        <td id=\"T_60300fce_99f7_11ea_9b40_82d09608bc01row15_col1\" class=\"data row15 col1\" >18,060.25</td>\n",
       "                        <td id=\"T_60300fce_99f7_11ea_9b40_82d09608bc01row15_col2\" class=\"data row15 col2\" >+1,554</td>\n",
       "                        <td id=\"T_60300fce_99f7_11ea_9b40_82d09608bc01row15_col3\" class=\"data row15 col3\" >+9.41%</td>\n",
       "                        <td id=\"T_60300fce_99f7_11ea_9b40_82d09608bc01row15_col4\" class=\"data row15 col4\" >+3.48%</td>\n",
       "            </tr>\n",
       "            <tr>\n",
       "                        <th id=\"T_60300fce_99f7_11ea_9b40_82d09608bc01level0_row16\" class=\"row_heading level0 row16\" >2020-04-14 16:00:00</th>\n",
       "                        <td id=\"T_60300fce_99f7_11ea_9b40_82d09608bc01row16_col0\" class=\"data row16 col0\" >16,506.47</td>\n",
       "                        <td id=\"T_60300fce_99f7_11ea_9b40_82d09608bc01row16_col1\" class=\"data row16 col1\" >19,148.63</td>\n",
       "                        <td id=\"T_60300fce_99f7_11ea_9b40_82d09608bc01row16_col2\" class=\"data row16 col2\" >+2,642</td>\n",
       "                        <td id=\"T_60300fce_99f7_11ea_9b40_82d09608bc01row16_col3\" class=\"data row16 col3\" >+16.01%</td>\n",
       "                        <td id=\"T_60300fce_99f7_11ea_9b40_82d09608bc01row16_col4\" class=\"data row16 col4\" >+6.59%</td>\n",
       "            </tr>\n",
       "            <tr>\n",
       "                        <th id=\"T_60300fce_99f7_11ea_9b40_82d09608bc01level0_row17\" class=\"row_heading level0 row17\" >2020-04-15 16:00:00</th>\n",
       "                        <td id=\"T_60300fce_99f7_11ea_9b40_82d09608bc01row17_col0\" class=\"data row17 col0\" >16,506.47</td>\n",
       "                        <td id=\"T_60300fce_99f7_11ea_9b40_82d09608bc01row17_col1\" class=\"data row17 col1\" >19,765.91</td>\n",
       "                        <td id=\"T_60300fce_99f7_11ea_9b40_82d09608bc01row17_col2\" class=\"data row17 col2\" >+3,259</td>\n",
       "                        <td id=\"T_60300fce_99f7_11ea_9b40_82d09608bc01row17_col3\" class=\"data row17 col3\" >+19.75%</td>\n",
       "                        <td id=\"T_60300fce_99f7_11ea_9b40_82d09608bc01row17_col4\" class=\"data row17 col4\" >+3.74%</td>\n",
       "            </tr>\n",
       "            <tr>\n",
       "                        <th id=\"T_60300fce_99f7_11ea_9b40_82d09608bc01level0_row18\" class=\"row_heading level0 row18\" >2020-04-16 16:00:00</th>\n",
       "                        <td id=\"T_60300fce_99f7_11ea_9b40_82d09608bc01row18_col0\" class=\"data row18 col0\" >16,506.47</td>\n",
       "                        <td id=\"T_60300fce_99f7_11ea_9b40_82d09608bc01row18_col1\" class=\"data row18 col1\" >20,095.59</td>\n",
       "                        <td id=\"T_60300fce_99f7_11ea_9b40_82d09608bc01row18_col2\" class=\"data row18 col2\" >+3,589</td>\n",
       "                        <td id=\"T_60300fce_99f7_11ea_9b40_82d09608bc01row18_col3\" class=\"data row18 col3\" >+21.74%</td>\n",
       "                        <td id=\"T_60300fce_99f7_11ea_9b40_82d09608bc01row18_col4\" class=\"data row18 col4\" >+2.00%</td>\n",
       "            </tr>\n",
       "            <tr>\n",
       "                        <th id=\"T_60300fce_99f7_11ea_9b40_82d09608bc01level0_row19\" class=\"row_heading level0 row19\" >2020-04-17 16:00:00</th>\n",
       "                        <td id=\"T_60300fce_99f7_11ea_9b40_82d09608bc01row19_col0\" class=\"data row19 col0\" >16,506.47</td>\n",
       "                        <td id=\"T_60300fce_99f7_11ea_9b40_82d09608bc01row19_col1\" class=\"data row19 col1\" >20,950.52</td>\n",
       "                        <td id=\"T_60300fce_99f7_11ea_9b40_82d09608bc01row19_col2\" class=\"data row19 col2\" >+4,444</td>\n",
       "                        <td id=\"T_60300fce_99f7_11ea_9b40_82d09608bc01row19_col3\" class=\"data row19 col3\" >+26.92%</td>\n",
       "                        <td id=\"T_60300fce_99f7_11ea_9b40_82d09608bc01row19_col4\" class=\"data row19 col4\" >+5.18%</td>\n",
       "            </tr>\n",
       "            <tr>\n",
       "                        <th id=\"T_60300fce_99f7_11ea_9b40_82d09608bc01level0_row20\" class=\"row_heading level0 row20\" >2020-04-20 16:00:00</th>\n",
       "                        <td id=\"T_60300fce_99f7_11ea_9b40_82d09608bc01row20_col0\" class=\"data row20 col0\" >16,506.47</td>\n",
       "                        <td id=\"T_60300fce_99f7_11ea_9b40_82d09608bc01row20_col1\" class=\"data row20 col1\" >20,831.73</td>\n",
       "                        <td id=\"T_60300fce_99f7_11ea_9b40_82d09608bc01row20_col2\" class=\"data row20 col2\" >+4,325</td>\n",
       "                        <td id=\"T_60300fce_99f7_11ea_9b40_82d09608bc01row20_col3\" class=\"data row20 col3\" >+26.20%</td>\n",
       "                        <td id=\"T_60300fce_99f7_11ea_9b40_82d09608bc01row20_col4\" class=\"data row20 col4\" >-0.72%</td>\n",
       "            </tr>\n",
       "            <tr>\n",
       "                        <th id=\"T_60300fce_99f7_11ea_9b40_82d09608bc01level0_row21\" class=\"row_heading level0 row21\" >2020-04-21 16:00:00</th>\n",
       "                        <td id=\"T_60300fce_99f7_11ea_9b40_82d09608bc01row21_col0\" class=\"data row21 col0\" >16,506.47</td>\n",
       "                        <td id=\"T_60300fce_99f7_11ea_9b40_82d09608bc01row21_col1\" class=\"data row21 col1\" >20,035.13</td>\n",
       "                        <td id=\"T_60300fce_99f7_11ea_9b40_82d09608bc01row21_col2\" class=\"data row21 col2\" >+3,529</td>\n",
       "                        <td id=\"T_60300fce_99f7_11ea_9b40_82d09608bc01row21_col3\" class=\"data row21 col3\" >+21.38%</td>\n",
       "                        <td id=\"T_60300fce_99f7_11ea_9b40_82d09608bc01row21_col4\" class=\"data row21 col4\" >-4.83%</td>\n",
       "            </tr>\n",
       "            <tr>\n",
       "                        <th id=\"T_60300fce_99f7_11ea_9b40_82d09608bc01level0_row22\" class=\"row_heading level0 row22\" >2020-04-22 16:00:00</th>\n",
       "                        <td id=\"T_60300fce_99f7_11ea_9b40_82d09608bc01row22_col0\" class=\"data row22 col0\" >16,506.47</td>\n",
       "                        <td id=\"T_60300fce_99f7_11ea_9b40_82d09608bc01row22_col1\" class=\"data row22 col1\" >20,674.47</td>\n",
       "                        <td id=\"T_60300fce_99f7_11ea_9b40_82d09608bc01row22_col2\" class=\"data row22 col2\" >+4,168</td>\n",
       "                        <td id=\"T_60300fce_99f7_11ea_9b40_82d09608bc01row22_col3\" class=\"data row22 col3\" >+25.25%</td>\n",
       "                        <td id=\"T_60300fce_99f7_11ea_9b40_82d09608bc01row22_col4\" class=\"data row22 col4\" >+3.87%</td>\n",
       "            </tr>\n",
       "            <tr>\n",
       "                        <th id=\"T_60300fce_99f7_11ea_9b40_82d09608bc01level0_row23\" class=\"row_heading level0 row23\" >2020-04-23 16:00:00</th>\n",
       "                        <td id=\"T_60300fce_99f7_11ea_9b40_82d09608bc01row23_col0\" class=\"data row23 col0\" >16,506.47</td>\n",
       "                        <td id=\"T_60300fce_99f7_11ea_9b40_82d09608bc01row23_col1\" class=\"data row23 col1\" >20,876.76</td>\n",
       "                        <td id=\"T_60300fce_99f7_11ea_9b40_82d09608bc01row23_col2\" class=\"data row23 col2\" >+4,370</td>\n",
       "                        <td id=\"T_60300fce_99f7_11ea_9b40_82d09608bc01row23_col3\" class=\"data row23 col3\" >+26.48%</td>\n",
       "                        <td id=\"T_60300fce_99f7_11ea_9b40_82d09608bc01row23_col4\" class=\"data row23 col4\" >+1.23%</td>\n",
       "            </tr>\n",
       "            <tr>\n",
       "                        <th id=\"T_60300fce_99f7_11ea_9b40_82d09608bc01level0_row24\" class=\"row_heading level0 row24\" >2020-04-24 16:00:00</th>\n",
       "                        <td id=\"T_60300fce_99f7_11ea_9b40_82d09608bc01row24_col0\" class=\"data row24 col0\" >16,506.47</td>\n",
       "                        <td id=\"T_60300fce_99f7_11ea_9b40_82d09608bc01row24_col1\" class=\"data row24 col1\" >20,802.49</td>\n",
       "                        <td id=\"T_60300fce_99f7_11ea_9b40_82d09608bc01row24_col2\" class=\"data row24 col2\" >+4,296</td>\n",
       "                        <td id=\"T_60300fce_99f7_11ea_9b40_82d09608bc01row24_col3\" class=\"data row24 col3\" >+26.03%</td>\n",
       "                        <td id=\"T_60300fce_99f7_11ea_9b40_82d09608bc01row24_col4\" class=\"data row24 col4\" >-0.45%</td>\n",
       "            </tr>\n",
       "            <tr>\n",
       "                        <th id=\"T_60300fce_99f7_11ea_9b40_82d09608bc01level0_row25\" class=\"row_heading level0 row25\" >2020-04-27 16:00:00</th>\n",
       "                        <td id=\"T_60300fce_99f7_11ea_9b40_82d09608bc01row25_col0\" class=\"data row25 col0\" >16,506.47</td>\n",
       "                        <td id=\"T_60300fce_99f7_11ea_9b40_82d09608bc01row25_col1\" class=\"data row25 col1\" >21,744.34</td>\n",
       "                        <td id=\"T_60300fce_99f7_11ea_9b40_82d09608bc01row25_col2\" class=\"data row25 col2\" >+5,238</td>\n",
       "                        <td id=\"T_60300fce_99f7_11ea_9b40_82d09608bc01row25_col3\" class=\"data row25 col3\" >+31.73%</td>\n",
       "                        <td id=\"T_60300fce_99f7_11ea_9b40_82d09608bc01row25_col4\" class=\"data row25 col4\" >+5.71%</td>\n",
       "            </tr>\n",
       "            <tr>\n",
       "                        <th id=\"T_60300fce_99f7_11ea_9b40_82d09608bc01level0_row26\" class=\"row_heading level0 row26\" >2020-04-28 16:00:00</th>\n",
       "                        <td id=\"T_60300fce_99f7_11ea_9b40_82d09608bc01row26_col0\" class=\"data row26 col0\" >16,506.47</td>\n",
       "                        <td id=\"T_60300fce_99f7_11ea_9b40_82d09608bc01row26_col1\" class=\"data row26 col1\" >21,923.03</td>\n",
       "                        <td id=\"T_60300fce_99f7_11ea_9b40_82d09608bc01row26_col2\" class=\"data row26 col2\" >+5,417</td>\n",
       "                        <td id=\"T_60300fce_99f7_11ea_9b40_82d09608bc01row26_col3\" class=\"data row26 col3\" >+32.81%</td>\n",
       "                        <td id=\"T_60300fce_99f7_11ea_9b40_82d09608bc01row26_col4\" class=\"data row26 col4\" >+1.08%</td>\n",
       "            </tr>\n",
       "            <tr>\n",
       "                        <th id=\"T_60300fce_99f7_11ea_9b40_82d09608bc01level0_row27\" class=\"row_heading level0 row27\" >2020-04-29 16:00:00</th>\n",
       "                        <td id=\"T_60300fce_99f7_11ea_9b40_82d09608bc01row27_col0\" class=\"data row27 col0\" >16,506.47</td>\n",
       "                        <td id=\"T_60300fce_99f7_11ea_9b40_82d09608bc01row27_col1\" class=\"data row27 col1\" >23,508.43</td>\n",
       "                        <td id=\"T_60300fce_99f7_11ea_9b40_82d09608bc01row27_col2\" class=\"data row27 col2\" >+7,002</td>\n",
       "                        <td id=\"T_60300fce_99f7_11ea_9b40_82d09608bc01row27_col3\" class=\"data row27 col3\" >+42.42%</td>\n",
       "                        <td id=\"T_60300fce_99f7_11ea_9b40_82d09608bc01row27_col4\" class=\"data row27 col4\" >+9.60%</td>\n",
       "            </tr>\n",
       "            <tr>\n",
       "                        <th id=\"T_60300fce_99f7_11ea_9b40_82d09608bc01level0_row28\" class=\"row_heading level0 row28\" >2020-04-30 16:00:00</th>\n",
       "                        <td id=\"T_60300fce_99f7_11ea_9b40_82d09608bc01row28_col0\" class=\"data row28 col0\" >16,506.47</td>\n",
       "                        <td id=\"T_60300fce_99f7_11ea_9b40_82d09608bc01row28_col1\" class=\"data row28 col1\" >23,068.26</td>\n",
       "                        <td id=\"T_60300fce_99f7_11ea_9b40_82d09608bc01row28_col2\" class=\"data row28 col2\" >+6,562</td>\n",
       "                        <td id=\"T_60300fce_99f7_11ea_9b40_82d09608bc01row28_col3\" class=\"data row28 col3\" >+39.75%</td>\n",
       "                        <td id=\"T_60300fce_99f7_11ea_9b40_82d09608bc01row28_col4\" class=\"data row28 col4\" >-2.67%</td>\n",
       "            </tr>\n",
       "            <tr>\n",
       "                        <th id=\"T_60300fce_99f7_11ea_9b40_82d09608bc01level0_row29\" class=\"row_heading level0 row29\" >2020-05-01 16:00:00</th>\n",
       "                        <td id=\"T_60300fce_99f7_11ea_9b40_82d09608bc01row29_col0\" class=\"data row29 col0\" >16,506.47</td>\n",
       "                        <td id=\"T_60300fce_99f7_11ea_9b40_82d09608bc01row29_col1\" class=\"data row29 col1\" >21,663.17</td>\n",
       "                        <td id=\"T_60300fce_99f7_11ea_9b40_82d09608bc01row29_col2\" class=\"data row29 col2\" >+5,157</td>\n",
       "                        <td id=\"T_60300fce_99f7_11ea_9b40_82d09608bc01row29_col3\" class=\"data row29 col3\" >+31.24%</td>\n",
       "                        <td id=\"T_60300fce_99f7_11ea_9b40_82d09608bc01row29_col4\" class=\"data row29 col4\" >-8.51%</td>\n",
       "            </tr>\n",
       "            <tr>\n",
       "                        <th id=\"T_60300fce_99f7_11ea_9b40_82d09608bc01level0_row30\" class=\"row_heading level0 row30\" >2020-05-04 16:00:00</th>\n",
       "                        <td id=\"T_60300fce_99f7_11ea_9b40_82d09608bc01row30_col0\" class=\"data row30 col0\" >16,506.47</td>\n",
       "                        <td id=\"T_60300fce_99f7_11ea_9b40_82d09608bc01row30_col1\" class=\"data row30 col1\" >22,035.30</td>\n",
       "                        <td id=\"T_60300fce_99f7_11ea_9b40_82d09608bc01row30_col2\" class=\"data row30 col2\" >+5,529</td>\n",
       "                        <td id=\"T_60300fce_99f7_11ea_9b40_82d09608bc01row30_col3\" class=\"data row30 col3\" >+33.49%</td>\n",
       "                        <td id=\"T_60300fce_99f7_11ea_9b40_82d09608bc01row30_col4\" class=\"data row30 col4\" >+2.25%</td>\n",
       "            </tr>\n",
       "            <tr>\n",
       "                        <th id=\"T_60300fce_99f7_11ea_9b40_82d09608bc01level0_row31\" class=\"row_heading level0 row31\" >2020-05-05 16:00:00</th>\n",
       "                        <td id=\"T_60300fce_99f7_11ea_9b40_82d09608bc01row31_col0\" class=\"data row31 col0\" >16,506.47</td>\n",
       "                        <td id=\"T_60300fce_99f7_11ea_9b40_82d09608bc01row31_col1\" class=\"data row31 col1\" >21,774.23</td>\n",
       "                        <td id=\"T_60300fce_99f7_11ea_9b40_82d09608bc01row31_col2\" class=\"data row31 col2\" >+5,268</td>\n",
       "                        <td id=\"T_60300fce_99f7_11ea_9b40_82d09608bc01row31_col3\" class=\"data row31 col3\" >+31.91%</td>\n",
       "                        <td id=\"T_60300fce_99f7_11ea_9b40_82d09608bc01row31_col4\" class=\"data row31 col4\" >-1.58%</td>\n",
       "            </tr>\n",
       "            <tr>\n",
       "                        <th id=\"T_60300fce_99f7_11ea_9b40_82d09608bc01level0_row32\" class=\"row_heading level0 row32\" >2020-05-06 16:00:00</th>\n",
       "                        <td id=\"T_60300fce_99f7_11ea_9b40_82d09608bc01row32_col0\" class=\"data row32 col0\" >16,506.47</td>\n",
       "                        <td id=\"T_60300fce_99f7_11ea_9b40_82d09608bc01row32_col1\" class=\"data row32 col1\" >22,071.97</td>\n",
       "                        <td id=\"T_60300fce_99f7_11ea_9b40_82d09608bc01row32_col2\" class=\"data row32 col2\" >+5,566</td>\n",
       "                        <td id=\"T_60300fce_99f7_11ea_9b40_82d09608bc01row32_col3\" class=\"data row32 col3\" >+33.72%</td>\n",
       "                        <td id=\"T_60300fce_99f7_11ea_9b40_82d09608bc01row32_col4\" class=\"data row32 col4\" >+1.80%</td>\n",
       "            </tr>\n",
       "            <tr>\n",
       "                        <th id=\"T_60300fce_99f7_11ea_9b40_82d09608bc01level0_row33\" class=\"row_heading level0 row33\" >2020-05-07 16:00:00</th>\n",
       "                        <td id=\"T_60300fce_99f7_11ea_9b40_82d09608bc01row33_col0\" class=\"data row33 col0\" >16,506.47</td>\n",
       "                        <td id=\"T_60300fce_99f7_11ea_9b40_82d09608bc01row33_col1\" class=\"data row33 col1\" >22,392.97</td>\n",
       "                        <td id=\"T_60300fce_99f7_11ea_9b40_82d09608bc01row33_col2\" class=\"data row33 col2\" >+5,887</td>\n",
       "                        <td id=\"T_60300fce_99f7_11ea_9b40_82d09608bc01row33_col3\" class=\"data row33 col3\" >+35.66%</td>\n",
       "                        <td id=\"T_60300fce_99f7_11ea_9b40_82d09608bc01row33_col4\" class=\"data row33 col4\" >+1.94%</td>\n",
       "            </tr>\n",
       "            <tr>\n",
       "                        <th id=\"T_60300fce_99f7_11ea_9b40_82d09608bc01level0_row34\" class=\"row_heading level0 row34\" >2020-05-08 16:00:00</th>\n",
       "                        <td id=\"T_60300fce_99f7_11ea_9b40_82d09608bc01row34_col0\" class=\"data row34 col0\" >16,506.47</td>\n",
       "                        <td id=\"T_60300fce_99f7_11ea_9b40_82d09608bc01row34_col1\" class=\"data row34 col1\" >22,843.70</td>\n",
       "                        <td id=\"T_60300fce_99f7_11ea_9b40_82d09608bc01row34_col2\" class=\"data row34 col2\" >+6,337</td>\n",
       "                        <td id=\"T_60300fce_99f7_11ea_9b40_82d09608bc01row34_col3\" class=\"data row34 col3\" >+38.39%</td>\n",
       "                        <td id=\"T_60300fce_99f7_11ea_9b40_82d09608bc01row34_col4\" class=\"data row34 col4\" >+2.73%</td>\n",
       "            </tr>\n",
       "            <tr>\n",
       "                        <th id=\"T_60300fce_99f7_11ea_9b40_82d09608bc01level0_row35\" class=\"row_heading level0 row35\" >2020-05-11 16:00:00</th>\n",
       "                        <td id=\"T_60300fce_99f7_11ea_9b40_82d09608bc01row35_col0\" class=\"data row35 col0\" >16,506.47</td>\n",
       "                        <td id=\"T_60300fce_99f7_11ea_9b40_82d09608bc01row35_col1\" class=\"data row35 col1\" >24,386.81</td>\n",
       "                        <td id=\"T_60300fce_99f7_11ea_9b40_82d09608bc01row35_col2\" class=\"data row35 col2\" >+7,880</td>\n",
       "                        <td id=\"T_60300fce_99f7_11ea_9b40_82d09608bc01row35_col3\" class=\"data row35 col3\" >+47.74%</td>\n",
       "                        <td id=\"T_60300fce_99f7_11ea_9b40_82d09608bc01row35_col4\" class=\"data row35 col4\" >+9.35%</td>\n",
       "            </tr>\n",
       "            <tr>\n",
       "                        <th id=\"T_60300fce_99f7_11ea_9b40_82d09608bc01level0_row36\" class=\"row_heading level0 row36\" >2020-05-12 16:00:00</th>\n",
       "                        <td id=\"T_60300fce_99f7_11ea_9b40_82d09608bc01row36_col0\" class=\"data row36 col0\" >16,506.47</td>\n",
       "                        <td id=\"T_60300fce_99f7_11ea_9b40_82d09608bc01row36_col1\" class=\"data row36 col1\" >23,865.44</td>\n",
       "                        <td id=\"T_60300fce_99f7_11ea_9b40_82d09608bc01row36_col2\" class=\"data row36 col2\" >+7,359</td>\n",
       "                        <td id=\"T_60300fce_99f7_11ea_9b40_82d09608bc01row36_col3\" class=\"data row36 col3\" >+44.58%</td>\n",
       "                        <td id=\"T_60300fce_99f7_11ea_9b40_82d09608bc01row36_col4\" class=\"data row36 col4\" >-3.16%</td>\n",
       "            </tr>\n",
       "            <tr>\n",
       "                        <th id=\"T_60300fce_99f7_11ea_9b40_82d09608bc01level0_row37\" class=\"row_heading level0 row37\" >2020-05-13 16:00:00</th>\n",
       "                        <td id=\"T_60300fce_99f7_11ea_9b40_82d09608bc01row37_col0\" class=\"data row37 col0\" >16,506.47</td>\n",
       "                        <td id=\"T_60300fce_99f7_11ea_9b40_82d09608bc01row37_col1\" class=\"data row37 col1\" >23,239.91</td>\n",
       "                        <td id=\"T_60300fce_99f7_11ea_9b40_82d09608bc01row37_col2\" class=\"data row37 col2\" >+6,733</td>\n",
       "                        <td id=\"T_60300fce_99f7_11ea_9b40_82d09608bc01row37_col3\" class=\"data row37 col3\" >+40.79%</td>\n",
       "                        <td id=\"T_60300fce_99f7_11ea_9b40_82d09608bc01row37_col4\" class=\"data row37 col4\" >-3.79%</td>\n",
       "            </tr>\n",
       "            <tr>\n",
       "                        <th id=\"T_60300fce_99f7_11ea_9b40_82d09608bc01level0_row38\" class=\"row_heading level0 row38\" >2020-05-14 16:00:00</th>\n",
       "                        <td id=\"T_60300fce_99f7_11ea_9b40_82d09608bc01row38_col0\" class=\"data row38 col0\" >16,506.47</td>\n",
       "                        <td id=\"T_60300fce_99f7_11ea_9b40_82d09608bc01row38_col1\" class=\"data row38 col1\" >23,369.67</td>\n",
       "                        <td id=\"T_60300fce_99f7_11ea_9b40_82d09608bc01row38_col2\" class=\"data row38 col2\" >+6,863</td>\n",
       "                        <td id=\"T_60300fce_99f7_11ea_9b40_82d09608bc01row38_col3\" class=\"data row38 col3\" >+41.58%</td>\n",
       "                        <td id=\"T_60300fce_99f7_11ea_9b40_82d09608bc01row38_col4\" class=\"data row38 col4\" >+0.79%</td>\n",
       "            </tr>\n",
       "            <tr>\n",
       "                        <th id=\"T_60300fce_99f7_11ea_9b40_82d09608bc01level0_row39\" class=\"row_heading level0 row39\" >2020-05-15 16:00:00</th>\n",
       "                        <td id=\"T_60300fce_99f7_11ea_9b40_82d09608bc01row39_col0\" class=\"data row39 col0\" >16,506.47</td>\n",
       "                        <td id=\"T_60300fce_99f7_11ea_9b40_82d09608bc01row39_col1\" class=\"data row39 col1\" >23,534.02</td>\n",
       "                        <td id=\"T_60300fce_99f7_11ea_9b40_82d09608bc01row39_col2\" class=\"data row39 col2\" >+7,028</td>\n",
       "                        <td id=\"T_60300fce_99f7_11ea_9b40_82d09608bc01row39_col3\" class=\"data row39 col3\" >+42.57%</td>\n",
       "                        <td id=\"T_60300fce_99f7_11ea_9b40_82d09608bc01row39_col4\" class=\"data row39 col4\" >+1.00%</td>\n",
       "            </tr>\n",
       "            <tr>\n",
       "                        <th id=\"T_60300fce_99f7_11ea_9b40_82d09608bc01level0_row40\" class=\"row_heading level0 row40\" >2020-05-18 16:00:00</th>\n",
       "                        <td id=\"T_60300fce_99f7_11ea_9b40_82d09608bc01row40_col0\" class=\"data row40 col0\" >16,506.47</td>\n",
       "                        <td id=\"T_60300fce_99f7_11ea_9b40_82d09608bc01row40_col1\" class=\"data row40 col1\" >23,724.42</td>\n",
       "                        <td id=\"T_60300fce_99f7_11ea_9b40_82d09608bc01row40_col2\" class=\"data row40 col2\" >+7,218</td>\n",
       "                        <td id=\"T_60300fce_99f7_11ea_9b40_82d09608bc01row40_col3\" class=\"data row40 col3\" >+43.73%</td>\n",
       "                        <td id=\"T_60300fce_99f7_11ea_9b40_82d09608bc01row40_col4\" class=\"data row40 col4\" >+1.15%</td>\n",
       "            </tr>\n",
       "            <tr>\n",
       "                        <th id=\"T_60300fce_99f7_11ea_9b40_82d09608bc01level0_row41\" class=\"row_heading level0 row41\" >2020-05-19 16:00:00</th>\n",
       "                        <td id=\"T_60300fce_99f7_11ea_9b40_82d09608bc01row41_col0\" class=\"data row41 col0\" >16,506.47</td>\n",
       "                        <td id=\"T_60300fce_99f7_11ea_9b40_82d09608bc01row41_col1\" class=\"data row41 col1\" >23,885.66</td>\n",
       "                        <td id=\"T_60300fce_99f7_11ea_9b40_82d09608bc01row41_col2\" class=\"data row41 col2\" >+7,379</td>\n",
       "                        <td id=\"T_60300fce_99f7_11ea_9b40_82d09608bc01row41_col3\" class=\"data row41 col3\" >+44.70%</td>\n",
       "                        <td id=\"T_60300fce_99f7_11ea_9b40_82d09608bc01row41_col4\" class=\"data row41 col4\" >+0.98%</td>\n",
       "            </tr>\n",
       "    </tbody></table>"
      ],
      "text/plain": [
       "<pandas.io.formats.style.Styler at 0x11aadcd68>"
      ]
     },
     "execution_count": 8,
     "metadata": {},
     "output_type": "execute_result"
    }
   ],
   "source": [
    "performance_total \\\n",
    "    .assign(gain_pct_diff=lambda df: df['gain_pct'].diff()) \\\n",
    "    .style.format('{:,.2f}').format({'gain':'{:+,.0f}', 'gain_pct':'{:+.2%}', 'gain_pct_diff':'{:+.2%}'}) \\\n",
    "    .applymap(color_sign, subset=['gain', 'gain_pct', 'gain_pct_diff'])"
   ]
  }
 ],
 "metadata": {
  "hide_input": false,
  "kernelspec": {
   "display_name": "Python 3",
   "language": "python",
   "name": "python3"
  },
  "language_info": {
   "codemirror_mode": {
    "name": "ipython",
    "version": 3
   },
   "file_extension": ".py",
   "mimetype": "text/x-python",
   "name": "python",
   "nbconvert_exporter": "python",
   "pygments_lexer": "ipython3",
   "version": "3.7.3"
  },
  "toc": {
   "base_numbering": 1,
   "nav_menu": {},
   "number_sections": true,
   "sideBar": true,
   "skip_h1_title": true,
   "title_cell": "Table of Contents",
   "title_sidebar": "Contents",
   "toc_cell": false,
   "toc_position": {},
   "toc_section_display": true,
   "toc_window_display": true
  }
 },
 "nbformat": 4,
 "nbformat_minor": 2
}
